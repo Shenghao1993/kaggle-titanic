{
 "cells": [
  {
   "cell_type": "code",
   "execution_count": 1,
   "metadata": {},
   "outputs": [],
   "source": [
    "import numpy as np\n",
    "import pandas as pd\n",
    "import time\n",
    "import warnings\n",
    "import matplotlib.pyplot as plt\n",
    "from pprint import pprint\n",
    "from sklearn.linear_model import LogisticRegression\n",
    "from sklearn.ensemble import RandomForestClassifier\n",
    "from sklearn.svm import SVC\n",
    "from xgboost import XGBClassifier\n",
    "from sklearn.model_selection import RandomizedSearchCV, GridSearchCV\n",
    "from helpers import preprocess, evaluate, select_params\n",
    "\n",
    "%matplotlib inline\n",
    "plt.style.use('bmh')\n",
    "warnings.filterwarnings('ignore')"
   ]
  },
  {
   "cell_type": "markdown",
   "metadata": {},
   "source": [
    "# Chapter IV - Fit Machine Learning Models\n",
    "Perform feature engineering on the combined training & test dataset before fitting machine learning models."
   ]
  },
  {
   "cell_type": "code",
   "execution_count": 2,
   "metadata": {},
   "outputs": [
    {
     "name": "stdout",
     "output_type": "stream",
     "text": [
      "Index(['PassengerId', 'Age', 'Room', 'Fare', 'Parch', 'Pclass', 'SibSp',\n",
      "       'Survived', 'Deck_A', 'Deck_B', 'Deck_C', 'Deck_D', 'Deck_E', 'Deck_F',\n",
      "       'Deck_G', 'Deck_T', 'Deck_U', 'Embarked_C', 'Embarked_Q', 'Embarked_S',\n",
      "       'Title_Master', 'Title_Miss', 'Title_Mr', 'Title_Mrs', 'Title_Other',\n",
      "       'Sex_female', 'Sex_male'],\n",
      "      dtype='object')\n",
      "Number of passengers with age data: 1046\n",
      "Number of passengers with no age data: 263\n",
      "Selected features:  ['Room', 'Fare', 'Parch', 'Pclass', 'SibSp', 'Deck_A', 'Deck_B', 'Deck_C', 'Deck_D', 'Deck_E', 'Deck_F', 'Deck_G', 'Deck_T', 'Deck_U', 'Embarked_C', 'Embarked_Q', 'Embarked_S', 'Title_Master', 'Title_Miss', 'Title_Mr', 'Title_Mrs', 'Title_Other', 'Sex_female', 'Sex_male']\n",
      "(1309, 29)\n"
     ]
    },
    {
     "data": {
      "text/html": [
       "<div>\n",
       "<style scoped>\n",
       "    .dataframe tbody tr th:only-of-type {\n",
       "        vertical-align: middle;\n",
       "    }\n",
       "\n",
       "    .dataframe tbody tr th {\n",
       "        vertical-align: top;\n",
       "    }\n",
       "\n",
       "    .dataframe thead th {\n",
       "        text-align: right;\n",
       "    }\n",
       "</style>\n",
       "<table border=\"1\" class=\"dataframe\">\n",
       "  <thead>\n",
       "    <tr style=\"text-align: right;\">\n",
       "      <th></th>\n",
       "      <th>PassengerId</th>\n",
       "      <th>Age</th>\n",
       "      <th>Room</th>\n",
       "      <th>Fare</th>\n",
       "      <th>Parch</th>\n",
       "      <th>Pclass</th>\n",
       "      <th>SibSp</th>\n",
       "      <th>Survived</th>\n",
       "      <th>Deck_A</th>\n",
       "      <th>Deck_B</th>\n",
       "      <th>...</th>\n",
       "      <th>Embarked_S</th>\n",
       "      <th>Title_Master</th>\n",
       "      <th>Title_Miss</th>\n",
       "      <th>Title_Mr</th>\n",
       "      <th>Title_Mrs</th>\n",
       "      <th>Title_Other</th>\n",
       "      <th>Sex_female</th>\n",
       "      <th>Sex_male</th>\n",
       "      <th>Predicted_Age</th>\n",
       "      <th>Name</th>\n",
       "    </tr>\n",
       "  </thead>\n",
       "  <tbody>\n",
       "    <tr>\n",
       "      <th>0</th>\n",
       "      <td>1</td>\n",
       "      <td>22.0</td>\n",
       "      <td>49.615917</td>\n",
       "      <td>7.2500</td>\n",
       "      <td>0</td>\n",
       "      <td>3</td>\n",
       "      <td>1</td>\n",
       "      <td>0.0</td>\n",
       "      <td>0</td>\n",
       "      <td>0</td>\n",
       "      <td>...</td>\n",
       "      <td>1</td>\n",
       "      <td>0</td>\n",
       "      <td>0</td>\n",
       "      <td>1</td>\n",
       "      <td>0</td>\n",
       "      <td>0</td>\n",
       "      <td>0</td>\n",
       "      <td>1</td>\n",
       "      <td>22.0</td>\n",
       "      <td>Braund, Mr. Owen Harris</td>\n",
       "    </tr>\n",
       "    <tr>\n",
       "      <th>1</th>\n",
       "      <td>2</td>\n",
       "      <td>38.0</td>\n",
       "      <td>85.000000</td>\n",
       "      <td>71.2833</td>\n",
       "      <td>0</td>\n",
       "      <td>1</td>\n",
       "      <td>1</td>\n",
       "      <td>1.0</td>\n",
       "      <td>0</td>\n",
       "      <td>0</td>\n",
       "      <td>...</td>\n",
       "      <td>0</td>\n",
       "      <td>0</td>\n",
       "      <td>0</td>\n",
       "      <td>0</td>\n",
       "      <td>1</td>\n",
       "      <td>0</td>\n",
       "      <td>1</td>\n",
       "      <td>0</td>\n",
       "      <td>38.0</td>\n",
       "      <td>Cumings, Mrs. John Bradley (Florence Briggs Th...</td>\n",
       "    </tr>\n",
       "    <tr>\n",
       "      <th>2</th>\n",
       "      <td>3</td>\n",
       "      <td>26.0</td>\n",
       "      <td>49.615917</td>\n",
       "      <td>7.9250</td>\n",
       "      <td>0</td>\n",
       "      <td>3</td>\n",
       "      <td>0</td>\n",
       "      <td>1.0</td>\n",
       "      <td>0</td>\n",
       "      <td>0</td>\n",
       "      <td>...</td>\n",
       "      <td>1</td>\n",
       "      <td>0</td>\n",
       "      <td>1</td>\n",
       "      <td>0</td>\n",
       "      <td>0</td>\n",
       "      <td>0</td>\n",
       "      <td>1</td>\n",
       "      <td>0</td>\n",
       "      <td>26.0</td>\n",
       "      <td>Heikkinen, Miss. Laina</td>\n",
       "    </tr>\n",
       "    <tr>\n",
       "      <th>3</th>\n",
       "      <td>4</td>\n",
       "      <td>35.0</td>\n",
       "      <td>123.000000</td>\n",
       "      <td>53.1000</td>\n",
       "      <td>0</td>\n",
       "      <td>1</td>\n",
       "      <td>1</td>\n",
       "      <td>1.0</td>\n",
       "      <td>0</td>\n",
       "      <td>0</td>\n",
       "      <td>...</td>\n",
       "      <td>1</td>\n",
       "      <td>0</td>\n",
       "      <td>0</td>\n",
       "      <td>0</td>\n",
       "      <td>1</td>\n",
       "      <td>0</td>\n",
       "      <td>1</td>\n",
       "      <td>0</td>\n",
       "      <td>35.0</td>\n",
       "      <td>Futrelle, Mrs. Jacques Heath (Lily May Peel)</td>\n",
       "    </tr>\n",
       "    <tr>\n",
       "      <th>4</th>\n",
       "      <td>5</td>\n",
       "      <td>35.0</td>\n",
       "      <td>49.615917</td>\n",
       "      <td>8.0500</td>\n",
       "      <td>0</td>\n",
       "      <td>3</td>\n",
       "      <td>0</td>\n",
       "      <td>0.0</td>\n",
       "      <td>0</td>\n",
       "      <td>0</td>\n",
       "      <td>...</td>\n",
       "      <td>1</td>\n",
       "      <td>0</td>\n",
       "      <td>0</td>\n",
       "      <td>1</td>\n",
       "      <td>0</td>\n",
       "      <td>0</td>\n",
       "      <td>0</td>\n",
       "      <td>1</td>\n",
       "      <td>35.0</td>\n",
       "      <td>Allen, Mr. William Henry</td>\n",
       "    </tr>\n",
       "  </tbody>\n",
       "</table>\n",
       "<p>5 rows × 29 columns</p>\n",
       "</div>"
      ],
      "text/plain": [
       "   PassengerId   Age        Room     Fare  Parch  Pclass  SibSp  Survived  \\\n",
       "0            1  22.0   49.615917   7.2500      0       3      1       0.0   \n",
       "1            2  38.0   85.000000  71.2833      0       1      1       1.0   \n",
       "2            3  26.0   49.615917   7.9250      0       3      0       1.0   \n",
       "3            4  35.0  123.000000  53.1000      0       1      1       1.0   \n",
       "4            5  35.0   49.615917   8.0500      0       3      0       0.0   \n",
       "\n",
       "   Deck_A  Deck_B                        ...                          \\\n",
       "0       0       0                        ...                           \n",
       "1       0       0                        ...                           \n",
       "2       0       0                        ...                           \n",
       "3       0       0                        ...                           \n",
       "4       0       0                        ...                           \n",
       "\n",
       "   Embarked_S  Title_Master  Title_Miss  Title_Mr  Title_Mrs  Title_Other  \\\n",
       "0           1             0           0         1          0            0   \n",
       "1           0             0           0         0          1            0   \n",
       "2           1             0           1         0          0            0   \n",
       "3           1             0           0         0          1            0   \n",
       "4           1             0           0         1          0            0   \n",
       "\n",
       "   Sex_female  Sex_male  Predicted_Age  \\\n",
       "0           0         1           22.0   \n",
       "1           1         0           38.0   \n",
       "2           1         0           26.0   \n",
       "3           1         0           35.0   \n",
       "4           0         1           35.0   \n",
       "\n",
       "                                                Name  \n",
       "0                            Braund, Mr. Owen Harris  \n",
       "1  Cumings, Mrs. John Bradley (Florence Briggs Th...  \n",
       "2                             Heikkinen, Miss. Laina  \n",
       "3       Futrelle, Mrs. Jacques Heath (Lily May Peel)  \n",
       "4                           Allen, Mr. William Henry  \n",
       "\n",
       "[5 rows x 29 columns]"
      ]
     },
     "execution_count": 2,
     "metadata": {},
     "output_type": "execute_result"
    }
   ],
   "source": [
    "processed_df, features = preprocess(\"input/train.csv\", \"input/test.csv\")\n",
    "print(\"Selected features: \", features)\n",
    "print(processed_df.shape)\n",
    "processed_df.head()"
   ]
  },
  {
   "cell_type": "code",
   "execution_count": 3,
   "metadata": {},
   "outputs": [
    {
     "name": "stdout",
     "output_type": "stream",
     "text": [
      "Dimension of training data: (891, 29)\n",
      "Dimension of test data: (418, 29)\n"
     ]
    }
   ],
   "source": [
    "train_df = processed_df[processed_df.Survived.notnull()]\n",
    "test_df = processed_df[processed_df['Survived'].isnull()]\n",
    "print(\"Dimension of training data: %s\" %str(train_df.shape))\n",
    "print(\"Dimension of test data: %s\" %str(test_df.shape))"
   ]
  },
  {
   "cell_type": "markdown",
   "metadata": {},
   "source": [
    "Split the full dataset with all selected features well prepared."
   ]
  },
  {
   "cell_type": "markdown",
   "metadata": {},
   "source": [
    "Normalize the passengers' name by removing the quotation mark"
   ]
  },
  {
   "cell_type": "code",
   "execution_count": 4,
   "metadata": {},
   "outputs": [
    {
     "data": {
      "text/html": [
       "<div>\n",
       "<style scoped>\n",
       "    .dataframe tbody tr th:only-of-type {\n",
       "        vertical-align: middle;\n",
       "    }\n",
       "\n",
       "    .dataframe tbody tr th {\n",
       "        vertical-align: top;\n",
       "    }\n",
       "\n",
       "    .dataframe thead th {\n",
       "        text-align: right;\n",
       "    }\n",
       "</style>\n",
       "<table border=\"1\" class=\"dataframe\">\n",
       "  <thead>\n",
       "    <tr style=\"text-align: right;\">\n",
       "      <th></th>\n",
       "      <th>PassengerId</th>\n",
       "      <th>Age</th>\n",
       "      <th>Room</th>\n",
       "      <th>Fare</th>\n",
       "      <th>Parch</th>\n",
       "      <th>Pclass</th>\n",
       "      <th>SibSp</th>\n",
       "      <th>Survived</th>\n",
       "      <th>Deck_A</th>\n",
       "      <th>Deck_B</th>\n",
       "      <th>...</th>\n",
       "      <th>Title_Mr</th>\n",
       "      <th>Title_Mrs</th>\n",
       "      <th>Title_Other</th>\n",
       "      <th>Sex_female</th>\n",
       "      <th>Sex_male</th>\n",
       "      <th>Predicted_Age</th>\n",
       "      <th>Name</th>\n",
       "      <th>cleaned_name</th>\n",
       "      <th>age</th>\n",
       "      <th>Ground_Truth</th>\n",
       "    </tr>\n",
       "  </thead>\n",
       "  <tbody>\n",
       "    <tr>\n",
       "      <th>0</th>\n",
       "      <td>892</td>\n",
       "      <td>34.5</td>\n",
       "      <td>49.615917</td>\n",
       "      <td>7.8292</td>\n",
       "      <td>0</td>\n",
       "      <td>3</td>\n",
       "      <td>0</td>\n",
       "      <td>NaN</td>\n",
       "      <td>0</td>\n",
       "      <td>0</td>\n",
       "      <td>...</td>\n",
       "      <td>1</td>\n",
       "      <td>0</td>\n",
       "      <td>0</td>\n",
       "      <td>0</td>\n",
       "      <td>1</td>\n",
       "      <td>34.5</td>\n",
       "      <td>Kelly, Mr. James</td>\n",
       "      <td>Kelly, Mr. James</td>\n",
       "      <td>34.5</td>\n",
       "      <td>0</td>\n",
       "    </tr>\n",
       "    <tr>\n",
       "      <th>1</th>\n",
       "      <td>893</td>\n",
       "      <td>47.0</td>\n",
       "      <td>49.615917</td>\n",
       "      <td>7.0000</td>\n",
       "      <td>0</td>\n",
       "      <td>3</td>\n",
       "      <td>1</td>\n",
       "      <td>NaN</td>\n",
       "      <td>0</td>\n",
       "      <td>0</td>\n",
       "      <td>...</td>\n",
       "      <td>0</td>\n",
       "      <td>1</td>\n",
       "      <td>0</td>\n",
       "      <td>1</td>\n",
       "      <td>0</td>\n",
       "      <td>47.0</td>\n",
       "      <td>Wilkes, Mrs. James (Ellen Needs)</td>\n",
       "      <td>Wilkes, Mrs. James (Ellen Needs)</td>\n",
       "      <td>47.0</td>\n",
       "      <td>1</td>\n",
       "    </tr>\n",
       "    <tr>\n",
       "      <th>2</th>\n",
       "      <td>894</td>\n",
       "      <td>62.0</td>\n",
       "      <td>49.615917</td>\n",
       "      <td>9.6875</td>\n",
       "      <td>0</td>\n",
       "      <td>2</td>\n",
       "      <td>0</td>\n",
       "      <td>NaN</td>\n",
       "      <td>0</td>\n",
       "      <td>0</td>\n",
       "      <td>...</td>\n",
       "      <td>1</td>\n",
       "      <td>0</td>\n",
       "      <td>0</td>\n",
       "      <td>0</td>\n",
       "      <td>1</td>\n",
       "      <td>62.0</td>\n",
       "      <td>Myles, Mr. Thomas Francis</td>\n",
       "      <td>Myles, Mr. Thomas Francis</td>\n",
       "      <td>62.0</td>\n",
       "      <td>0</td>\n",
       "    </tr>\n",
       "    <tr>\n",
       "      <th>3</th>\n",
       "      <td>895</td>\n",
       "      <td>27.0</td>\n",
       "      <td>49.615917</td>\n",
       "      <td>8.6625</td>\n",
       "      <td>0</td>\n",
       "      <td>3</td>\n",
       "      <td>0</td>\n",
       "      <td>NaN</td>\n",
       "      <td>0</td>\n",
       "      <td>0</td>\n",
       "      <td>...</td>\n",
       "      <td>1</td>\n",
       "      <td>0</td>\n",
       "      <td>0</td>\n",
       "      <td>0</td>\n",
       "      <td>1</td>\n",
       "      <td>27.0</td>\n",
       "      <td>Wirz, Mr. Albert</td>\n",
       "      <td>Wirz, Mr. Albert</td>\n",
       "      <td>27.0</td>\n",
       "      <td>0</td>\n",
       "    </tr>\n",
       "    <tr>\n",
       "      <th>4</th>\n",
       "      <td>896</td>\n",
       "      <td>22.0</td>\n",
       "      <td>49.615917</td>\n",
       "      <td>12.2875</td>\n",
       "      <td>1</td>\n",
       "      <td>3</td>\n",
       "      <td>1</td>\n",
       "      <td>NaN</td>\n",
       "      <td>0</td>\n",
       "      <td>0</td>\n",
       "      <td>...</td>\n",
       "      <td>0</td>\n",
       "      <td>1</td>\n",
       "      <td>0</td>\n",
       "      <td>1</td>\n",
       "      <td>0</td>\n",
       "      <td>22.0</td>\n",
       "      <td>Hirvonen, Mrs. Alexander (Helga E Lindqvist)</td>\n",
       "      <td>Hirvonen, Mrs. Alexander (Helga E Lindqvist)</td>\n",
       "      <td>22.0</td>\n",
       "      <td>1</td>\n",
       "    </tr>\n",
       "  </tbody>\n",
       "</table>\n",
       "<p>5 rows × 32 columns</p>\n",
       "</div>"
      ],
      "text/plain": [
       "   PassengerId   Age       Room     Fare  Parch  Pclass  SibSp  Survived  \\\n",
       "0          892  34.5  49.615917   7.8292      0       3      0       NaN   \n",
       "1          893  47.0  49.615917   7.0000      0       3      1       NaN   \n",
       "2          894  62.0  49.615917   9.6875      0       2      0       NaN   \n",
       "3          895  27.0  49.615917   8.6625      0       3      0       NaN   \n",
       "4          896  22.0  49.615917  12.2875      1       3      1       NaN   \n",
       "\n",
       "   Deck_A  Deck_B      ...       Title_Mr  Title_Mrs  Title_Other  Sex_female  \\\n",
       "0       0       0      ...              1          0            0           0   \n",
       "1       0       0      ...              0          1            0           1   \n",
       "2       0       0      ...              1          0            0           0   \n",
       "3       0       0      ...              1          0            0           0   \n",
       "4       0       0      ...              0          1            0           1   \n",
       "\n",
       "   Sex_male  Predicted_Age                                          Name  \\\n",
       "0         1           34.5                              Kelly, Mr. James   \n",
       "1         0           47.0              Wilkes, Mrs. James (Ellen Needs)   \n",
       "2         1           62.0                     Myles, Mr. Thomas Francis   \n",
       "3         1           27.0                              Wirz, Mr. Albert   \n",
       "4         0           22.0  Hirvonen, Mrs. Alexander (Helga E Lindqvist)   \n",
       "\n",
       "                                   cleaned_name   age  Ground_Truth  \n",
       "0                              Kelly, Mr. James  34.5             0  \n",
       "1              Wilkes, Mrs. James (Ellen Needs)  47.0             1  \n",
       "2                     Myles, Mr. Thomas Francis  62.0             0  \n",
       "3                              Wirz, Mr. Albert  27.0             0  \n",
       "4  Hirvonen, Mrs. Alexander (Helga E Lindqvist)  22.0             1  \n",
       "\n",
       "[5 rows x 32 columns]"
      ]
     },
     "execution_count": 4,
     "metadata": {},
     "output_type": "execute_result"
    }
   ],
   "source": [
    "test_df[\"cleaned_name\"] = test_df[\"Name\"].apply(lambda name: name.replace('\\\"', ''))\n",
    "ground_truth_df = pd.read_csv(\"input/ground-truth.csv\")\n",
    "ground_truth_df[\"cleaned_name\"] = ground_truth_df[\"name\"].apply(lambda name: name.replace('\\\"', ''))\n",
    "test_df = pd.merge(test_df, ground_truth_df[[\"cleaned_name\", \"age\", \"survived\"]], how=\"left\",\n",
    "                   left_on=[\"cleaned_name\", \"Age\"], right_on=[\"cleaned_name\", \"age\"])\n",
    "test_df = test_df.rename(columns={\"survived\": \"Ground_Truth\"})\n",
    "test_df.head()"
   ]
  },
  {
   "cell_type": "markdown",
   "metadata": {},
   "source": [
    "Verify complete match between test data and ground truth"
   ]
  },
  {
   "cell_type": "code",
   "execution_count": 5,
   "metadata": {},
   "outputs": [
    {
     "data": {
      "text/html": [
       "<div>\n",
       "<style scoped>\n",
       "    .dataframe tbody tr th:only-of-type {\n",
       "        vertical-align: middle;\n",
       "    }\n",
       "\n",
       "    .dataframe tbody tr th {\n",
       "        vertical-align: top;\n",
       "    }\n",
       "\n",
       "    .dataframe thead th {\n",
       "        text-align: right;\n",
       "    }\n",
       "</style>\n",
       "<table border=\"1\" class=\"dataframe\">\n",
       "  <thead>\n",
       "    <tr style=\"text-align: right;\">\n",
       "      <th></th>\n",
       "      <th>PassengerId</th>\n",
       "      <th>Age</th>\n",
       "      <th>Room</th>\n",
       "      <th>Fare</th>\n",
       "      <th>Parch</th>\n",
       "      <th>Pclass</th>\n",
       "      <th>SibSp</th>\n",
       "      <th>Survived</th>\n",
       "      <th>Deck_A</th>\n",
       "      <th>Deck_B</th>\n",
       "      <th>...</th>\n",
       "      <th>Title_Mr</th>\n",
       "      <th>Title_Mrs</th>\n",
       "      <th>Title_Other</th>\n",
       "      <th>Sex_female</th>\n",
       "      <th>Sex_male</th>\n",
       "      <th>Predicted_Age</th>\n",
       "      <th>Name</th>\n",
       "      <th>cleaned_name</th>\n",
       "      <th>age</th>\n",
       "      <th>Ground_Truth</th>\n",
       "    </tr>\n",
       "  </thead>\n",
       "  <tbody>\n",
       "  </tbody>\n",
       "</table>\n",
       "<p>0 rows × 32 columns</p>\n",
       "</div>"
      ],
      "text/plain": [
       "Empty DataFrame\n",
       "Columns: [PassengerId, Age, Room, Fare, Parch, Pclass, SibSp, Survived, Deck_A, Deck_B, Deck_C, Deck_D, Deck_E, Deck_F, Deck_G, Deck_T, Deck_U, Embarked_C, Embarked_Q, Embarked_S, Title_Master, Title_Miss, Title_Mr, Title_Mrs, Title_Other, Sex_female, Sex_male, Predicted_Age, Name, cleaned_name, age, Ground_Truth]\n",
       "Index: []\n",
       "\n",
       "[0 rows x 32 columns]"
      ]
     },
     "execution_count": 5,
     "metadata": {},
     "output_type": "execute_result"
    }
   ],
   "source": [
    "test_df[test_df[\"Ground_Truth\"].isnull()]"
   ]
  },
  {
   "cell_type": "code",
   "execution_count": 6,
   "metadata": {},
   "outputs": [
    {
     "name": "stdout",
     "output_type": "stream",
     "text": [
      "['Room', 'Fare', 'Parch', 'Pclass', 'SibSp', 'Deck_A', 'Deck_B', 'Deck_C', 'Deck_D', 'Deck_E', 'Deck_F', 'Deck_G', 'Deck_T', 'Deck_U', 'Embarked_C', 'Embarked_Q', 'Embarked_S', 'Title_Master', 'Title_Miss', 'Title_Mr', 'Title_Mrs', 'Title_Other', 'Sex_female', 'Sex_male', 'Predicted_Age']\n"
     ]
    }
   ],
   "source": [
    "valid_features = features.copy()\n",
    "valid_features.append('Predicted_Age')\n",
    "print(valid_features)"
   ]
  },
  {
   "cell_type": "markdown",
   "metadata": {},
   "source": [
    "## 4.1 Logistic Regression"
   ]
  },
  {
   "cell_type": "code",
   "execution_count": 7,
   "metadata": {},
   "outputs": [
    {
     "name": "stdout",
     "output_type": "stream",
     "text": [
      "LogisticRegression(C=1.0, class_weight=None, dual=False, fit_intercept=True,\n",
      "          intercept_scaling=1, max_iter=100, multi_class='warn',\n",
      "          n_jobs=None, penalty='l2', random_state=None, solver='warn',\n",
      "          tol=0.0001, verbose=0, warm_start=False)\n",
      "[[208  52]\n",
      " [ 43 115]]\n",
      "True positive:  115\n",
      "True negative:  208\n",
      "False positive:  52\n",
      "False negative:  43\n",
      "Accuracy = (tp + tn) / (p + n), Accuracy =  0.772727\n",
      "Precision = tp / (tp + fp), Precision =  0.688623\n",
      "Recall = tp / (tp + fn), Recall =  0.727848\n",
      "ROC =  0.763924\n"
     ]
    }
   ],
   "source": [
    "survival_logreg = LogisticRegression()\n",
    "survival_logreg.fit(train_df[valid_features], train_df['Survived'])\n",
    "print(survival_logreg)\n",
    "evaluate(survival_logreg, test_df[valid_features], test_df['Ground_Truth'])"
   ]
  },
  {
   "cell_type": "markdown",
   "metadata": {},
   "source": [
    "## 4.2 Random Forest\n",
    "Fit baseline model."
   ]
  },
  {
   "cell_type": "code",
   "execution_count": 8,
   "metadata": {},
   "outputs": [
    {
     "name": "stdout",
     "output_type": "stream",
     "text": [
      "RandomForestClassifier(bootstrap=True, class_weight=None, criterion='gini',\n",
      "            max_depth=None, max_features='auto', max_leaf_nodes=None,\n",
      "            min_impurity_decrease=0.0, min_impurity_split=None,\n",
      "            min_samples_leaf=1, min_samples_split=2,\n",
      "            min_weight_fraction_leaf=0.0, n_estimators=10, n_jobs=None,\n",
      "            oob_score=False, random_state=None, verbose=0,\n",
      "            warm_start=False)\n",
      "[[215  45]\n",
      " [ 58 100]]\n",
      "True positive:  100\n",
      "True negative:  215\n",
      "False positive:  45\n",
      "False negative:  58\n",
      "Accuracy = (tp + tn) / (p + n), Accuracy =  0.753589\n",
      "Precision = tp / (tp + fp), Precision =  0.689655\n",
      "Recall = tp / (tp + fn), Recall =  0.632911\n",
      "ROC =  0.729917\n"
     ]
    }
   ],
   "source": [
    "survival_rf = RandomForestClassifier()\n",
    "survival_rf.fit(train_df[valid_features], train_df['Survived'])\n",
    "print(survival_rf)\n",
    "evaluate(survival_rf, test_df[valid_features], test_df['Ground_Truth'])"
   ]
  },
  {
   "cell_type": "code",
   "execution_count": 9,
   "metadata": {},
   "outputs": [
    {
     "name": "stdout",
     "output_type": "stream",
     "text": [
      "Parameters currently in use:\n",
      "\n",
      "{'bootstrap': True,\n",
      " 'class_weight': None,\n",
      " 'criterion': 'gini',\n",
      " 'max_depth': None,\n",
      " 'max_features': 'auto',\n",
      " 'max_leaf_nodes': None,\n",
      " 'min_impurity_decrease': 0.0,\n",
      " 'min_impurity_split': None,\n",
      " 'min_samples_leaf': 1,\n",
      " 'min_samples_split': 2,\n",
      " 'min_weight_fraction_leaf': 0.0,\n",
      " 'n_estimators': 10,\n",
      " 'n_jobs': None,\n",
      " 'oob_score': False,\n",
      " 'random_state': None,\n",
      " 'verbose': 0,\n",
      " 'warm_start': False}\n"
     ]
    }
   ],
   "source": [
    "# Examine the parameters used by our current forest\n",
    "print('Parameters currently in use:\\n')\n",
    "pprint(survival_rf.get_params())"
   ]
  },
  {
   "cell_type": "markdown",
   "metadata": {},
   "source": [
    "Perform grid search on model parameters"
   ]
  },
  {
   "cell_type": "code",
   "execution_count": 12,
   "metadata": {},
   "outputs": [
    {
     "name": "stdout",
     "output_type": "stream",
     "text": [
      "# Tuning hyper-parameters for accuracy\n",
      "\n",
      "Best parameters set found on development set:\n",
      "\n",
      "{'n_estimators': 400, 'min_samples_split': 5, 'min_samples_leaf': 1, 'max_features': 'auto', 'max_depth': 50, 'bootstrap': True}\n",
      "\n",
      "Grid scores on development set:\n",
      "\n",
      "0.820 (+/-0.059) for {'n_estimators': 1000, 'min_samples_split': 10, 'min_samples_leaf': 1, 'max_features': 'sqrt', 'max_depth': 40, 'bootstrap': False}\n",
      "0.829 (+/-0.049) for {'n_estimators': 2000, 'min_samples_split': 5, 'min_samples_leaf': 2, 'max_features': 'sqrt', 'max_depth': 30, 'bootstrap': True}\n",
      "0.832 (+/-0.045) for {'n_estimators': 400, 'min_samples_split': 5, 'min_samples_leaf': 1, 'max_features': 'auto', 'max_depth': 50, 'bootstrap': True}\n",
      "0.799 (+/-0.049) for {'n_estimators': 1200, 'min_samples_split': 2, 'min_samples_leaf': 1, 'max_features': 'sqrt', 'max_depth': 60, 'bootstrap': False}\n",
      "0.832 (+/-0.058) for {'n_estimators': 1800, 'min_samples_split': 2, 'min_samples_leaf': 4, 'max_features': 'auto', 'max_depth': None, 'bootstrap': True}\n",
      "0.828 (+/-0.054) for {'n_estimators': 1800, 'min_samples_split': 10, 'min_samples_leaf': 4, 'max_features': 'auto', 'max_depth': 90, 'bootstrap': True}\n",
      "0.800 (+/-0.060) for {'n_estimators': 1200, 'min_samples_split': 5, 'min_samples_leaf': 1, 'max_features': 'auto', 'max_depth': 50, 'bootstrap': False}\n",
      "0.829 (+/-0.057) for {'n_estimators': 1000, 'min_samples_split': 2, 'min_samples_leaf': 4, 'max_features': 'auto', 'max_depth': 10, 'bootstrap': False}\n",
      "0.813 (+/-0.044) for {'n_estimators': 200, 'min_samples_split': 2, 'min_samples_leaf': 1, 'max_features': 'sqrt', 'max_depth': 30, 'bootstrap': True}\n",
      "0.818 (+/-0.051) for {'n_estimators': 1400, 'min_samples_split': 2, 'min_samples_leaf': 2, 'max_features': 'sqrt', 'max_depth': 50, 'bootstrap': False}\n",
      "Elapsed time: 70.4302 seconds\n",
      "\n",
      "[[211  49]\n",
      " [ 52 106]]\n",
      "True positive:  106\n",
      "True negative:  211\n",
      "False positive:  49\n",
      "False negative:  52\n",
      "Accuracy = (tp + tn) / (p + n), Accuracy =  0.758373\n",
      "Precision = tp / (tp + fp), Precision =  0.683871\n",
      "Recall = tp / (tp + fn), Recall =  0.670886\n",
      "ROC =  0.741212\n"
     ]
    }
   ],
   "source": [
    "# Maximum number of levels in tree\n",
    "max_depth = [int(x) for x in np.linspace(10, 110, num = 11)]\n",
    "max_depth.append(None)\n",
    "\n",
    "# Create the random grid\n",
    "tuned_parameters = {'n_estimators': [int(x) for x in np.linspace(start = 200, stop = 2000, num = 10)],\n",
    "                    'max_features': ['auto', 'sqrt'],\n",
    "                    'max_depth': max_depth,\n",
    "                    'min_samples_split': [2, 5, 10],\n",
    "                    'min_samples_leaf': [1, 2, 4],\n",
    "                    'bootstrap': [True, False]}\n",
    "rf_random = select_params(RandomForestClassifier(), tuned_parameters,\n",
    "                        train_df[valid_features], train_df['Survived'], 5, False)\n",
    "evaluate(rf_random.best_estimator_, test_df[valid_features], test_df['Ground_Truth'])"
   ]
  },
  {
   "cell_type": "markdown",
   "metadata": {},
   "source": [
    "Plot feature importance"
   ]
  },
  {
   "cell_type": "code",
   "execution_count": 13,
   "metadata": {},
   "outputs": [
    {
     "data": {
      "image/png": "[encoded data removed]",
      "text/plain": [
       "<Figure size 720x576 with 1 Axes>"
      ]
     },
     "metadata": {},
     "output_type": "display_data"
    }
   ],
   "source": [
    "importances = rf_random.best_estimator_.feature_importances_\n",
    "indices = np.argsort(importances)\n",
    "\n",
    "fig= plt.figure(figsize=(10, 8))\n",
    "plt.title('Feature Importances')\n",
    "plt.barh(range(len(indices)), importances[indices], align='center')\n",
    "plt.yticks(range(len(indices)), [valid_features[i] for i in indices])\n",
    "plt.xlabel('Relative Importance')\n",
    "plt.show()"
   ]
  },
  {
   "cell_type": "markdown",
   "metadata": {},
   "source": [
    "## 4.3 Support Vector Machine"
   ]
  },
  {
   "cell_type": "code",
   "execution_count": 14,
   "metadata": {},
   "outputs": [
    {
     "name": "stdout",
     "output_type": "stream",
     "text": [
      "SVC(C=1.0, cache_size=200, class_weight=None, coef0=0.0,\n",
      "  decision_function_shape='ovr', degree=3, gamma='auto', kernel='rbf',\n",
      "  max_iter=-1, probability=False, random_state=None, shrinking=True,\n",
      "  tol=0.001, verbose=False)\n",
      "[[186  74]\n",
      " [ 57 101]]\n",
      "True positive:  101\n",
      "True negative:  186\n",
      "False positive:  74\n",
      "False negative:  57\n",
      "Accuracy = (tp + tn) / (p + n), Accuracy =  0.686603\n",
      "Precision = tp / (tp + fp), Precision =  0.577143\n",
      "Recall = tp / (tp + fn), Recall =  0.639241\n",
      "ROC =  0.677313\n"
     ]
    }
   ],
   "source": [
    "survival_svm = SVC(gamma='auto')\n",
    "survival_svm.fit(train_df[valid_features], train_df['Survived'])\n",
    "print(survival_svm)\n",
    "evaluate(survival_svm, test_df[valid_features], test_df['Ground_Truth'])"
   ]
  },
  {
   "cell_type": "code",
   "execution_count": 15,
   "metadata": {},
   "outputs": [
    {
     "name": "stdout",
     "output_type": "stream",
     "text": [
      "# Tuning hyper-parameters for accuracy\n",
      "\n",
      "Best parameters set found on development set:\n",
      "\n",
      "{'C': 5000, 'gamma': 1e-05, 'kernel': 'rbf'}\n",
      "\n",
      "Grid scores on development set:\n",
      "\n",
      "0.805 (+/-0.040) for {'C': 4500, 'gamma': 5e-06, 'kernel': 'rbf'}\n",
      "0.825 (+/-0.045) for {'C': 4500, 'gamma': 1e-05, 'kernel': 'rbf'}\n",
      "0.818 (+/-0.044) for {'C': 4500, 'gamma': 3e-05, 'kernel': 'rbf'}\n",
      "0.810 (+/-0.036) for {'C': 5000, 'gamma': 5e-06, 'kernel': 'rbf'}\n",
      "0.827 (+/-0.040) for {'C': 5000, 'gamma': 1e-05, 'kernel': 'rbf'}\n",
      "0.816 (+/-0.040) for {'C': 5000, 'gamma': 3e-05, 'kernel': 'rbf'}\n",
      "0.814 (+/-0.035) for {'C': 5500, 'gamma': 5e-06, 'kernel': 'rbf'}\n",
      "0.827 (+/-0.040) for {'C': 5500, 'gamma': 1e-05, 'kernel': 'rbf'}\n",
      "0.816 (+/-0.040) for {'C': 5500, 'gamma': 3e-05, 'kernel': 'rbf'}\n",
      "Elapsed time: 3.8088 seconds\n",
      "\n",
      "[[209  51]\n",
      " [ 44 114]]\n",
      "True positive:  114\n",
      "True negative:  209\n",
      "False positive:  51\n",
      "False negative:  44\n",
      "Accuracy = (tp + tn) / (p + n), Accuracy =  0.772727\n",
      "Precision = tp / (tp + fp), Precision =  0.690909\n",
      "Recall = tp / (tp + fn), Recall =  0.721519\n",
      "ROC =  0.762683\n"
     ]
    }
   ],
   "source": [
    "# Set the parameters by cross-validation\n",
    "tuned_parameters = [{'kernel': ['rbf'], 'gamma': [5e-06, 1e-05, 3e-05],\n",
    "                     'C': [4500, 5000, 5500]}]\n",
    "                    # {'kernel': ['linear'], 'C': [1, 10, 100, 1000]}]\n",
    "svm_grid = select_params(SVC(), tuned_parameters,\n",
    "                         train_df[valid_features], train_df['Survived'], 5)\n",
    "evaluate(svm_grid.best_estimator_, test_df[valid_features], test_df['Ground_Truth'])"
   ]
  },
  {
   "cell_type": "markdown",
   "metadata": {},
   "source": [
    "## 4.4 XGBoost\n",
    "### 4.4.1 Build a baseline model with fix learning rate and number of estimators."
   ]
  },
  {
   "cell_type": "code",
   "execution_count": 7,
   "metadata": {},
   "outputs": [
    {
     "name": "stdout",
     "output_type": "stream",
     "text": [
      "XGBClassifier(base_score=0.5, booster='gbtree', colsample_bylevel=1,\n",
      "       colsample_bytree=0.8, gamma=0, learning_rate=0.1, max_delta_step=0,\n",
      "       max_depth=5, min_child_weight=1, missing=None, n_estimators=1000,\n",
      "       n_jobs=1, nthread=4, objective='binary:logistic', random_state=0,\n",
      "       reg_alpha=0, reg_lambda=1, scale_pos_weight=1, seed=27, silent=True,\n",
      "       subsample=0.8)\n",
      "[[195  65]\n",
      " [ 51 107]]\n",
      "True positive:  107\n",
      "True negative:  195\n",
      "False positive:  65\n",
      "False negative:  51\n",
      "Accuracy = (tp + tn) / (p + n), Accuracy =  0.722488\n",
      "Precision = tp / (tp + fp), Precision =  0.622093\n",
      "Recall = tp / (tp + fn), Recall =  0.677215\n",
      "ROC =  0.713608\n"
     ]
    }
   ],
   "source": [
    "survival_xgb = XGBClassifier(learning_rate=0.1,\n",
    "                             n_estimators=1000,\n",
    "                             max_depth=5,\n",
    "                             min_child_weight=1,\n",
    "                             gamma=0,\n",
    "                             subsample=0.8,\n",
    "                             colsample_bytree=0.8,\n",
    "                             objective= 'binary:logistic',\n",
    "                             nthread=4,\n",
    "                             scale_pos_weight=1,\n",
    "                             seed=27)\n",
    "survival_xgb.fit(train_df[valid_features], train_df['Survived'])\n",
    "print(survival_xgb)\n",
    "evaluate(survival_xgb, test_df[valid_features], test_df['Ground_Truth'])"
   ]
  },
  {
   "cell_type": "markdown",
   "metadata": {},
   "source": [
    "### General approach of tuning XGBoost parameters\n",
    "<ol>\n",
    "    <li>Choose a relatively high learning rate. Generally a learning rate of 0.1 works but somewhere between 0.05 to 0.3 should work for different problems. Determine the optimum number of trees for this learning rate. XGBoost has a very useful function called as “cv” which performs cross-validation at each boosting iteration and thus returns the optimum number of trees required.</li>\n",
    "    <li>Tune tree-specific parameters ( max_depth, min_child_weight, gamma, subsample, colsample_bytree) for decided learning rate and number of trees. Note that we can choose different parameters to define a tree and I’ll take up an example here.</li>\n",
    "    <li>Tune regularization parameters (lambda, alpha) for xgboost which can help reduce model complexity and enhance performance.</li>\n",
    "    <li>Lower the learning rate and decide the optimal parameters.</li>\n",
    "</ol>\n",
    "\n",
    "https://www.analyticsvidhya.com/blog/2016/03/complete-guide-parameter-tuning-xgboost-with-codes-python/\n",
    "### 4.4.2 Tune max_depth and min_child_weight"
   ]
  },
  {
   "cell_type": "code",
   "execution_count": 13,
   "metadata": {},
   "outputs": [
    {
     "name": "stdout",
     "output_type": "stream",
     "text": [
      "# Tuning hyper-parameters for accuracy\n",
      "\n",
      "Best parameters set found on development set:\n",
      "\n",
      "{'max_depth': 7, 'min_child_weight': 3}\n",
      "\n",
      "Grid scores on development set:\n",
      "\n",
      "0.829 (+/-0.068) for {'max_depth': 3, 'min_child_weight': 1}\n",
      "0.828 (+/-0.060) for {'max_depth': 3, 'min_child_weight': 3}\n",
      "0.825 (+/-0.042) for {'max_depth': 3, 'min_child_weight': 5}\n",
      "0.832 (+/-0.056) for {'max_depth': 5, 'min_child_weight': 1}\n",
      "0.833 (+/-0.045) for {'max_depth': 5, 'min_child_weight': 3}\n",
      "0.834 (+/-0.037) for {'max_depth': 5, 'min_child_weight': 5}\n",
      "0.829 (+/-0.058) for {'max_depth': 7, 'min_child_weight': 1}\n",
      "0.841 (+/-0.039) for {'max_depth': 7, 'min_child_weight': 3}\n",
      "0.833 (+/-0.031) for {'max_depth': 7, 'min_child_weight': 5}\n",
      "0.828 (+/-0.048) for {'max_depth': 9, 'min_child_weight': 1}\n",
      "0.841 (+/-0.050) for {'max_depth': 9, 'min_child_weight': 3}\n",
      "0.825 (+/-0.044) for {'max_depth': 9, 'min_child_weight': 5}\n",
      "Elapsed time: 7.5728 seconds\n",
      "\n",
      "[[214  46]\n",
      " [ 50 108]]\n",
      "True positive:  108\n",
      "True negative:  214\n",
      "False positive:  46\n",
      "False negative:  50\n",
      "Accuracy = (tp + tn) / (p + n), Accuracy =  0.770335\n",
      "Precision = tp / (tp + fp), Precision =  0.701299\n",
      "Recall = tp / (tp + fn), Recall =  0.683544\n",
      "ROC =  0.753311\n"
     ]
    }
   ],
   "source": [
    "tuned_parameters = {\n",
    "    \"max_depth\"        : range(3, 10, 2),\n",
    "    \"min_child_weight\" : range(1, 6, 2)\n",
    "}\n",
    "model_xgb = XGBClassifier(learning_rate=0.1,\n",
    "                          n_estimators=140,\n",
    "                          max_depth=5,\n",
    "                          min_child_weight=1,\n",
    "                          gamma=0,\n",
    "                          subsample=0.8,\n",
    "                          colsample_bytree=0.8,\n",
    "                          objective= 'binary:logistic',\n",
    "                          nthread=4,\n",
    "                          scale_pos_weight=1,\n",
    "                          seed=27)\n",
    "xgb_grid = select_params(model_xgb, tuned_parameters,\n",
    "                         train_df[valid_features], train_df['Survived'], 5)\n",
    "evaluate(xgb_grid.best_estimator_, test_df[valid_features], test_df['Ground_Truth'])"
   ]
  },
  {
   "cell_type": "code",
   "execution_count": 14,
   "metadata": {},
   "outputs": [
    {
     "name": "stdout",
     "output_type": "stream",
     "text": [
      "# Tuning hyper-parameters for accuracy\n",
      "\n",
      "Best parameters set found on development set:\n",
      "\n",
      "{'max_depth': 7, 'min_child_weight': 3}\n",
      "\n",
      "Grid scores on development set:\n",
      "\n",
      "0.833 (+/-0.051) for {'max_depth': 6, 'min_child_weight': 2}\n",
      "0.838 (+/-0.050) for {'max_depth': 6, 'min_child_weight': 3}\n",
      "0.837 (+/-0.029) for {'max_depth': 6, 'min_child_weight': 4}\n",
      "0.835 (+/-0.040) for {'max_depth': 6, 'min_child_weight': 5}\n",
      "0.834 (+/-0.051) for {'max_depth': 7, 'min_child_weight': 2}\n",
      "0.841 (+/-0.039) for {'max_depth': 7, 'min_child_weight': 3}\n",
      "0.835 (+/-0.039) for {'max_depth': 7, 'min_child_weight': 4}\n",
      "0.833 (+/-0.031) for {'max_depth': 7, 'min_child_weight': 5}\n",
      "0.833 (+/-0.053) for {'max_depth': 8, 'min_child_weight': 2}\n",
      "0.834 (+/-0.052) for {'max_depth': 8, 'min_child_weight': 3}\n",
      "0.828 (+/-0.043) for {'max_depth': 8, 'min_child_weight': 4}\n",
      "0.834 (+/-0.026) for {'max_depth': 8, 'min_child_weight': 5}\n",
      "Elapsed time: 8.6734 seconds\n",
      "\n",
      "[[214  46]\n",
      " [ 50 108]]\n",
      "True positive:  108\n",
      "True negative:  214\n",
      "False positive:  46\n",
      "False negative:  50\n",
      "Accuracy = (tp + tn) / (p + n), Accuracy =  0.770335\n",
      "Precision = tp / (tp + fp), Precision =  0.701299\n",
      "Recall = tp / (tp + fn), Recall =  0.683544\n",
      "ROC =  0.753311\n"
     ]
    }
   ],
   "source": [
    "tuned_parameters = {\n",
    "    \"max_depth\"        : [6, 7, 8],\n",
    "    \"min_child_weight\" : [2, 3, 4, 5]\n",
    "}\n",
    "xgb_grid = select_params(model_xgb, tuned_parameters,\n",
    "                         train_df[valid_features], train_df['Survived'], 5)\n",
    "evaluate(xgb_grid.best_estimator_, test_df[valid_features], test_df['Ground_Truth'])"
   ]
  },
  {
   "cell_type": "markdown",
   "metadata": {},
   "source": [
    "### 4.4.3 Tune gamma"
   ]
  },
  {
   "cell_type": "code",
   "execution_count": 16,
   "metadata": {},
   "outputs": [
    {
     "name": "stdout",
     "output_type": "stream",
     "text": [
      "# Tuning hyper-parameters for accuracy\n",
      "\n",
      "Best parameters set found on development set:\n",
      "\n",
      "{'gamma': 0.0}\n",
      "\n",
      "Grid scores on development set:\n",
      "\n",
      "0.841 (+/-0.039) for {'gamma': 0.0}\n",
      "0.840 (+/-0.044) for {'gamma': 0.1}\n",
      "0.838 (+/-0.036) for {'gamma': 0.2}\n",
      "0.837 (+/-0.044) for {'gamma': 0.3}\n",
      "0.835 (+/-0.043) for {'gamma': 0.4}\n",
      "Elapsed time: 5.0986 seconds\n",
      "\n",
      "[[214  46]\n",
      " [ 50 108]]\n",
      "True positive:  108\n",
      "True negative:  214\n",
      "False positive:  46\n",
      "False negative:  50\n",
      "Accuracy = (tp + tn) / (p + n), Accuracy =  0.770335\n",
      "Precision = tp / (tp + fp), Precision =  0.701299\n",
      "Recall = tp / (tp + fn), Recall =  0.683544\n",
      "ROC =  0.753311\n"
     ]
    }
   ],
   "source": [
    "tuned_parameters = {\n",
    "    \"gamma\"        : [i/10.0 for i in range(0, 5)]\n",
    "}\n",
    "model_xgb = XGBClassifier(learning_rate=0.1,\n",
    "                          n_estimators=140,\n",
    "                          max_depth=7,\n",
    "                          min_child_weight=3,\n",
    "                          gamma=0,\n",
    "                          subsample=0.8,\n",
    "                          colsample_bytree=0.8,\n",
    "                          objective= 'binary:logistic',\n",
    "                          nthread=4,\n",
    "                          scale_pos_weight=1,\n",
    "                          seed=27)\n",
    "xgb_grid = select_params(model_xgb, tuned_parameters,\n",
    "                         train_df[valid_features], train_df['Survived'], 5)\n",
    "evaluate(xgb_grid.best_estimator_, test_df[valid_features], test_df['Ground_Truth'])"
   ]
  },
  {
   "cell_type": "markdown",
   "metadata": {},
   "source": [
    "### 4.4.4 Tune subsample and colsample_bytree"
   ]
  },
  {
   "cell_type": "code",
   "execution_count": 17,
   "metadata": {},
   "outputs": [
    {
     "name": "stdout",
     "output_type": "stream",
     "text": [
      "# Tuning hyper-parameters for accuracy\n",
      "\n",
      "Best parameters set found on development set:\n",
      "\n",
      "{'colsample_bytree': 0.8, 'subsample': 0.8}\n",
      "\n",
      "Grid scores on development set:\n",
      "\n",
      "0.829 (+/-0.066) for {'colsample_bytree': 0.6, 'subsample': 0.6}\n",
      "0.825 (+/-0.052) for {'colsample_bytree': 0.6, 'subsample': 0.7}\n",
      "0.836 (+/-0.061) for {'colsample_bytree': 0.6, 'subsample': 0.8}\n",
      "0.826 (+/-0.056) for {'colsample_bytree': 0.6, 'subsample': 0.9}\n",
      "0.837 (+/-0.055) for {'colsample_bytree': 0.7, 'subsample': 0.6}\n",
      "0.836 (+/-0.049) for {'colsample_bytree': 0.7, 'subsample': 0.7}\n",
      "0.837 (+/-0.059) for {'colsample_bytree': 0.7, 'subsample': 0.8}\n",
      "0.827 (+/-0.066) for {'colsample_bytree': 0.7, 'subsample': 0.9}\n",
      "0.825 (+/-0.046) for {'colsample_bytree': 0.8, 'subsample': 0.6}\n",
      "0.838 (+/-0.054) for {'colsample_bytree': 0.8, 'subsample': 0.7}\n",
      "0.841 (+/-0.039) for {'colsample_bytree': 0.8, 'subsample': 0.8}\n",
      "0.833 (+/-0.053) for {'colsample_bytree': 0.8, 'subsample': 0.9}\n",
      "0.826 (+/-0.050) for {'colsample_bytree': 0.9, 'subsample': 0.6}\n",
      "0.833 (+/-0.044) for {'colsample_bytree': 0.9, 'subsample': 0.7}\n",
      "0.835 (+/-0.039) for {'colsample_bytree': 0.9, 'subsample': 0.8}\n",
      "0.829 (+/-0.057) for {'colsample_bytree': 0.9, 'subsample': 0.9}\n",
      "Elapsed time: 12.6967 seconds\n",
      "\n",
      "[[214  46]\n",
      " [ 50 108]]\n",
      "True positive:  108\n",
      "True negative:  214\n",
      "False positive:  46\n",
      "False negative:  50\n",
      "Accuracy = (tp + tn) / (p + n), Accuracy =  0.770335\n",
      "Precision = tp / (tp + fp), Precision =  0.701299\n",
      "Recall = tp / (tp + fn), Recall =  0.683544\n",
      "ROC =  0.753311\n"
     ]
    }
   ],
   "source": [
    "tuned_parameters = {\n",
    "    \"subsample\"        : [i/10.0 for i in range(6, 10)],\n",
    "    \"colsample_bytree\" : [i/10.0 for i in range(6, 10)]\n",
    "}\n",
    "model_xgb = XGBClassifier(learning_rate=0.1,\n",
    "                          n_estimators=140,\n",
    "                          max_depth=7,\n",
    "                          min_child_weight=3,\n",
    "                          gamma=0,\n",
    "                          subsample=0.8,\n",
    "                          colsample_bytree=0.8,\n",
    "                          objective= 'binary:logistic',\n",
    "                          nthread=4,\n",
    "                          scale_pos_weight=1,\n",
    "                          seed=27)\n",
    "xgb_grid = select_params(model_xgb, tuned_parameters,\n",
    "                         train_df[valid_features], train_df['Survived'], 5)\n",
    "evaluate(xgb_grid.best_estimator_, test_df[valid_features], test_df['Ground_Truth'])"
   ]
  },
  {
   "cell_type": "code",
   "execution_count": 18,
   "metadata": {},
   "outputs": [
    {
     "name": "stdout",
     "output_type": "stream",
     "text": [
      "# Tuning hyper-parameters for accuracy\n",
      "\n",
      "Best parameters set found on development set:\n",
      "\n",
      "{'colsample_bytree': 0.8, 'subsample': 0.8}\n",
      "\n",
      "Grid scores on development set:\n",
      "\n",
      "0.835 (+/-0.054) for {'colsample_bytree': 0.75, 'subsample': 0.75}\n",
      "0.834 (+/-0.049) for {'colsample_bytree': 0.75, 'subsample': 0.8}\n",
      "0.836 (+/-0.056) for {'colsample_bytree': 0.75, 'subsample': 0.85}\n",
      "0.836 (+/-0.035) for {'colsample_bytree': 0.8, 'subsample': 0.75}\n",
      "0.841 (+/-0.039) for {'colsample_bytree': 0.8, 'subsample': 0.8}\n",
      "0.832 (+/-0.049) for {'colsample_bytree': 0.8, 'subsample': 0.85}\n",
      "0.834 (+/-0.050) for {'colsample_bytree': 0.85, 'subsample': 0.75}\n",
      "0.836 (+/-0.036) for {'colsample_bytree': 0.85, 'subsample': 0.8}\n",
      "0.833 (+/-0.041) for {'colsample_bytree': 0.85, 'subsample': 0.85}\n",
      "Elapsed time: 8.6592 seconds\n",
      "\n",
      "[[214  46]\n",
      " [ 50 108]]\n",
      "True positive:  108\n",
      "True negative:  214\n",
      "False positive:  46\n",
      "False negative:  50\n",
      "Accuracy = (tp + tn) / (p + n), Accuracy =  0.770335\n",
      "Precision = tp / (tp + fp), Precision =  0.701299\n",
      "Recall = tp / (tp + fn), Recall =  0.683544\n",
      "ROC =  0.753311\n"
     ]
    }
   ],
   "source": [
    "tuned_parameters = {\n",
    "    \"subsample\"        : [i/100.0 for i in range(75, 90, 5)],\n",
    "    \"colsample_bytree\" : [i/100.0 for i in range(75, 90, 5)]\n",
    "}\n",
    "xgb_grid = select_params(model_xgb, tuned_parameters,\n",
    "                         train_df[valid_features], train_df['Survived'], 5)\n",
    "evaluate(xgb_grid.best_estimator_, test_df[valid_features], test_df['Ground_Truth'])"
   ]
  },
  {
   "cell_type": "markdown",
   "metadata": {},
   "source": [
    "### 4.4.5 Tune Regularization Parameters"
   ]
  },
  {
   "cell_type": "code",
   "execution_count": 22,
   "metadata": {},
   "outputs": [
    {
     "name": "stdout",
     "output_type": "stream",
     "text": [
      "# Tuning hyper-parameters for accuracy\n",
      "\n",
      "Best parameters set found on development set:\n",
      "\n",
      "{'reg_alpha': 1e-05, 'reg_lambda': 1}\n",
      "\n",
      "Grid scores on development set:\n",
      "\n",
      "0.831 (+/-0.052) for {'reg_alpha': 1e-05, 'reg_lambda': 1e-05}\n",
      "0.835 (+/-0.046) for {'reg_alpha': 1e-05, 'reg_lambda': 0.01}\n",
      "0.835 (+/-0.064) for {'reg_alpha': 1e-05, 'reg_lambda': 0.1}\n",
      "0.841 (+/-0.039) for {'reg_alpha': 1e-05, 'reg_lambda': 1}\n",
      "0.813 (+/-0.039) for {'reg_alpha': 1e-05, 'reg_lambda': 100}\n",
      "0.829 (+/-0.054) for {'reg_alpha': 0.01, 'reg_lambda': 1e-05}\n",
      "0.828 (+/-0.045) for {'reg_alpha': 0.01, 'reg_lambda': 0.01}\n",
      "0.832 (+/-0.048) for {'reg_alpha': 0.01, 'reg_lambda': 0.1}\n",
      "0.833 (+/-0.051) for {'reg_alpha': 0.01, 'reg_lambda': 1}\n",
      "0.814 (+/-0.040) for {'reg_alpha': 0.01, 'reg_lambda': 100}\n",
      "0.837 (+/-0.042) for {'reg_alpha': 0.1, 'reg_lambda': 1e-05}\n",
      "0.828 (+/-0.047) for {'reg_alpha': 0.1, 'reg_lambda': 0.01}\n",
      "0.836 (+/-0.046) for {'reg_alpha': 0.1, 'reg_lambda': 0.1}\n",
      "0.838 (+/-0.040) for {'reg_alpha': 0.1, 'reg_lambda': 1}\n",
      "0.814 (+/-0.053) for {'reg_alpha': 0.1, 'reg_lambda': 100}\n",
      "0.832 (+/-0.037) for {'reg_alpha': 1, 'reg_lambda': 1e-05}\n",
      "0.834 (+/-0.040) for {'reg_alpha': 1, 'reg_lambda': 0.01}\n",
      "0.832 (+/-0.050) for {'reg_alpha': 1, 'reg_lambda': 0.1}\n",
      "0.832 (+/-0.042) for {'reg_alpha': 1, 'reg_lambda': 1}\n",
      "0.822 (+/-0.033) for {'reg_alpha': 1, 'reg_lambda': 100}\n",
      "0.616 (+/-0.003) for {'reg_alpha': 100, 'reg_lambda': 1e-05}\n",
      "0.616 (+/-0.003) for {'reg_alpha': 100, 'reg_lambda': 0.01}\n",
      "0.616 (+/-0.003) for {'reg_alpha': 100, 'reg_lambda': 0.1}\n",
      "0.616 (+/-0.003) for {'reg_alpha': 100, 'reg_lambda': 1}\n",
      "0.616 (+/-0.003) for {'reg_alpha': 100, 'reg_lambda': 100}\n",
      "Elapsed time: 16.5725 seconds\n",
      "\n",
      "[[214  46]\n",
      " [ 50 108]]\n",
      "True positive:  108\n",
      "True negative:  214\n",
      "False positive:  46\n",
      "False negative:  50\n",
      "Accuracy = (tp + tn) / (p + n), Accuracy =  0.770335\n",
      "Precision = tp / (tp + fp), Precision =  0.701299\n",
      "Recall = tp / (tp + fn), Recall =  0.683544\n",
      "ROC =  0.753311\n"
     ]
    }
   ],
   "source": [
    "tuned_parameters = {\n",
    "    \"reg_alpha\" : [1e-5, 1e-2, 0.1, 1, 100],\n",
    "    \"reg_lambda\" : [1e-5, 1e-2, 0.1, 1, 100],\n",
    "}\n",
    "model_xgb = XGBClassifier(learning_rate=0.1,\n",
    "                          n_estimators=140,\n",
    "                          max_depth=7,\n",
    "                          min_child_weight=3,\n",
    "                          gamma=0,\n",
    "                          subsample=0.8,\n",
    "                          colsample_bytree=0.8,\n",
    "                          objective= 'binary:logistic',\n",
    "                          nthread=4,\n",
    "                          scale_pos_weight=1,\n",
    "                          seed=27).fit()\n",
    "xgb_grid = select_params(model_xgb, tuned_parameters,\n",
    "                         train_df[valid_features], train_df['Survived'], 5)\n",
    "evaluate(xgb_grid.best_estimator_, test_df[valid_features], test_df['Ground_Truth'])"
   ]
  },
  {
   "cell_type": "markdown",
   "metadata": {},
   "source": [
    "### 4.4.6 Reduce learning rate"
   ]
  },
  {
   "cell_type": "code",
   "execution_count": 24,
   "metadata": {},
   "outputs": [
    {
     "name": "stdout",
     "output_type": "stream",
     "text": [
      "[[207  53]\n",
      " [ 52 106]]\n",
      "True positive:  106\n",
      "True negative:  207\n",
      "False positive:  53\n",
      "False negative:  52\n",
      "Accuracy = (tp + tn) / (p + n), Accuracy =  0.748804\n",
      "Precision = tp / (tp + fp), Precision =  0.666667\n",
      "Recall = tp / (tp + fn), Recall =  0.670886\n",
      "ROC =  0.73352\n"
     ]
    }
   ],
   "source": [
    "optimal_xgb = XGBClassifier(learning_rate=0.01,\n",
    "                            n_estimators=5000,\n",
    "                            max_depth=7,\n",
    "                            min_child_weight=3,\n",
    "                            gamma=0,\n",
    "                            subsample=0.8,\n",
    "                            colsample_bytree=0.8,\n",
    "                            objective= 'binary:logistic',\n",
    "                            nthread=4,\n",
    "                            scale_pos_weight=1,\n",
    "                            seed=27).fit(train_df[valid_features], train_df['Survived'])\n",
    "evaluate(optimal_xgb, test_df[valid_features], test_df['Ground_Truth'])"
   ]
  },
  {
   "cell_type": "markdown",
   "metadata": {},
   "source": [
    "# References\n",
    "https://medium.com/all-things-ai/in-depth-parameter-tuning-for-random-forest-d67bb7e920d\n",
    "    \n",
    "https://towardsdatascience.com/hyperparameter-tuning-the-random-forest-in-python-using-scikit-learn-28d2aa77dd74\n",
    "\n",
    "https://medium.com/@praveen.orvakanti/this-will-help-you-score-95-percentile-in-the-kaggle-titanic-ml-competition-aa2b3fd1b79b"
   ]
  }
 ],
 "metadata": {
  "kernelspec": {
   "display_name": "Python 3",
   "language": "python",
   "name": "python3"
  },
  "language_info": {
   "codemirror_mode": {
    "name": "ipython",
    "version": 3
   },
   "file_extension": ".py",
   "mimetype": "text/x-python",
   "name": "python",
   "nbconvert_exporter": "python",
   "pygments_lexer": "ipython3",
   "version": "3.7.0"
  }
 },
 "nbformat": 4,
 "nbformat_minor": 2
}
