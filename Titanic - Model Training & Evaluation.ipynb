{
 "cells": [
  {
   "cell_type": "code",
   "execution_count": 1,
   "metadata": {},
   "outputs": [],
   "source": [
    "import numpy as np\n",
    "import pandas as pd\n",
    "import time\n",
    "import warnings\n",
    "import matplotlib.pyplot as plt\n",
    "import seaborn as sns\n",
    "from pprint import pprint\n",
    "from sklearn import model_selection\n",
    "from sklearn.linear_model import LogisticRegression\n",
    "from sklearn.ensemble import RandomForestClassifier\n",
    "from sklearn.svm import SVC\n",
    "from sklearn.model_selection import RandomizedSearchCV, GridSearchCV\n",
    "import lightgbm as lgb\n",
    "from lightgbm import LGBMClassifier\n",
    "from xgboost import XGBClassifier\n",
    "from mlxtend.classifier import StackingClassifier\n",
    "from helpers import Preprocessor, ModelWorker\n",
    "\n",
    "%matplotlib inline\n",
    "plt.style.use('bmh')\n",
    "warnings.filterwarnings('ignore')"
   ]
  },
  {
   "cell_type": "markdown",
   "metadata": {},
   "source": [
    "# Chapter IV - Fit Machine Learning Models\n",
    "Perform feature engineering on the combined training & test dataset before fitting machine learning models."
   ]
  },
  {
   "cell_type": "code",
   "execution_count": 2,
   "metadata": {},
   "outputs": [
    {
     "name": "stdout",
     "output_type": "stream",
     "text": [
      "{'A': 36.0, 'B': 102.0, 'C': 148.0, 'D': 56.0, 'E': 121.0, 'F': 73.0, 'G': 6.0, 'T': nan, 'U': nan}\n",
      "One-hot encoded columns:  Index(['PassengerId', 'Survived', 'Name', 'Sex', 'Age', 'SibSp', 'Parch',\n",
      "       'Ticket', 'Cabin', 'FamilySize', 'NormalizedFamilySize', 'IsAlone',\n",
      "       'NameLength', 'NormalizedNameLength', 'HasCabin', 'Deck', 'Room',\n",
      "       'NormalizedRoomNo', 'Pclass_1', 'Pclass_2', 'Pclass_3',\n",
      "       'CategoricalAge_0', 'CategoricalAge_1', 'CategoricalAge_2',\n",
      "       'CategoricalAge_3', 'CategoricalAge_4', 'Fare_0', 'Fare_1', 'Fare_2',\n",
      "       'Fare_3', 'Embarked_0', 'Embarked_1', 'Embarked_2', 'Title_1',\n",
      "       'Title_2', 'Title_3', 'Title_4', 'Title_5'],\n",
      "      dtype='object')\n",
      "{'A': 34.0, 'B': 78.0, 'C': 132.0, 'D': 43.0, 'E': 60.0, 'F': 63.0, 'G': 6.0, 'U': nan}\n",
      "One-hot encoded columns:  Index(['PassengerId', 'Name', 'Sex', 'Age', 'SibSp', 'Parch', 'Ticket',\n",
      "       'Cabin', 'FamilySize', 'NormalizedFamilySize', 'IsAlone', 'NameLength',\n",
      "       'NormalizedNameLength', 'HasCabin', 'Deck', 'Room', 'NormalizedRoomNo',\n",
      "       'Pclass_1', 'Pclass_2', 'Pclass_3', 'CategoricalAge_0',\n",
      "       'CategoricalAge_1', 'CategoricalAge_2', 'CategoricalAge_3',\n",
      "       'CategoricalAge_4', 'Fare_0', 'Fare_1', 'Fare_2', 'Fare_3',\n",
      "       'Embarked_0', 'Embarked_1', 'Embarked_2', 'Title_1', 'Title_2',\n",
      "       'Title_3', 'Title_4', 'Title_5'],\n",
      "      dtype='object')\n",
      "Dimension of training data:  (891, 29)\n",
      "Dimension of test data:  (418, 28)\n"
     ]
    },
    {
     "data": {
      "text/html": [
       "<div>\n",
       "<style scoped>\n",
       "    .dataframe tbody tr th:only-of-type {\n",
       "        vertical-align: middle;\n",
       "    }\n",
       "\n",
       "    .dataframe tbody tr th {\n",
       "        vertical-align: top;\n",
       "    }\n",
       "\n",
       "    .dataframe thead th {\n",
       "        text-align: right;\n",
       "    }\n",
       "</style>\n",
       "<table border=\"1\" class=\"dataframe\">\n",
       "  <thead>\n",
       "    <tr style=\"text-align: right;\">\n",
       "      <th></th>\n",
       "      <th>Survived</th>\n",
       "      <th>Name</th>\n",
       "      <th>Sex</th>\n",
       "      <th>Age</th>\n",
       "      <th>NormalizedFamilySize</th>\n",
       "      <th>IsAlone</th>\n",
       "      <th>NormalizedNameLength</th>\n",
       "      <th>HasCabin</th>\n",
       "      <th>NormalizedRoomNo</th>\n",
       "      <th>Pclass_1</th>\n",
       "      <th>...</th>\n",
       "      <th>Fare_2</th>\n",
       "      <th>Fare_3</th>\n",
       "      <th>Embarked_0</th>\n",
       "      <th>Embarked_1</th>\n",
       "      <th>Embarked_2</th>\n",
       "      <th>Title_1</th>\n",
       "      <th>Title_2</th>\n",
       "      <th>Title_3</th>\n",
       "      <th>Title_4</th>\n",
       "      <th>Title_5</th>\n",
       "    </tr>\n",
       "  </thead>\n",
       "  <tbody>\n",
       "    <tr>\n",
       "      <th>0</th>\n",
       "      <td>0</td>\n",
       "      <td>Braund, Mr. Owen Harris</td>\n",
       "      <td>1</td>\n",
       "      <td>22.0</td>\n",
       "      <td>0.1</td>\n",
       "      <td>0</td>\n",
       "      <td>0.157143</td>\n",
       "      <td>0</td>\n",
       "      <td>0.504337</td>\n",
       "      <td>0</td>\n",
       "      <td>...</td>\n",
       "      <td>0</td>\n",
       "      <td>0</td>\n",
       "      <td>1</td>\n",
       "      <td>0</td>\n",
       "      <td>0</td>\n",
       "      <td>1</td>\n",
       "      <td>0</td>\n",
       "      <td>0</td>\n",
       "      <td>0</td>\n",
       "      <td>0</td>\n",
       "    </tr>\n",
       "    <tr>\n",
       "      <th>1</th>\n",
       "      <td>1</td>\n",
       "      <td>Cumings, Mrs. John Bradley (Florence Briggs Th...</td>\n",
       "      <td>0</td>\n",
       "      <td>38.0</td>\n",
       "      <td>0.1</td>\n",
       "      <td>0</td>\n",
       "      <td>0.557143</td>\n",
       "      <td>1</td>\n",
       "      <td>0.574324</td>\n",
       "      <td>1</td>\n",
       "      <td>...</td>\n",
       "      <td>0</td>\n",
       "      <td>1</td>\n",
       "      <td>0</td>\n",
       "      <td>1</td>\n",
       "      <td>0</td>\n",
       "      <td>0</td>\n",
       "      <td>0</td>\n",
       "      <td>1</td>\n",
       "      <td>0</td>\n",
       "      <td>0</td>\n",
       "    </tr>\n",
       "    <tr>\n",
       "      <th>2</th>\n",
       "      <td>1</td>\n",
       "      <td>Heikkinen, Miss. Laina</td>\n",
       "      <td>0</td>\n",
       "      <td>26.0</td>\n",
       "      <td>0.0</td>\n",
       "      <td>1</td>\n",
       "      <td>0.142857</td>\n",
       "      <td>0</td>\n",
       "      <td>0.504337</td>\n",
       "      <td>0</td>\n",
       "      <td>...</td>\n",
       "      <td>0</td>\n",
       "      <td>0</td>\n",
       "      <td>1</td>\n",
       "      <td>0</td>\n",
       "      <td>0</td>\n",
       "      <td>0</td>\n",
       "      <td>1</td>\n",
       "      <td>0</td>\n",
       "      <td>0</td>\n",
       "      <td>0</td>\n",
       "    </tr>\n",
       "    <tr>\n",
       "      <th>3</th>\n",
       "      <td>1</td>\n",
       "      <td>Futrelle, Mrs. Jacques Heath (Lily May Peel)</td>\n",
       "      <td>0</td>\n",
       "      <td>35.0</td>\n",
       "      <td>0.1</td>\n",
       "      <td>0</td>\n",
       "      <td>0.457143</td>\n",
       "      <td>1</td>\n",
       "      <td>0.831081</td>\n",
       "      <td>1</td>\n",
       "      <td>...</td>\n",
       "      <td>0</td>\n",
       "      <td>1</td>\n",
       "      <td>1</td>\n",
       "      <td>0</td>\n",
       "      <td>0</td>\n",
       "      <td>0</td>\n",
       "      <td>0</td>\n",
       "      <td>1</td>\n",
       "      <td>0</td>\n",
       "      <td>0</td>\n",
       "    </tr>\n",
       "    <tr>\n",
       "      <th>4</th>\n",
       "      <td>0</td>\n",
       "      <td>Allen, Mr. William Henry</td>\n",
       "      <td>1</td>\n",
       "      <td>35.0</td>\n",
       "      <td>0.0</td>\n",
       "      <td>1</td>\n",
       "      <td>0.171429</td>\n",
       "      <td>0</td>\n",
       "      <td>0.504337</td>\n",
       "      <td>0</td>\n",
       "      <td>...</td>\n",
       "      <td>0</td>\n",
       "      <td>0</td>\n",
       "      <td>1</td>\n",
       "      <td>0</td>\n",
       "      <td>0</td>\n",
       "      <td>1</td>\n",
       "      <td>0</td>\n",
       "      <td>0</td>\n",
       "      <td>0</td>\n",
       "      <td>0</td>\n",
       "    </tr>\n",
       "  </tbody>\n",
       "</table>\n",
       "<p>5 rows × 29 columns</p>\n",
       "</div>"
      ],
      "text/plain": [
       "   Survived                                               Name  Sex   Age  \\\n",
       "0         0                            Braund, Mr. Owen Harris    1  22.0   \n",
       "1         1  Cumings, Mrs. John Bradley (Florence Briggs Th...    0  38.0   \n",
       "2         1                             Heikkinen, Miss. Laina    0  26.0   \n",
       "3         1       Futrelle, Mrs. Jacques Heath (Lily May Peel)    0  35.0   \n",
       "4         0                           Allen, Mr. William Henry    1  35.0   \n",
       "\n",
       "   NormalizedFamilySize  IsAlone  NormalizedNameLength  HasCabin  \\\n",
       "0                   0.1        0              0.157143         0   \n",
       "1                   0.1        0              0.557143         1   \n",
       "2                   0.0        1              0.142857         0   \n",
       "3                   0.1        0              0.457143         1   \n",
       "4                   0.0        1              0.171429         0   \n",
       "\n",
       "   NormalizedRoomNo  Pclass_1  ...  Fare_2  Fare_3  Embarked_0  Embarked_1  \\\n",
       "0          0.504337         0  ...       0       0           1           0   \n",
       "1          0.574324         1  ...       0       1           0           1   \n",
       "2          0.504337         0  ...       0       0           1           0   \n",
       "3          0.831081         1  ...       0       1           1           0   \n",
       "4          0.504337         0  ...       0       0           1           0   \n",
       "\n",
       "   Embarked_2  Title_1  Title_2  Title_3  Title_4  Title_5  \n",
       "0           0        1        0        0        0        0  \n",
       "1           0        0        0        1        0        0  \n",
       "2           0        0        1        0        0        0  \n",
       "3           0        0        0        1        0        0  \n",
       "4           0        1        0        0        0        0  \n",
       "\n",
       "[5 rows x 29 columns]"
      ]
     },
     "execution_count": 2,
     "metadata": {},
     "output_type": "execute_result"
    }
   ],
   "source": [
    "preprocessor = Preprocessor(\"input/train.csv\", \"input/test.csv\")\n",
    "train_df, test_df = preprocessor.run()\n",
    "print(\"Dimension of training data: \", train_df.shape)\n",
    "print(\"Dimension of test data: \", test_df.shape)\n",
    "train_df.head()"
   ]
  },
  {
   "cell_type": "markdown",
   "metadata": {},
   "source": [
    "Normalize the passengers' name by removing the quotation mark"
   ]
  },
  {
   "cell_type": "code",
   "execution_count": 3,
   "metadata": {},
   "outputs": [
    {
     "data": {
      "text/html": [
       "<div>\n",
       "<style scoped>\n",
       "    .dataframe tbody tr th:only-of-type {\n",
       "        vertical-align: middle;\n",
       "    }\n",
       "\n",
       "    .dataframe tbody tr th {\n",
       "        vertical-align: top;\n",
       "    }\n",
       "\n",
       "    .dataframe thead th {\n",
       "        text-align: right;\n",
       "    }\n",
       "</style>\n",
       "<table border=\"1\" class=\"dataframe\">\n",
       "  <thead>\n",
       "    <tr style=\"text-align: right;\">\n",
       "      <th></th>\n",
       "      <th>Name</th>\n",
       "      <th>Sex</th>\n",
       "      <th>Age</th>\n",
       "      <th>NormalizedFamilySize</th>\n",
       "      <th>IsAlone</th>\n",
       "      <th>NormalizedNameLength</th>\n",
       "      <th>HasCabin</th>\n",
       "      <th>NormalizedRoomNo</th>\n",
       "      <th>Pclass_1</th>\n",
       "      <th>Pclass_2</th>\n",
       "      <th>...</th>\n",
       "      <th>Embarked_1</th>\n",
       "      <th>Embarked_2</th>\n",
       "      <th>Title_1</th>\n",
       "      <th>Title_2</th>\n",
       "      <th>Title_3</th>\n",
       "      <th>Title_4</th>\n",
       "      <th>Title_5</th>\n",
       "      <th>cleaned_name</th>\n",
       "      <th>age</th>\n",
       "      <th>GroundTruth</th>\n",
       "    </tr>\n",
       "  </thead>\n",
       "  <tbody>\n",
       "    <tr>\n",
       "      <th>0</th>\n",
       "      <td>Kelly, Mr. James</td>\n",
       "      <td>1</td>\n",
       "      <td>34.5</td>\n",
       "      <td>0.0</td>\n",
       "      <td>1</td>\n",
       "      <td>0.06</td>\n",
       "      <td>0</td>\n",
       "      <td>0.578825</td>\n",
       "      <td>0</td>\n",
       "      <td>0</td>\n",
       "      <td>...</td>\n",
       "      <td>0</td>\n",
       "      <td>1</td>\n",
       "      <td>1</td>\n",
       "      <td>0</td>\n",
       "      <td>0</td>\n",
       "      <td>0</td>\n",
       "      <td>0</td>\n",
       "      <td>Kelly, Mr. James</td>\n",
       "      <td>34.5</td>\n",
       "      <td>0</td>\n",
       "    </tr>\n",
       "    <tr>\n",
       "      <th>1</th>\n",
       "      <td>Wilkes, Mrs. James (Ellen Needs)</td>\n",
       "      <td>0</td>\n",
       "      <td>47.0</td>\n",
       "      <td>0.1</td>\n",
       "      <td>0</td>\n",
       "      <td>0.38</td>\n",
       "      <td>0</td>\n",
       "      <td>0.578825</td>\n",
       "      <td>0</td>\n",
       "      <td>0</td>\n",
       "      <td>...</td>\n",
       "      <td>0</td>\n",
       "      <td>0</td>\n",
       "      <td>0</td>\n",
       "      <td>0</td>\n",
       "      <td>1</td>\n",
       "      <td>0</td>\n",
       "      <td>0</td>\n",
       "      <td>Wilkes, Mrs. James (Ellen Needs)</td>\n",
       "      <td>47.0</td>\n",
       "      <td>1</td>\n",
       "    </tr>\n",
       "    <tr>\n",
       "      <th>2</th>\n",
       "      <td>Myles, Mr. Thomas Francis</td>\n",
       "      <td>1</td>\n",
       "      <td>62.0</td>\n",
       "      <td>0.0</td>\n",
       "      <td>1</td>\n",
       "      <td>0.24</td>\n",
       "      <td>0</td>\n",
       "      <td>0.578825</td>\n",
       "      <td>0</td>\n",
       "      <td>1</td>\n",
       "      <td>...</td>\n",
       "      <td>0</td>\n",
       "      <td>1</td>\n",
       "      <td>1</td>\n",
       "      <td>0</td>\n",
       "      <td>0</td>\n",
       "      <td>0</td>\n",
       "      <td>0</td>\n",
       "      <td>Myles, Mr. Thomas Francis</td>\n",
       "      <td>62.0</td>\n",
       "      <td>0</td>\n",
       "    </tr>\n",
       "    <tr>\n",
       "      <th>3</th>\n",
       "      <td>Wirz, Mr. Albert</td>\n",
       "      <td>1</td>\n",
       "      <td>27.0</td>\n",
       "      <td>0.0</td>\n",
       "      <td>1</td>\n",
       "      <td>0.06</td>\n",
       "      <td>0</td>\n",
       "      <td>0.578825</td>\n",
       "      <td>0</td>\n",
       "      <td>0</td>\n",
       "      <td>...</td>\n",
       "      <td>0</td>\n",
       "      <td>0</td>\n",
       "      <td>1</td>\n",
       "      <td>0</td>\n",
       "      <td>0</td>\n",
       "      <td>0</td>\n",
       "      <td>0</td>\n",
       "      <td>Wirz, Mr. Albert</td>\n",
       "      <td>27.0</td>\n",
       "      <td>0</td>\n",
       "    </tr>\n",
       "    <tr>\n",
       "      <th>4</th>\n",
       "      <td>Hirvonen, Mrs. Alexander (Helga E Lindqvist)</td>\n",
       "      <td>0</td>\n",
       "      <td>22.0</td>\n",
       "      <td>0.2</td>\n",
       "      <td>0</td>\n",
       "      <td>0.62</td>\n",
       "      <td>0</td>\n",
       "      <td>0.578825</td>\n",
       "      <td>0</td>\n",
       "      <td>0</td>\n",
       "      <td>...</td>\n",
       "      <td>0</td>\n",
       "      <td>0</td>\n",
       "      <td>0</td>\n",
       "      <td>0</td>\n",
       "      <td>1</td>\n",
       "      <td>0</td>\n",
       "      <td>0</td>\n",
       "      <td>Hirvonen, Mrs. Alexander (Helga E Lindqvist)</td>\n",
       "      <td>22.0</td>\n",
       "      <td>1</td>\n",
       "    </tr>\n",
       "  </tbody>\n",
       "</table>\n",
       "<p>5 rows × 31 columns</p>\n",
       "</div>"
      ],
      "text/plain": [
       "                                           Name  Sex   Age  \\\n",
       "0                              Kelly, Mr. James    1  34.5   \n",
       "1              Wilkes, Mrs. James (Ellen Needs)    0  47.0   \n",
       "2                     Myles, Mr. Thomas Francis    1  62.0   \n",
       "3                              Wirz, Mr. Albert    1  27.0   \n",
       "4  Hirvonen, Mrs. Alexander (Helga E Lindqvist)    0  22.0   \n",
       "\n",
       "   NormalizedFamilySize  IsAlone  NormalizedNameLength  HasCabin  \\\n",
       "0                   0.0        1                  0.06         0   \n",
       "1                   0.1        0                  0.38         0   \n",
       "2                   0.0        1                  0.24         0   \n",
       "3                   0.0        1                  0.06         0   \n",
       "4                   0.2        0                  0.62         0   \n",
       "\n",
       "   NormalizedRoomNo  Pclass_1  Pclass_2  ...  Embarked_1  Embarked_2  Title_1  \\\n",
       "0          0.578825         0         0  ...           0           1        1   \n",
       "1          0.578825         0         0  ...           0           0        0   \n",
       "2          0.578825         0         1  ...           0           1        1   \n",
       "3          0.578825         0         0  ...           0           0        1   \n",
       "4          0.578825         0         0  ...           0           0        0   \n",
       "\n",
       "   Title_2  Title_3  Title_4  Title_5  \\\n",
       "0        0        0        0        0   \n",
       "1        0        1        0        0   \n",
       "2        0        0        0        0   \n",
       "3        0        0        0        0   \n",
       "4        0        1        0        0   \n",
       "\n",
       "                                   cleaned_name   age  GroundTruth  \n",
       "0                              Kelly, Mr. James  34.5            0  \n",
       "1              Wilkes, Mrs. James (Ellen Needs)  47.0            1  \n",
       "2                     Myles, Mr. Thomas Francis  62.0            0  \n",
       "3                              Wirz, Mr. Albert  27.0            0  \n",
       "4  Hirvonen, Mrs. Alexander (Helga E Lindqvist)  22.0            1  \n",
       "\n",
       "[5 rows x 31 columns]"
      ]
     },
     "execution_count": 3,
     "metadata": {},
     "output_type": "execute_result"
    }
   ],
   "source": [
    "test_df[\"cleaned_name\"] = test_df[\"Name\"].apply(lambda name: name.replace('\\\"', ''))\n",
    "ground_truth_df = pd.read_csv(\"input/ground-truth.csv\")\n",
    "ground_truth_df[\"cleaned_name\"] = ground_truth_df[\"name\"].apply(lambda name: name.replace('\\\"', ''))\n",
    "test_df = pd.merge(test_df, ground_truth_df[[\"cleaned_name\", \"age\", \"survived\"]], how=\"left\",\n",
    "                   left_on=[\"cleaned_name\", \"Age\"], right_on=[\"cleaned_name\", \"age\"])\n",
    "test_df = test_df.rename(columns={\"survived\": \"GroundTruth\"})\n",
    "test_df.head()"
   ]
  },
  {
   "cell_type": "markdown",
   "metadata": {},
   "source": [
    "Verify complete match between test data and ground truth"
   ]
  },
  {
   "cell_type": "code",
   "execution_count": 4,
   "metadata": {},
   "outputs": [
    {
     "data": {
      "text/html": [
       "<div>\n",
       "<style scoped>\n",
       "    .dataframe tbody tr th:only-of-type {\n",
       "        vertical-align: middle;\n",
       "    }\n",
       "\n",
       "    .dataframe tbody tr th {\n",
       "        vertical-align: top;\n",
       "    }\n",
       "\n",
       "    .dataframe thead th {\n",
       "        text-align: right;\n",
       "    }\n",
       "</style>\n",
       "<table border=\"1\" class=\"dataframe\">\n",
       "  <thead>\n",
       "    <tr style=\"text-align: right;\">\n",
       "      <th></th>\n",
       "      <th>Name</th>\n",
       "      <th>Sex</th>\n",
       "      <th>Age</th>\n",
       "      <th>NormalizedFamilySize</th>\n",
       "      <th>IsAlone</th>\n",
       "      <th>NormalizedNameLength</th>\n",
       "      <th>HasCabin</th>\n",
       "      <th>NormalizedRoomNo</th>\n",
       "      <th>Pclass_1</th>\n",
       "      <th>Pclass_2</th>\n",
       "      <th>...</th>\n",
       "      <th>Embarked_1</th>\n",
       "      <th>Embarked_2</th>\n",
       "      <th>Title_1</th>\n",
       "      <th>Title_2</th>\n",
       "      <th>Title_3</th>\n",
       "      <th>Title_4</th>\n",
       "      <th>Title_5</th>\n",
       "      <th>cleaned_name</th>\n",
       "      <th>age</th>\n",
       "      <th>GroundTruth</th>\n",
       "    </tr>\n",
       "  </thead>\n",
       "  <tbody>\n",
       "  </tbody>\n",
       "</table>\n",
       "<p>0 rows × 31 columns</p>\n",
       "</div>"
      ],
      "text/plain": [
       "Empty DataFrame\n",
       "Columns: [Name, Sex, Age, NormalizedFamilySize, IsAlone, NormalizedNameLength, HasCabin, NormalizedRoomNo, Pclass_1, Pclass_2, Pclass_3, CategoricalAge_0, CategoricalAge_1, CategoricalAge_2, CategoricalAge_3, CategoricalAge_4, Fare_0, Fare_1, Fare_2, Fare_3, Embarked_0, Embarked_1, Embarked_2, Title_1, Title_2, Title_3, Title_4, Title_5, cleaned_name, age, GroundTruth]\n",
       "Index: []\n",
       "\n",
       "[0 rows x 31 columns]"
      ]
     },
     "execution_count": 4,
     "metadata": {},
     "output_type": "execute_result"
    }
   ],
   "source": [
    "test_df[test_df[\"GroundTruth\"].isnull()]"
   ]
  },
  {
   "cell_type": "code",
   "execution_count": 5,
   "metadata": {},
   "outputs": [
    {
     "name": "stdout",
     "output_type": "stream",
     "text": [
      "Dimension of training data:  (891, 27)\n",
      "Dimension of test data:  (418, 27)\n",
      "['Sex', 'NormalizedFamilySize', 'IsAlone', 'NormalizedNameLength', 'HasCabin', 'NormalizedRoomNo', 'Pclass_1', 'Pclass_2', 'Pclass_3', 'CategoricalAge_0', 'CategoricalAge_1', 'CategoricalAge_2', 'CategoricalAge_3', 'CategoricalAge_4', 'Fare_0', 'Fare_1', 'Fare_2', 'Fare_3', 'Embarked_0', 'Embarked_1', 'Embarked_2', 'Title_1', 'Title_2', 'Title_3', 'Title_4', 'Title_5']\n"
     ]
    }
   ],
   "source": [
    "train_df = train_df.drop([\"Name\", \"Age\"], axis = 1)\n",
    "test_df = test_df.drop([\"Name\", \"Age\", \"cleaned_name\", \"age\"], axis = 1)\n",
    "print(\"Dimension of training data: \", train_df.shape)\n",
    "print(\"Dimension of test data: \", test_df.shape)\n",
    "\n",
    "features = list(train_df.columns)\n",
    "features.remove('Survived')\n",
    "print(features)"
   ]
  },
  {
   "cell_type": "markdown",
   "metadata": {},
   "source": [
    "Declare universal model evaluation metrics and record best scores of each standalone model."
   ]
  },
  {
   "cell_type": "code",
   "execution_count": 6,
   "metadata": {},
   "outputs": [],
   "source": [
    "scores = ['accuracy']\n",
    "model_metrics = {}"
   ]
  },
  {
   "cell_type": "markdown",
   "metadata": {},
   "source": [
    "## 4.1 Logistic Regression"
   ]
  },
  {
   "cell_type": "code",
   "execution_count": 8,
   "metadata": {},
   "outputs": [
    {
     "name": "stdout",
     "output_type": "stream",
     "text": [
      "Fitted model:  LogisticRegression(C=1.0, class_weight=None, dual=False, fit_intercept=True,\n",
      "                   intercept_scaling=1, l1_ratio=None, max_iter=100,\n",
      "                   multi_class='warn', n_jobs=None, penalty='l2',\n",
      "                   random_state=None, solver='warn', tol=0.0001, verbose=0,\n",
      "                   warm_start=False)\n",
      "[[206  54]\n",
      " [ 41 117]]\n",
      "True positive:  117\n",
      "True negative:  206\n",
      "False positive:  54\n",
      "False negative:  41\n",
      "Accuracy = (tp + tn) / (p + n), Accuracy =  0.772727\n",
      "Precision = tp / (tp + fp), Precision =  0.684211\n",
      "Recall = tp / (tp + fn), Recall =  0.740506\n",
      "ROC =  0.766407\n"
     ]
    }
   ],
   "source": [
    "logreg_worker = ModelWorker(LogisticRegression(), scores)\n",
    "logreg_worker.fit(train_df[features], train_df['Survived'],\n",
    "                  test_df[features], test_df['GroundTruth'])"
   ]
  },
  {
   "cell_type": "code",
   "execution_count": 13,
   "metadata": {},
   "outputs": [
    {
     "name": "stdout",
     "output_type": "stream",
     "text": [
      "# Tuning hyper-parameters for accuracy\n",
      "\n",
      "Best parameters set found on development set:\n",
      "\n",
      "{'C': 4}\n",
      "\n",
      "Grid scores on development set:\n",
      "\n",
      "0.832 (+/-0.042) for {'C': 2}\n",
      "0.833 (+/-0.041) for {'C': 3}\n",
      "0.834 (+/-0.044) for {'C': 4}\n",
      "Elapsed time: 0.1602 seconds\n",
      "\n",
      "[[204  56]\n",
      " [ 41 117]]\n",
      "True positive:  117\n",
      "True negative:  204\n",
      "False positive:  56\n",
      "False negative:  41\n",
      "Accuracy = (tp + tn) / (p + n), Accuracy =  0.767943\n",
      "Precision = tp / (tp + fp), Precision =  0.676301\n",
      "Recall = tp / (tp + fn), Recall =  0.740506\n",
      "ROC =  0.762561\n"
     ]
    },
    {
     "data": {
      "text/plain": [
       "{'Logistic Regression': 0.833895}"
      ]
     },
     "execution_count": 13,
     "metadata": {},
     "output_type": "execute_result"
    }
   ],
   "source": [
    "# tuned_parameters = {'C': [0.001, 0.01, 0.1, 1, 10, 100, 1000]}\n",
    "# tuned_parameters = {'C': [1, 5, 10, 25, 50]}\n",
    "# tuned_parameters = {'C': [3, 5, 7]}\n",
    "tuned_parameters = {'C': [2, 3, 4]}\n",
    "logreg_grid, best_score = logreg_worker.tune(tuned_parameters, train_df[features], train_df['Survived'],\n",
    "                                             test_df[features], test_df['GroundTruth'], 5)\n",
    "model_metrics[\"Logistic Regression\"] = round(best_score[\"accuracy\"], 6)\n",
    "model_metrics"
   ]
  },
  {
   "cell_type": "markdown",
   "metadata": {},
   "source": [
    "## 4.2 Random Forest\n",
    "Fit baseline model."
   ]
  },
  {
   "cell_type": "code",
   "execution_count": 14,
   "metadata": {},
   "outputs": [
    {
     "name": "stdout",
     "output_type": "stream",
     "text": [
      "Fitted model:  RandomForestClassifier(bootstrap=True, class_weight=None, criterion='gini',\n",
      "                       max_depth=None, max_features='auto', max_leaf_nodes=None,\n",
      "                       min_impurity_decrease=0.0, min_impurity_split=None,\n",
      "                       min_samples_leaf=1, min_samples_split=2,\n",
      "                       min_weight_fraction_leaf=0.0, n_estimators=10,\n",
      "                       n_jobs=None, oob_score=False, random_state=None,\n",
      "                       verbose=0, warm_start=False)\n",
      "[[202  58]\n",
      " [ 51 107]]\n",
      "True positive:  107\n",
      "True negative:  202\n",
      "False positive:  58\n",
      "False negative:  51\n",
      "Accuracy = (tp + tn) / (p + n), Accuracy =  0.739234\n",
      "Precision = tp / (tp + fp), Precision =  0.648485\n",
      "Recall = tp / (tp + fn), Recall =  0.677215\n",
      "ROC =  0.727069\n"
     ]
    }
   ],
   "source": [
    "rf_worker = ModelWorker(RandomForestClassifier(), scores)\n",
    "rf_worker.fit(train_df[features], train_df['Survived'],\n",
    "              test_df[features], test_df['GroundTruth'])"
   ]
  },
  {
   "cell_type": "markdown",
   "metadata": {},
   "source": [
    "Perform randomized search on model parameters"
   ]
  },
  {
   "cell_type": "code",
   "execution_count": 15,
   "metadata": {},
   "outputs": [
    {
     "name": "stdout",
     "output_type": "stream",
     "text": [
      "# Tuning hyper-parameters for accuracy\n",
      "\n",
      "Best parameters set found on development set:\n",
      "\n",
      "{'n_estimators': 1800, 'min_samples_split': 5, 'min_samples_leaf': 2, 'max_features': 'auto', 'max_depth': 10, 'bootstrap': True}\n",
      "\n",
      "Grid scores on development set:\n",
      "\n",
      "0.813 (+/-0.065) for {'n_estimators': 800, 'min_samples_split': 5, 'min_samples_leaf': 2, 'max_features': 'sqrt', 'max_depth': 30, 'bootstrap': False}\n",
      "0.815 (+/-0.057) for {'n_estimators': 400, 'min_samples_split': 5, 'min_samples_leaf': 1, 'max_features': 'sqrt', 'max_depth': 10, 'bootstrap': False}\n",
      "0.822 (+/-0.040) for {'n_estimators': 800, 'min_samples_split': 5, 'min_samples_leaf': 2, 'max_features': 'auto', 'max_depth': 100, 'bootstrap': True}\n",
      "0.824 (+/-0.042) for {'n_estimators': 1800, 'min_samples_split': 5, 'min_samples_leaf': 2, 'max_features': 'auto', 'max_depth': 10, 'bootstrap': True}\n",
      "0.823 (+/-0.043) for {'n_estimators': 1000, 'min_samples_split': 2, 'min_samples_leaf': 4, 'max_features': 'auto', 'max_depth': 60, 'bootstrap': True}\n",
      "0.822 (+/-0.038) for {'n_estimators': 2000, 'min_samples_split': 2, 'min_samples_leaf': 2, 'max_features': 'sqrt', 'max_depth': 10, 'bootstrap': True}\n",
      "0.811 (+/-0.071) for {'n_estimators': 200, 'min_samples_split': 10, 'min_samples_leaf': 1, 'max_features': 'sqrt', 'max_depth': 20, 'bootstrap': False}\n",
      "0.815 (+/-0.074) for {'n_estimators': 1800, 'min_samples_split': 5, 'min_samples_leaf': 1, 'max_features': 'auto', 'max_depth': 30, 'bootstrap': True}\n",
      "0.824 (+/-0.043) for {'n_estimators': 200, 'min_samples_split': 5, 'min_samples_leaf': 2, 'max_features': 'sqrt', 'max_depth': None, 'bootstrap': True}\n",
      "0.813 (+/-0.070) for {'n_estimators': 600, 'min_samples_split': 10, 'min_samples_leaf': 1, 'max_features': 'auto', 'max_depth': None, 'bootstrap': False}\n",
      "Elapsed time: 128.5256 seconds\n",
      "\n",
      "[[210  50]\n",
      " [ 47 111]]\n",
      "True positive:  111\n",
      "True negative:  210\n",
      "False positive:  50\n",
      "False negative:  47\n",
      "Accuracy = (tp + tn) / (p + n), Accuracy =  0.767943\n",
      "Precision = tp / (tp + fp), Precision =  0.689441\n",
      "Recall = tp / (tp + fn), Recall =  0.702532\n",
      "ROC =  0.755112\n",
      "{'Logistic Regression': 0.833895, 'Random Forest': 0.823793}\n"
     ]
    }
   ],
   "source": [
    "# Maximum number of levels in tree\n",
    "max_depth = [int(x) for x in np.linspace(10, 110, num=11)]\n",
    "max_depth.append(None)\n",
    "\n",
    "# Create the random grid\n",
    "tuned_parameters = {'n_estimators': [int(x) for x in np.linspace(start=200, stop=2000, num=10)],\n",
    "                    'max_features': ['auto', 'sqrt'],\n",
    "                    'max_depth': max_depth,\n",
    "                    'min_samples_split': [2, 5, 10],\n",
    "                    'min_samples_leaf': [1, 2, 4],\n",
    "                    'bootstrap': [True, False]}\n",
    "rf_random, best_score = rf_worker.tune(tuned_parameters, train_df[features], train_df['Survived'],\n",
    "                                       test_df[features], test_df['GroundTruth'], 5, False)\n",
    "model_metrics[\"Random Forest\"] = round(best_score[\"accuracy\"], 6)\n",
    "print(model_metrics)"
   ]
  },
  {
   "cell_type": "markdown",
   "metadata": {},
   "source": [
    "Plot feature importance"
   ]
  },
  {
   "cell_type": "code",
   "execution_count": 16,
   "metadata": {},
   "outputs": [
    {
     "data": {
      "image/png": "[encoded data removed]",
      "text/plain": [
       "<Figure size 864x576 with 1 Axes>"
      ]
     },
     "metadata": {},
     "output_type": "display_data"
    }
   ],
   "source": [
    "importances = rf_random.best_estimator_.feature_importances_\n",
    "indices = np.argsort(importances)\n",
    "\n",
    "fig = plt.figure(figsize=(12, 8))\n",
    "plt.title('Feature Importances')\n",
    "plt.barh(range(len(indices)), importances[indices], align='center')\n",
    "plt.yticks(range(len(indices)), [features[i] for i in indices])\n",
    "plt.xlabel('Relative Importance')\n",
    "plt.show()"
   ]
  },
  {
   "cell_type": "markdown",
   "metadata": {},
   "source": [
    "## 4.3 Support Vector Machine"
   ]
  },
  {
   "cell_type": "code",
   "execution_count": 17,
   "metadata": {},
   "outputs": [
    {
     "name": "stdout",
     "output_type": "stream",
     "text": [
      "Fitted model:  SVC(C=1.0, cache_size=200, class_weight=None, coef0=0.0,\n",
      "    decision_function_shape='ovr', degree=3, gamma='auto', kernel='rbf',\n",
      "    max_iter=-1, probability=True, random_state=None, shrinking=True, tol=0.001,\n",
      "    verbose=False)\n",
      "[[214  46]\n",
      " [ 45 113]]\n",
      "True positive:  113\n",
      "True negative:  214\n",
      "False positive:  46\n",
      "False negative:  45\n",
      "Accuracy = (tp + tn) / (p + n), Accuracy =  0.782297\n",
      "Precision = tp / (tp + fp), Precision =  0.710692\n",
      "Recall = tp / (tp + fn), Recall =  0.71519\n",
      "ROC =  0.769133\n"
     ]
    }
   ],
   "source": [
    "svm_worker = ModelWorker(SVC(gamma='auto', probability=True), scores)\n",
    "svm_worker.fit(train_df[features], train_df['Survived'],\n",
    "               test_df[features], test_df['GroundTruth'])"
   ]
  },
  {
   "cell_type": "code",
   "execution_count": 23,
   "metadata": {},
   "outputs": [
    {
     "name": "stdout",
     "output_type": "stream",
     "text": [
      "# Tuning hyper-parameters for accuracy\n",
      "\n",
      "Best parameters set found on development set:\n",
      "\n",
      "{'C': 4, 'gamma': 0.03, 'kernel': 'rbf'}\n",
      "\n",
      "Grid scores on development set:\n",
      "\n",
      "0.795 (+/-0.049) for {'C': 2, 'gamma': 0.02, 'kernel': 'rbf'}\n",
      "0.810 (+/-0.043) for {'C': 2, 'gamma': 0.03, 'kernel': 'rbf'}\n",
      "0.827 (+/-0.036) for {'C': 2, 'gamma': 0.04, 'kernel': 'rbf'}\n",
      "0.801 (+/-0.045) for {'C': 3, 'gamma': 0.02, 'kernel': 'rbf'}\n",
      "0.827 (+/-0.036) for {'C': 3, 'gamma': 0.03, 'kernel': 'rbf'}\n",
      "0.826 (+/-0.040) for {'C': 3, 'gamma': 0.04, 'kernel': 'rbf'}\n",
      "0.815 (+/-0.037) for {'C': 4, 'gamma': 0.02, 'kernel': 'rbf'}\n",
      "0.829 (+/-0.037) for {'C': 4, 'gamma': 0.03, 'kernel': 'rbf'}\n",
      "0.824 (+/-0.045) for {'C': 4, 'gamma': 0.04, 'kernel': 'rbf'}\n",
      "0.823 (+/-0.034) for {'C': 5, 'gamma': 0.02, 'kernel': 'rbf'}\n",
      "0.826 (+/-0.040) for {'C': 5, 'gamma': 0.03, 'kernel': 'rbf'}\n",
      "0.822 (+/-0.042) for {'C': 5, 'gamma': 0.04, 'kernel': 'rbf'}\n",
      "0.827 (+/-0.041) for {'C': 1, 'kernel': 'linear'}\n",
      "Elapsed time: 7.507 seconds\n",
      "\n",
      "[[212  48]\n",
      " [ 46 112]]\n",
      "True positive:  112\n",
      "True negative:  212\n",
      "False positive:  48\n",
      "False negative:  46\n",
      "Accuracy = (tp + tn) / (p + n), Accuracy =  0.77512\n",
      "Precision = tp / (tp + fp), Precision =  0.7\n",
      "Recall = tp / (tp + fn), Recall =  0.708861\n",
      "ROC =  0.762123\n",
      "{'Logistic Regression': 0.833895, 'Random Forest': 0.823793, 'SVM': 0.829405}\n"
     ]
    }
   ],
   "source": [
    "# Set the parameters by cross-validation\n",
    "# tuned_parameters = [{'kernel': ['rbf'], 'gamma': [0.001, 0.01, 0.1, 1],\n",
    "#                      'C': [0.001, 0.01, 0.1, 1, 10]},\n",
    "#                     {'kernel': ['linear'], 'C': [1, 10, 100, 1000]}]\n",
    "# tuned_parameters = [{'kernel': ['rbf'], 'gamma': [0.01, 0.05, 0.1, 0.5, 1],\n",
    "#                      'C': [0.1, 0.5, 1, 5, 10]},\n",
    "#                     {'kernel': ['linear'], 'C': [1]}]\n",
    "# tuned_parameters = [{'kernel': ['rbf'], 'gamma': [0.03, 0.05, 0.07],\n",
    "#                      'C': [3, 5, 7]},\n",
    "#                     {'kernel': ['linear'], 'C': [1]}]\n",
    "tuned_parameters = [{'kernel': ['rbf'], 'gamma': [0.02, 0.03, 0.04],\n",
    "                     'C': [2, 3, 4, 5]},\n",
    "                    {'kernel': ['linear'], 'C': [1]}]\n",
    "svm_grid, best_score = svm_worker.tune(tuned_parameters, train_df[features], train_df['Survived'],\n",
    "                                       test_df[features], test_df['GroundTruth'], 5)\n",
    "model_metrics[\"SVM\"] = round(best_score[\"accuracy\"], 6)\n",
    "print(model_metrics)"
   ]
  },
  {
   "cell_type": "markdown",
   "metadata": {},
   "source": [
    "## 4.4 XGBoost\n",
    "### 4.4.1 Build a baseline model with fix learning rate and number of estimators."
   ]
  },
  {
   "cell_type": "code",
   "execution_count": 24,
   "metadata": {},
   "outputs": [
    {
     "name": "stdout",
     "output_type": "stream",
     "text": [
      "Fitted model:  XGBClassifier(base_score=0.5, booster='gbtree', colsample_bylevel=1,\n",
      "              colsample_bytree=0.8, gamma=0, learning_rate=0.1,\n",
      "              max_delta_step=0, max_depth=5, min_child_weight=1, missing=None,\n",
      "              n_estimators=1000, n_jobs=1, nthread=4,\n",
      "              objective='binary:logistic', random_state=0, reg_alpha=0,\n",
      "              reg_lambda=1, scale_pos_weight=1, seed=27, silent=True,\n",
      "              subsample=0.8)\n",
      "[[199  61]\n",
      " [ 44 114]]\n",
      "True positive:  114\n",
      "True negative:  199\n",
      "False positive:  61\n",
      "False negative:  44\n",
      "Accuracy = (tp + tn) / (p + n), Accuracy =  0.748804\n",
      "Precision = tp / (tp + fp), Precision =  0.651429\n",
      "Recall = tp / (tp + fn), Recall =  0.721519\n",
      "ROC =  0.743452\n"
     ]
    }
   ],
   "source": [
    "survival_xgb = XGBClassifier(learning_rate=0.1,\n",
    "                             n_estimators=1000,\n",
    "                             max_depth=5,\n",
    "                             min_child_weight=1,\n",
    "                             gamma=0,\n",
    "                             subsample=0.8,\n",
    "                             colsample_bytree=0.8,\n",
    "                             objective= 'binary:logistic',\n",
    "                             nthread=4,\n",
    "                             scale_pos_weight=1,\n",
    "                             seed=27)\n",
    "xgb_worker = ModelWorker(survival_xgb, scores)\n",
    "xgb_worker.fit(train_df[features], train_df['Survived'],\n",
    "               test_df[features], test_df['GroundTruth'])"
   ]
  },
  {
   "cell_type": "markdown",
   "metadata": {},
   "source": [
    "### General approach of tuning XGBoost parameters\n",
    "<ol>\n",
    "    <li>Choose a relatively high learning rate. Generally a learning rate of 0.1 works but somewhere between 0.05 to 0.3 should work for different problems. Determine the optimum number of trees for this learning rate. XGBoost has a very useful function called as “cv” which performs cross-validation at each boosting iteration and thus returns the optimum number of trees required.</li>\n",
    "    <li>Tune tree-specific parameters ( max_depth, min_child_weight, gamma, subsample, colsample_bytree) for decided learning rate and number of trees. Note that we can choose different parameters to define a tree and I’ll take up an example here.</li>\n",
    "    <li>Tune regularization parameters (lambda, alpha) for xgboost which can help reduce model complexity and enhance performance.</li>\n",
    "    <li>Lower the learning rate and decide the optimal parameters.</li>\n",
    "</ol>\n",
    "\n",
    "https://www.analyticsvidhya.com/blog/2016/03/complete-guide-parameter-tuning-xgboost-with-codes-python/\n",
    "### 4.4.2 Tune max_depth and min_child_weight"
   ]
  },
  {
   "cell_type": "code",
   "execution_count": 26,
   "metadata": {},
   "outputs": [
    {
     "name": "stdout",
     "output_type": "stream",
     "text": [
      "# Tuning hyper-parameters for accuracy\n",
      "\n",
      "Best parameters set found on development set:\n",
      "\n",
      "{'max_depth': 7, 'min_child_weight': 3}\n",
      "\n",
      "Grid scores on development set:\n",
      "\n",
      "0.823 (+/-0.026) for {'max_depth': 6, 'min_child_weight': 2}\n",
      "0.825 (+/-0.036) for {'max_depth': 6, 'min_child_weight': 3}\n",
      "0.818 (+/-0.025) for {'max_depth': 6, 'min_child_weight': 4}\n",
      "0.822 (+/-0.032) for {'max_depth': 7, 'min_child_weight': 2}\n",
      "0.829 (+/-0.035) for {'max_depth': 7, 'min_child_weight': 3}\n",
      "0.817 (+/-0.035) for {'max_depth': 7, 'min_child_weight': 4}\n",
      "0.811 (+/-0.041) for {'max_depth': 8, 'min_child_weight': 2}\n",
      "0.827 (+/-0.040) for {'max_depth': 8, 'min_child_weight': 3}\n",
      "0.815 (+/-0.039) for {'max_depth': 8, 'min_child_weight': 4}\n",
      "Elapsed time: 9.933 seconds\n",
      "\n",
      "[[203  57]\n",
      " [ 41 117]]\n",
      "True positive:  117\n",
      "True negative:  203\n",
      "False positive:  57\n",
      "False negative:  41\n",
      "Accuracy = (tp + tn) / (p + n), Accuracy =  0.76555\n",
      "Precision = tp / (tp + fp), Precision =  0.672414\n",
      "Recall = tp / (tp + fn), Recall =  0.740506\n",
      "ROC =  0.760638\n",
      "{'Logistic Regression': 0.833895, 'Random Forest': 0.823793, 'SVM': 0.829405, 'XGBoost': 0.829405}\n"
     ]
    }
   ],
   "source": [
    "# tuned_parameters = {\n",
    "#     \"max_depth\"        : range(3, 10, 2),\n",
    "#     \"min_child_weight\" : range(1, 6, 2)\n",
    "# }\n",
    "tuned_parameters = {\n",
    "    \"max_depth\"        : [6, 7, 8],\n",
    "    \"min_child_weight\" : [2, 3, 4]\n",
    "}\n",
    "model_xgb = XGBClassifier(learning_rate=0.1,\n",
    "                          n_estimators=140,\n",
    "                          max_depth=5,\n",
    "                          min_child_weight=1,\n",
    "                          gamma=0,\n",
    "                          subsample=0.8,\n",
    "                          colsample_bytree=0.8,\n",
    "                          objective='binary:logistic',\n",
    "                          nthread=4,\n",
    "                          scale_pos_weight=1,\n",
    "                          seed=27)\n",
    "xgb_worker = ModelWorker(model_xgb, scores)\n",
    "xgb_grid, best_score = xgb_worker.tune(tuned_parameters, train_df[features], train_df['Survived'],\n",
    "                                       test_df[features], test_df['GroundTruth'], 5)\n",
    "model_metrics[\"XGBoost\"] = round(best_score[\"accuracy\"], 6)\n",
    "print(model_metrics)"
   ]
  },
  {
   "cell_type": "markdown",
   "metadata": {},
   "source": [
    "### 4.4.3 Tune gamma"
   ]
  },
  {
   "cell_type": "code",
   "execution_count": 27,
   "metadata": {},
   "outputs": [
    {
     "name": "stdout",
     "output_type": "stream",
     "text": [
      "# Tuning hyper-parameters for accuracy\n",
      "\n",
      "Best parameters set found on development set:\n",
      "\n",
      "{'gamma': 0.0}\n",
      "\n",
      "Grid scores on development set:\n",
      "\n",
      "0.829 (+/-0.035) for {'gamma': 0.0}\n",
      "0.825 (+/-0.031) for {'gamma': 0.1}\n",
      "0.824 (+/-0.022) for {'gamma': 0.2}\n",
      "0.824 (+/-0.039) for {'gamma': 0.3}\n",
      "0.819 (+/-0.031) for {'gamma': 0.4}\n",
      "Elapsed time: 5.7129 seconds\n",
      "\n",
      "[[203  57]\n",
      " [ 41 117]]\n",
      "True positive:  117\n",
      "True negative:  203\n",
      "False positive:  57\n",
      "False negative:  41\n",
      "Accuracy = (tp + tn) / (p + n), Accuracy =  0.76555\n",
      "Precision = tp / (tp + fp), Precision =  0.672414\n",
      "Recall = tp / (tp + fn), Recall =  0.740506\n",
      "ROC =  0.760638\n",
      "{'Logistic Regression': 0.833895, 'Random Forest': 0.823793, 'SVM': 0.829405, 'XGBoost': 0.829405}\n"
     ]
    }
   ],
   "source": [
    "tuned_parameters = {\n",
    "    \"gamma\"        : [i/10.0 for i in range(0, 5)]\n",
    "}\n",
    "model_xgb = XGBClassifier(learning_rate=0.1,\n",
    "                          n_estimators=140,\n",
    "                          max_depth=7,\n",
    "                          min_child_weight=3,\n",
    "                          gamma=0,\n",
    "                          subsample=0.8,\n",
    "                          colsample_bytree=0.8,\n",
    "                          objective='binary:logistic',\n",
    "                          nthread=4,\n",
    "                          scale_pos_weight=1,\n",
    "                          seed=27)\n",
    "xgb_worker = ModelWorker(model_xgb, scores)\n",
    "xgb_grid, best_score = xgb_worker.tune(tuned_parameters, train_df[features], train_df['Survived'],\n",
    "                                       test_df[features], test_df['GroundTruth'], 5)\n",
    "model_metrics[\"XGBoost\"] = round(best_score[\"accuracy\"], 6)\n",
    "print(model_metrics)"
   ]
  },
  {
   "cell_type": "markdown",
   "metadata": {},
   "source": [
    "### 4.4.4 Tune subsample and colsample_bytree"
   ]
  },
  {
   "cell_type": "code",
   "execution_count": 29,
   "metadata": {},
   "outputs": [
    {
     "name": "stdout",
     "output_type": "stream",
     "text": [
      "# Tuning hyper-parameters for accuracy\n",
      "\n",
      "Best parameters set found on development set:\n",
      "\n",
      "{'colsample_bytree': 0.8, 'subsample': 0.8}\n",
      "\n",
      "Grid scores on development set:\n",
      "\n",
      "0.823 (+/-0.037) for {'colsample_bytree': 0.7, 'subsample': 0.7}\n",
      "0.817 (+/-0.030) for {'colsample_bytree': 0.7, 'subsample': 0.75}\n",
      "0.818 (+/-0.043) for {'colsample_bytree': 0.7, 'subsample': 0.8}\n",
      "0.819 (+/-0.048) for {'colsample_bytree': 0.7, 'subsample': 0.85}\n",
      "0.816 (+/-0.040) for {'colsample_bytree': 0.75, 'subsample': 0.7}\n",
      "0.814 (+/-0.036) for {'colsample_bytree': 0.75, 'subsample': 0.75}\n",
      "0.818 (+/-0.045) for {'colsample_bytree': 0.75, 'subsample': 0.8}\n",
      "0.815 (+/-0.047) for {'colsample_bytree': 0.75, 'subsample': 0.85}\n",
      "0.818 (+/-0.029) for {'colsample_bytree': 0.8, 'subsample': 0.7}\n",
      "0.813 (+/-0.033) for {'colsample_bytree': 0.8, 'subsample': 0.75}\n",
      "0.829 (+/-0.035) for {'colsample_bytree': 0.8, 'subsample': 0.8}\n",
      "0.820 (+/-0.044) for {'colsample_bytree': 0.8, 'subsample': 0.85}\n",
      "0.826 (+/-0.027) for {'colsample_bytree': 0.85, 'subsample': 0.7}\n",
      "0.817 (+/-0.028) for {'colsample_bytree': 0.85, 'subsample': 0.75}\n",
      "0.826 (+/-0.033) for {'colsample_bytree': 0.85, 'subsample': 0.8}\n",
      "0.817 (+/-0.047) for {'colsample_bytree': 0.85, 'subsample': 0.85}\n",
      "Elapsed time: 17.6745 seconds\n",
      "\n",
      "[[203  57]\n",
      " [ 41 117]]\n",
      "True positive:  117\n",
      "True negative:  203\n",
      "False positive:  57\n",
      "False negative:  41\n",
      "Accuracy = (tp + tn) / (p + n), Accuracy =  0.76555\n",
      "Precision = tp / (tp + fp), Precision =  0.672414\n",
      "Recall = tp / (tp + fn), Recall =  0.740506\n",
      "ROC =  0.760638\n",
      "{'Logistic Regression': 0.833895, 'Random Forest': 0.823793, 'SVM': 0.829405, 'XGBoost': 0.829405}\n"
     ]
    }
   ],
   "source": [
    "# tuned_parameters = {\n",
    "#     \"subsample\"        : [i/10.0 for i in range(6, 10)],\n",
    "#     \"colsample_bytree\" : [i/10.0 for i in range(6, 10)]\n",
    "# }\n",
    "tuned_parameters = {\n",
    "    \"subsample\"        : [i/100.0 for i in range(70, 90, 5)],\n",
    "    \"colsample_bytree\" : [i/100.0 for i in range(70, 90, 5)]\n",
    "}\n",
    "model_xgb = XGBClassifier(learning_rate=0.1,\n",
    "                          n_estimators=140,\n",
    "                          max_depth=7,\n",
    "                          min_child_weight=3,\n",
    "                          gamma=0,\n",
    "                          subsample=0.8,\n",
    "                          colsample_bytree=0.8,\n",
    "                          objective='binary:logistic',\n",
    "                          nthread=4,\n",
    "                          scale_pos_weight=1,\n",
    "                          seed=27)\n",
    "xgb_worker = ModelWorker(model_xgb, scores)\n",
    "xgb_grid, best_score = xgb_worker.tune(tuned_parameters, train_df[features], train_df['Survived'],\n",
    "                                       test_df[features], test_df['GroundTruth'], 5)\n",
    "model_metrics[\"XGBoost\"] = round(best_score[\"accuracy\"], 6)\n",
    "print(model_metrics)"
   ]
  },
  {
   "cell_type": "markdown",
   "metadata": {},
   "source": [
    "### 4.4.5 Tune Regularization Parameters"
   ]
  },
  {
   "cell_type": "code",
   "execution_count": 35,
   "metadata": {},
   "outputs": [
    {
     "name": "stdout",
     "output_type": "stream",
     "text": [
      "# Tuning hyper-parameters for accuracy\n",
      "\n",
      "Best parameters set found on development set:\n",
      "\n",
      "{'reg_alpha': 0.0005, 'reg_lambda': 1}\n",
      "\n",
      "Grid scores on development set:\n",
      "\n",
      "0.823 (+/-0.035) for {'reg_alpha': 0.0005, 'reg_lambda': 0.8}\n",
      "0.832 (+/-0.028) for {'reg_alpha': 0.0005, 'reg_lambda': 1}\n",
      "0.819 (+/-0.031) for {'reg_alpha': 0.0005, 'reg_lambda': 1.2}\n",
      "0.824 (+/-0.043) for {'reg_alpha': 0.001, 'reg_lambda': 0.8}\n",
      "0.832 (+/-0.028) for {'reg_alpha': 0.001, 'reg_lambda': 1}\n",
      "0.819 (+/-0.031) for {'reg_alpha': 0.001, 'reg_lambda': 1.2}\n",
      "0.823 (+/-0.037) for {'reg_alpha': 0.005, 'reg_lambda': 0.8}\n",
      "0.824 (+/-0.032) for {'reg_alpha': 0.005, 'reg_lambda': 1}\n",
      "0.827 (+/-0.031) for {'reg_alpha': 0.005, 'reg_lambda': 1.2}\n",
      "Elapsed time: 10.7235 seconds\n",
      "\n",
      "[[203  57]\n",
      " [ 41 117]]\n",
      "True positive:  117\n",
      "True negative:  203\n",
      "False positive:  57\n",
      "False negative:  41\n",
      "Accuracy = (tp + tn) / (p + n), Accuracy =  0.76555\n",
      "Precision = tp / (tp + fp), Precision =  0.672414\n",
      "Recall = tp / (tp + fn), Recall =  0.740506\n",
      "ROC =  0.760638\n",
      "{'Logistic Regression': 0.833895, 'Random Forest': 0.823793, 'SVM': 0.829405, 'XGBoost': 0.83165}\n"
     ]
    }
   ],
   "source": [
    "# tuned_parameters = {\n",
    "#     \"reg_alpha\" : [1e-5, 1e-2, 0.1, 1, 100],\n",
    "#     \"reg_lambda\" : [1e-5, 1e-2, 0.1, 1, 100],\n",
    "# }\n",
    "# tuned_parameters = {\n",
    "#     \"reg_alpha\" : [0, 1e-5, 1e-4, 1e-3],\n",
    "#     \"reg_lambda\" : [0.5, 1, 2, 3],\n",
    "# }\n",
    "tuned_parameters = {\n",
    "    \"reg_alpha\" : [5e-4, 1e-3, 5e-3],\n",
    "    \"reg_lambda\" : [0.8, 1, 1.2],\n",
    "}\n",
    "model_xgb = XGBClassifier(learning_rate=0.1,\n",
    "                          n_estimators=140,\n",
    "                          max_depth=7,\n",
    "                          min_child_weight=3,\n",
    "                          gamma=0,\n",
    "                          subsample=0.8,\n",
    "                          colsample_bytree=0.8,\n",
    "                          objective='binary:logistic',\n",
    "                          nthread=4,\n",
    "                          scale_pos_weight=1,\n",
    "                          seed=27)\n",
    "xgb_worker = ModelWorker(model_xgb, scores)\n",
    "xgb_grid, best_score = xgb_worker.tune(tuned_parameters, train_df[features], train_df['Survived'],\n",
    "                                       test_df[features], test_df['GroundTruth'], 5)\n",
    "model_metrics[\"XGBoost\"] = round(best_score[\"accuracy\"], 6)\n",
    "print(model_metrics)"
   ]
  },
  {
   "cell_type": "markdown",
   "metadata": {},
   "source": [
    "### 4.4.6 Reduce learning rate"
   ]
  },
  {
   "cell_type": "code",
   "execution_count": 39,
   "metadata": {},
   "outputs": [
    {
     "name": "stdout",
     "output_type": "stream",
     "text": [
      "# Tuning hyper-parameters for accuracy\n",
      "\n",
      "Best parameters set found on development set:\n",
      "\n",
      "{'learning_rate': 0.05, 'n_estimators': 300}\n",
      "\n",
      "Grid scores on development set:\n",
      "\n",
      "0.817 (+/-0.039) for {'learning_rate': 0.03, 'n_estimators': 150}\n",
      "0.822 (+/-0.025) for {'learning_rate': 0.03, 'n_estimators': 300}\n",
      "0.826 (+/-0.022) for {'learning_rate': 0.03, 'n_estimators': 400}\n",
      "0.819 (+/-0.018) for {'learning_rate': 0.05, 'n_estimators': 150}\n",
      "0.827 (+/-0.024) for {'learning_rate': 0.05, 'n_estimators': 300}\n",
      "0.822 (+/-0.042) for {'learning_rate': 0.05, 'n_estimators': 400}\n",
      "0.826 (+/-0.034) for {'learning_rate': 0.07, 'n_estimators': 150}\n",
      "0.823 (+/-0.047) for {'learning_rate': 0.07, 'n_estimators': 300}\n",
      "0.823 (+/-0.047) for {'learning_rate': 0.07, 'n_estimators': 400}\n",
      "Elapsed time: 16.0659 seconds\n",
      "\n",
      "[[202  58]\n",
      " [ 44 114]]\n",
      "True positive:  114\n",
      "True negative:  202\n",
      "False positive:  58\n",
      "False negative:  44\n",
      "Accuracy = (tp + tn) / (p + n), Accuracy =  0.755981\n",
      "Precision = tp / (tp + fp), Precision =  0.662791\n",
      "Recall = tp / (tp + fn), Recall =  0.721519\n",
      "ROC =  0.749221\n",
      "{'Logistic Regression': 0.833895, 'Random Forest': 0.823793, 'SVM': 0.829405, 'XGBoost': 0.82716}\n"
     ]
    }
   ],
   "source": [
    "# tuned_parameters = {\n",
    "#     \"learning_rate\": [0.1, 0.01],\n",
    "#     \"n_estimators\" : [100, 200, 500, 1000, 2000]\n",
    "# }\n",
    "# tuned_parameters = {\n",
    "#     \"learning_rate\": [0.5, 0.1, 0.05, 0.01],\n",
    "#     \"n_estimators\" : [100, 200, 300, 500]\n",
    "# }\n",
    "tuned_parameters = {\n",
    "    \"learning_rate\": [0.03, 0.05, 0.07],\n",
    "    \"n_estimators\" : [150, 300, 400]\n",
    "}\n",
    "# tuned_parameters = {\n",
    "#     \"learning_rate\": [0.08, 0.09, 0.1, 0.11],\n",
    "#     \"n_estimators\" : [100, 125, 150]\n",
    "# }\n",
    "model_xgb = XGBClassifier(learning_rate=0.01,\n",
    "                          n_estimators=5000,\n",
    "                          max_depth=7,\n",
    "                          min_child_weight=3,\n",
    "                          gamma=0,\n",
    "                          subsample=0.8,\n",
    "                          colsample_bytree=0.8,\n",
    "                          objective='binary:logistic',\n",
    "                          nthread=4,\n",
    "                          scale_pos_weight=1,\n",
    "                          reg_alpha=0.0005,\n",
    "                          reg_lambda=1,\n",
    "                          seed=27)\n",
    "xgb_worker = ModelWorker(model_xgb, scores)\n",
    "xgb_grid, best_score = xgb_worker.tune(tuned_parameters, train_df[features], train_df['Survived'],\n",
    "                                       test_df[features], test_df['GroundTruth'], 5)\n",
    "model_metrics[\"XGBoost\"] = round(best_score[\"accuracy\"], 6)\n",
    "print(model_metrics)"
   ]
  },
  {
   "cell_type": "markdown",
   "metadata": {},
   "source": [
    "## 4.5 LightGBM\n",
    "Take note that CatBoost cannot be used on one-hot encoded dataset. LightGBM is applied in this case.\n",
    "### 4.5.1 Fit a baseline model"
   ]
  },
  {
   "cell_type": "code",
   "execution_count": 40,
   "metadata": {},
   "outputs": [
    {
     "name": "stdout",
     "output_type": "stream",
     "text": [
      "Fitted model:  LGBMClassifier(boosting_type='gbdt', class_weight=None, colsample_bytree=1.0,\n",
      "               importance_type='split', learning_rate=0.1, max_depth=-1,\n",
      "               min_child_samples=20, min_child_weight=0.001, min_split_gain=0.0,\n",
      "               n_estimators=100, n_jobs=-1, num_leaves=31, objective=None,\n",
      "               random_state=None, reg_alpha=0.0, reg_lambda=0.0, silent=True,\n",
      "               subsample=1.0, subsample_for_bin=200000, subsample_freq=0)\n",
      "[[194  66]\n",
      " [ 36 122]]\n",
      "True positive:  122\n",
      "True negative:  194\n",
      "False positive:  66\n",
      "False negative:  36\n",
      "Accuracy = (tp + tn) / (p + n), Accuracy =  0.755981\n",
      "Precision = tp / (tp + fp), Precision =  0.648936\n",
      "Recall = tp / (tp + fn), Recall =  0.772152\n",
      "ROC =  0.759153\n"
     ]
    }
   ],
   "source": [
    "lgb_worker = ModelWorker(LGBMClassifier(), scores)\n",
    "lgb_worker.fit(train_df[features], train_df['Survived'],\n",
    "               test_df[features], test_df['GroundTruth'])"
   ]
  },
  {
   "cell_type": "markdown",
   "metadata": {},
   "source": [
    "### 4.5.2 Tune tree-specific parameters "
   ]
  },
  {
   "cell_type": "code",
   "execution_count": 44,
   "metadata": {},
   "outputs": [
    {
     "name": "stdout",
     "output_type": "stream",
     "text": [
      "# Tuning hyper-parameters for accuracy\n",
      "\n",
      "Best parameters set found on development set:\n",
      "\n",
      "{'subsample': 0.9, 'reg_lambda': 1, 'reg_alpha': 1, 'num_leaves': 5, 'min_child_weight': 1, 'min_child_samples': 5, 'colsample_bytree': 0.6}\n",
      "\n",
      "Grid scores on development set:\n",
      "\n",
      "0.829 (+/-0.040) for {'subsample': 0.9, 'reg_lambda': 1, 'reg_alpha': 1, 'num_leaves': 5, 'min_child_weight': 1, 'min_child_samples': 5, 'colsample_bytree': 0.6}\n",
      "0.829 (+/-0.033) for {'subsample': 0.9, 'reg_lambda': 0.01, 'reg_alpha': 1, 'num_leaves': 15, 'min_child_weight': 3, 'min_child_samples': 20, 'colsample_bytree': 0.7}\n",
      "0.825 (+/-0.032) for {'subsample': 0.7, 'reg_lambda': 100, 'reg_alpha': 1, 'num_leaves': 15, 'min_child_weight': 1, 'min_child_samples': 3, 'colsample_bytree': 0.7}\n",
      "0.816 (+/-0.018) for {'subsample': 0.8, 'reg_lambda': 0.1, 'reg_alpha': 0.01, 'num_leaves': 25, 'min_child_weight': 3, 'min_child_samples': 5, 'colsample_bytree': 0.9}\n",
      "0.814 (+/-0.021) for {'subsample': 0.7, 'reg_lambda': 0.01, 'reg_alpha': 0.1, 'num_leaves': 25, 'min_child_weight': 5, 'min_child_samples': 15, 'colsample_bytree': 0.9}\n",
      "0.828 (+/-0.033) for {'subsample': 0.7, 'reg_lambda': 0.1, 'reg_alpha': 0.01, 'num_leaves': 15, 'min_child_weight': 1, 'min_child_samples': 3, 'colsample_bytree': 0.9}\n",
      "0.817 (+/-0.028) for {'subsample': 0.6, 'reg_lambda': 0.01, 'reg_alpha': 1, 'num_leaves': 35, 'min_child_weight': 1, 'min_child_samples': 10, 'colsample_bytree': 0.8}\n",
      "0.818 (+/-0.037) for {'subsample': 0.6, 'reg_lambda': 1, 'reg_alpha': 0.1, 'num_leaves': 5, 'min_child_weight': 1, 'min_child_samples': 20, 'colsample_bytree': 0.9}\n",
      "0.828 (+/-0.032) for {'subsample': 0.8, 'reg_lambda': 100, 'reg_alpha': 1, 'num_leaves': 35, 'min_child_weight': 3, 'min_child_samples': 10, 'colsample_bytree': 0.9}\n",
      "0.810 (+/-0.027) for {'subsample': 0.9, 'reg_lambda': 0.01, 'reg_alpha': 0.01, 'num_leaves': 55, 'min_child_weight': 1, 'min_child_samples': 5, 'colsample_bytree': 0.9}\n",
      "Elapsed time: 12.193 seconds\n",
      "\n",
      "[[204  56]\n",
      " [ 37 121]]\n",
      "True positive:  121\n",
      "True negative:  204\n",
      "False positive:  56\n",
      "False negative:  37\n",
      "Accuracy = (tp + tn) / (p + n), Accuracy =  0.777512\n",
      "Precision = tp / (tp + fp), Precision =  0.683616\n",
      "Recall = tp / (tp + fn), Recall =  0.765823\n",
      "ROC =  0.775219\n",
      "{'Logistic Regression': 0.833895, 'Random Forest': 0.823793, 'SVM': 0.829405, 'XGBoost': 0.82716, 'LightGBM': 0.829405}\n"
     ]
    }
   ],
   "source": [
    "tuned_parameters = {\n",
    "    \"num_leaves\": [int(x) for x in np.linspace(5, 55, num=6)], \n",
    "    \"min_child_samples\": [3, 5, 10, 15, 20], \n",
    "    \"min_child_weight\": range(1, 6, 2),\n",
    "    \"subsample\": [i/10.0 for i in range(6, 10)], \n",
    "    \"colsample_bytree\": [i/10.0 for i in range(6, 10)],\n",
    "    \"reg_alpha\": [1e-5, 1e-2, 0.1, 1, 100],\n",
    "    \"reg_lambda\": [1e-5, 1e-2, 0.1, 1, 100]\n",
    "}\n",
    "lgb_worker = ModelWorker(LGBMClassifier(learning_rate=0.1, n_estimators=100, seed=27), scores)\n",
    "lgb_random, best_score = lgb_worker.tune(tuned_parameters, train_df[features], train_df['Survived'],\n",
    "                                       test_df[features], test_df['GroundTruth'], 5, False)\n",
    "model_metrics[\"LightGBM\"] = round(best_score[\"accuracy\"], 6)\n",
    "print(model_metrics)"
   ]
  },
  {
   "cell_type": "markdown",
   "metadata": {},
   "source": [
    "### 4.5.3 Search for optimal pair of learning_rate & n_estimators"
   ]
  },
  {
   "cell_type": "code",
   "execution_count": 47,
   "metadata": {},
   "outputs": [
    {
     "name": "stdout",
     "output_type": "stream",
     "text": [
      "# Tuning hyper-parameters for accuracy\n",
      "\n",
      "Best parameters set found on development set:\n",
      "\n",
      "{'learning_rate': 0.008, 'n_estimators': 900}\n",
      "\n",
      "Grid scores on development set:\n",
      "\n",
      "0.828 (+/-0.039) for {'learning_rate': 0.008, 'n_estimators': 600}\n",
      "0.832 (+/-0.042) for {'learning_rate': 0.008, 'n_estimators': 750}\n",
      "0.832 (+/-0.042) for {'learning_rate': 0.008, 'n_estimators': 800}\n",
      "0.833 (+/-0.045) for {'learning_rate': 0.008, 'n_estimators': 900}\n",
      "0.832 (+/-0.042) for {'learning_rate': 0.01, 'n_estimators': 600}\n",
      "0.832 (+/-0.047) for {'learning_rate': 0.01, 'n_estimators': 750}\n",
      "0.833 (+/-0.046) for {'learning_rate': 0.01, 'n_estimators': 800}\n",
      "0.828 (+/-0.052) for {'learning_rate': 0.01, 'n_estimators': 900}\n",
      "0.832 (+/-0.043) for {'learning_rate': 0.012, 'n_estimators': 600}\n",
      "0.829 (+/-0.051) for {'learning_rate': 0.012, 'n_estimators': 750}\n",
      "0.829 (+/-0.048) for {'learning_rate': 0.012, 'n_estimators': 800}\n",
      "0.825 (+/-0.045) for {'learning_rate': 0.012, 'n_estimators': 900}\n",
      "0.826 (+/-0.043) for {'learning_rate': 0.015, 'n_estimators': 600}\n",
      "0.823 (+/-0.042) for {'learning_rate': 0.015, 'n_estimators': 750}\n",
      "0.820 (+/-0.043) for {'learning_rate': 0.015, 'n_estimators': 800}\n",
      "0.824 (+/-0.038) for {'learning_rate': 0.015, 'n_estimators': 900}\n",
      "Elapsed time: 47.883 seconds\n",
      "\n",
      "[[202  58]\n",
      " [ 37 121]]\n",
      "True positive:  121\n",
      "True negative:  202\n",
      "False positive:  58\n",
      "False negative:  37\n",
      "Accuracy = (tp + tn) / (p + n), Accuracy =  0.772727\n",
      "Precision = tp / (tp + fp), Precision =  0.675978\n",
      "Recall = tp / (tp + fn), Recall =  0.765823\n",
      "ROC =  0.771373\n",
      "{'Logistic Regression': 0.833895, 'Random Forest': 0.823793, 'SVM': 0.829405, 'XGBoost': 0.82716, 'LightGBM': 0.832772}\n"
     ]
    }
   ],
   "source": [
    "# tuned_parameters = {\n",
    "#     \"learning_rate\": [0.01, 0.05, 0.1, 0.2],\n",
    "#     \"n_estimators\" : [100, 500, 1000]\n",
    "# }\n",
    "# tuned_parameters = {\n",
    "#     \"learning_rate\": [0.005, 0.01, 0.02],\n",
    "#     \"n_estimators\" : [250, 500, 750]\n",
    "# }\n",
    "tuned_parameters = {\n",
    "    \"learning_rate\": [0.008, 0.01, 0.012, 0.015],\n",
    "    \"n_estimators\" : [600, 750, 800, 900]\n",
    "}\n",
    "model_lgb = LGBMClassifier(learning_rate=0.1,\n",
    "                           n_estimators=100,\n",
    "                           subsample=0.9,\n",
    "                           reg_lambda=1,\n",
    "                           reg_alpha=1,\n",
    "                           num_leaves=5,\n",
    "                           min_child_weight=1,\n",
    "                           min_child_samples=5,\n",
    "                           colsample_bytree=0.6,\n",
    "                           seed=27)\n",
    "lgb_worker = ModelWorker(model_lgb, scores)\n",
    "lgb_grid, best_score = lgb_worker.tune(tuned_parameters, train_df[features], train_df['Survived'],\n",
    "                                       test_df[features], test_df['GroundTruth'], 5)\n",
    "model_metrics[\"LightGBM\"] = round(best_score[\"accuracy\"], 6)\n",
    "print(model_metrics)"
   ]
  },
  {
   "cell_type": "markdown",
   "metadata": {},
   "source": [
    "Plot feature importance graph."
   ]
  },
  {
   "cell_type": "code",
   "execution_count": 48,
   "metadata": {},
   "outputs": [
    {
     "data": {
      "image/png": "[encoded data removed]",
      "text/plain": [
       "<Figure size 720x432 with 1 Axes>"
      ]
     },
     "metadata": {},
     "output_type": "display_data"
    }
   ],
   "source": [
    "ax = lgb.plot_importance(lgb_grid.best_estimator_, height=0.8, max_num_features=15, figsize=(10,6))\n",
    "plt.show()"
   ]
  },
  {
   "cell_type": "markdown",
   "metadata": {},
   "source": [
    "## 4.6 Build Ensemble Model\n",
    "### 4.6.1 Compare performance of level-1 classifiers."
   ]
  },
  {
   "cell_type": "code",
   "execution_count": 49,
   "metadata": {},
   "outputs": [
    {
     "data": {
      "image/png": "[encoded data removed]",
      "text/plain": [
       "<Figure size 576x360 with 1 Axes>"
      ]
     },
     "metadata": {},
     "output_type": "display_data"
    }
   ],
   "source": [
    "model_metrics_df = pd.DataFrame(list(model_metrics.items()), columns=[\"Model\", \"Accuracy\"])\n",
    "plt.figure(figsize=(8, 5))\n",
    "sns.set(style=\"whitegrid\")\n",
    "g = sns.barplot(x=\"Model\", y=\"Accuracy\", data=model_metrics_df)\n",
    "g.set(ylim=(0.6, None))\n",
    "for index, row in model_metrics_df.iterrows():\n",
    "    g.text(row.name, row.Accuracy, round(row.Accuracy, 6), color='black', ha=\"center\")"
   ]
  },
  {
   "cell_type": "markdown",
   "metadata": {},
   "source": [
    "### 4.6.2 Fit Stacking Classifier\n",
    "The performance is not as good as expected. The resulting accuracy is lower than the best fitted model."
   ]
  },
  {
   "cell_type": "code",
   "execution_count": 51,
   "metadata": {},
   "outputs": [
    {
     "name": "stdout",
     "output_type": "stream",
     "text": [
      "0.824916 +/- 0.012006 {'meta_classifier__C': 0.005}\n",
      "0.826038 +/- 0.010887 {'meta_classifier__C': 0.01}\n",
      "0.827160 +/- 0.009689 {'meta_classifier__C': 0.02}\n",
      "0.827160 +/- 0.007581 {'meta_classifier__C': 0.05}\n",
      "Best parameters: {'meta_classifier__C': 0.02}\n",
      "Accuracy: 0.827160\n",
      "Elapsed time: 85.8344 seconds\n"
     ]
    }
   ],
   "source": [
    "start_time = time.time()\n",
    "clf1 = logreg_grid.best_estimator_\n",
    "clf2 = rf_random.best_estimator_\n",
    "clf3 = svm_grid.best_estimator_\n",
    "clf4 = xgb_grid.best_estimator_\n",
    "clf5 = lgb_grid.best_estimator_\n",
    "sclf = StackingClassifier(classifiers=[clf1, clf2, clf3, clf4, clf5],\n",
    "                          use_probas=True,\n",
    "                          average_probas=False,\n",
    "                          meta_classifier=LogisticRegression())\n",
    "# params = {'meta_classifier__C': [0.001, 0.01, 0.1, 1, 10, 100, 1000]}\n",
    "params = {'meta_classifier__C': [0.005, 0.01, 0.02, 0.05]}\n",
    "grid = GridSearchCV(estimator=sclf, \n",
    "                    param_grid=params, \n",
    "                    cv=5,\n",
    "                    refit=True)\n",
    "grid.fit(train_df[features], train_df['Survived'])\n",
    "cv_keys = ('mean_test_score', 'std_test_score', 'params')\n",
    "for r, _ in enumerate(grid.cv_results_['mean_test_score']):\n",
    "    print(\"%0.6f +/- %0.6f %r\"\n",
    "          % (grid.cv_results_[cv_keys[0]][r],\n",
    "             grid.cv_results_[cv_keys[1]][r] / 2.0,\n",
    "             grid.cv_results_[cv_keys[2]][r]))\n",
    "\n",
    "print('Best parameters: %s' % grid.best_params_)\n",
    "print('Accuracy: %.6f' % grid.best_score_)\n",
    "print(\"Elapsed time: %s seconds\" % round(time.time() - start_time, 4))"
   ]
  },
  {
   "cell_type": "markdown",
   "metadata": {},
   "source": [
    "### 4.6.3 Apply feature weighted linear stacking\n",
    "Collect predicted probability of survival from standalone models."
   ]
  },
  {
   "cell_type": "code",
   "execution_count": 60,
   "metadata": {},
   "outputs": [
    {
     "name": "stdout",
     "output_type": "stream",
     "text": [
      "Shape:  (891, 5)\n"
     ]
    },
    {
     "data": {
      "text/html": [
       "<div>\n",
       "<style scoped>\n",
       "    .dataframe tbody tr th:only-of-type {\n",
       "        vertical-align: middle;\n",
       "    }\n",
       "\n",
       "    .dataframe tbody tr th {\n",
       "        vertical-align: top;\n",
       "    }\n",
       "\n",
       "    .dataframe thead th {\n",
       "        text-align: right;\n",
       "    }\n",
       "</style>\n",
       "<table border=\"1\" class=\"dataframe\">\n",
       "  <thead>\n",
       "    <tr style=\"text-align: right;\">\n",
       "      <th></th>\n",
       "      <th>logreg</th>\n",
       "      <th>rf</th>\n",
       "      <th>svm</th>\n",
       "      <th>xgb</th>\n",
       "      <th>lgb</th>\n",
       "    </tr>\n",
       "  </thead>\n",
       "  <tbody>\n",
       "    <tr>\n",
       "      <th>0</th>\n",
       "      <td>0.051782</td>\n",
       "      <td>0.122288</td>\n",
       "      <td>0.123576</td>\n",
       "      <td>0.117878</td>\n",
       "      <td>0.101282</td>\n",
       "    </tr>\n",
       "    <tr>\n",
       "      <th>1</th>\n",
       "      <td>0.975197</td>\n",
       "      <td>0.997046</td>\n",
       "      <td>0.937520</td>\n",
       "      <td>0.996164</td>\n",
       "      <td>0.963772</td>\n",
       "    </tr>\n",
       "    <tr>\n",
       "      <th>2</th>\n",
       "      <td>0.629324</td>\n",
       "      <td>0.506329</td>\n",
       "      <td>0.664326</td>\n",
       "      <td>0.676615</td>\n",
       "      <td>0.527071</td>\n",
       "    </tr>\n",
       "    <tr>\n",
       "      <th>3</th>\n",
       "      <td>0.941086</td>\n",
       "      <td>0.993599</td>\n",
       "      <td>0.881495</td>\n",
       "      <td>0.977795</td>\n",
       "      <td>0.939800</td>\n",
       "    </tr>\n",
       "    <tr>\n",
       "      <th>4</th>\n",
       "      <td>0.063481</td>\n",
       "      <td>0.121430</td>\n",
       "      <td>0.128682</td>\n",
       "      <td>0.141132</td>\n",
       "      <td>0.098738</td>\n",
       "    </tr>\n",
       "  </tbody>\n",
       "</table>\n",
       "</div>"
      ],
      "text/plain": [
       "     logreg        rf       svm       xgb       lgb\n",
       "0  0.051782  0.122288  0.123576  0.117878  0.101282\n",
       "1  0.975197  0.997046  0.937520  0.996164  0.963772\n",
       "2  0.629324  0.506329  0.664326  0.676615  0.527071\n",
       "3  0.941086  0.993599  0.881495  0.977795  0.939800\n",
       "4  0.063481  0.121430  0.128682  0.141132  0.098738"
      ]
     },
     "execution_count": 60,
     "metadata": {},
     "output_type": "execute_result"
    }
   ],
   "source": [
    "prediction_df = pd.DataFrame(columns=['logreg', 'rf', 'svm', 'xgb', 'lgb'])\n",
    "prediction_df['logreg'] = clf1.predict_proba(train_df[features])[:,1]\n",
    "prediction_df['rf'] = clf2.predict_proba(train_df[features])[:,1]\n",
    "prediction_df['svm'] = clf3.predict_proba(train_df[features])[:,1]\n",
    "prediction_df['xgb'] = clf4.predict_proba(train_df[features])[:,1]\n",
    "prediction_df['lgb'] = clf5.predict_proba(train_df[features])[:,1]\n",
    "print(\"Shape: \", prediction_df.shape)\n",
    "prediction_df.head()"
   ]
  },
  {
   "cell_type": "code",
   "execution_count": 78,
   "metadata": {},
   "outputs": [
    {
     "data": {
      "text/plain": [
       "0.8316498316498316"
      ]
     },
     "execution_count": 78,
     "metadata": {},
     "output_type": "execute_result"
    }
   ],
   "source": [
    "from sklearn.linear_model import LinearRegression\n",
    "from sklearn.model_selection import cross_val_predict\n",
    "from sklearn.metrics import accuracy_score\n",
    "\n",
    "y_prob = cross_val_predict(LinearRegression(), train_df[features], train_df['Survived'], cv=5)\n",
    "y_pred = np.array([1 if p > 0.5 else 0 for p in y_prob])\n",
    "accuracy_score(y_pred, train_df['Survived'].values)"
   ]
  }
 ],
 "metadata": {
  "kernelspec": {
   "display_name": "Python 3",
   "language": "python",
   "name": "python3"
  },
  "language_info": {
   "codemirror_mode": {
    "name": "ipython",
    "version": 3
   },
   "file_extension": ".py",
   "mimetype": "text/x-python",
   "name": "python",
   "nbconvert_exporter": "python",
   "pygments_lexer": "ipython3",
   "version": "3.7.0"
  }
 },
 "nbformat": 4,
 "nbformat_minor": 2
}
