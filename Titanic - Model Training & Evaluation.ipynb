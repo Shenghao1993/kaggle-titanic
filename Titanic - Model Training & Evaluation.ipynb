{
 "cells": [
  {
   "cell_type": "code",
   "execution_count": 8,
   "metadata": {},
   "outputs": [],
   "source": [
    "import numpy as np\n",
    "import pandas as pd\n",
    "import time\n",
    "import warnings\n",
    "import matplotlib.pyplot as plt\n",
    "from pprint import pprint\n",
    "from sklearn import model_selection\n",
    "from sklearn.linear_model import LogisticRegression\n",
    "from sklearn.ensemble import RandomForestClassifier\n",
    "from sklearn.svm import SVC\n",
    "from sklearn.model_selection import RandomizedSearchCV, GridSearchCV\n",
    "from lightgbm import LGBMClassifier\n",
    "from xgboost import XGBClassifier\n",
    "from mlxtend.classifier import StackingClassifier\n",
    "from helpers import Preprocessor, ModelWorker\n",
    "\n",
    "%matplotlib inline\n",
    "plt.style.use('bmh')\n",
    "warnings.filterwarnings('ignore')"
   ]
  },
  {
   "cell_type": "markdown",
   "metadata": {},
   "source": [
    "# Chapter IV - Fit Machine Learning Models\n",
    "Perform feature engineering on the combined training & test dataset before fitting machine learning models."
   ]
  },
  {
   "cell_type": "code",
   "execution_count": 9,
   "metadata": {},
   "outputs": [
    {
     "name": "stdout",
     "output_type": "stream",
     "text": [
      "{'A': 36.0, 'B': 102.0, 'C': 148.0, 'D': 56.0, 'E': 121.0, 'F': 73.0, 'G': 6.0, 'T': nan, 'U': nan}\n",
      "One-hot encoded columns:  Index(['PassengerId', 'Survived', 'Name', 'Sex', 'Age', 'SibSp', 'Parch',\n",
      "       'Ticket', 'Cabin', 'FamilySize', 'NormalizedFamilySize', 'IsAlone',\n",
      "       'NameLength', 'NormalizedNameLength', 'HasCabin', 'Deck', 'Room',\n",
      "       'NormalizedRoomNo', 'Pclass_1', 'Pclass_2', 'Pclass_3',\n",
      "       'CategoricalAge_0', 'CategoricalAge_1', 'CategoricalAge_2',\n",
      "       'CategoricalAge_3', 'CategoricalAge_4', 'Fare_0', 'Fare_1', 'Fare_2',\n",
      "       'Fare_3', 'Embarked_0', 'Embarked_1', 'Embarked_2', 'Title_1',\n",
      "       'Title_2', 'Title_3', 'Title_4', 'Title_5'],\n",
      "      dtype='object')\n",
      "{'A': 34.0, 'B': 78.0, 'C': 132.0, 'D': 43.0, 'E': 60.0, 'F': 63.0, 'G': 6.0, 'U': nan}\n",
      "One-hot encoded columns:  Index(['PassengerId', 'Name', 'Sex', 'Age', 'SibSp', 'Parch', 'Ticket',\n",
      "       'Cabin', 'FamilySize', 'NormalizedFamilySize', 'IsAlone', 'NameLength',\n",
      "       'NormalizedNameLength', 'HasCabin', 'Deck', 'Room', 'NormalizedRoomNo',\n",
      "       'Pclass_1', 'Pclass_2', 'Pclass_3', 'CategoricalAge_0',\n",
      "       'CategoricalAge_1', 'CategoricalAge_2', 'CategoricalAge_3',\n",
      "       'CategoricalAge_4', 'Fare_0', 'Fare_1', 'Fare_2', 'Fare_3',\n",
      "       'Embarked_0', 'Embarked_1', 'Embarked_2', 'Title_1', 'Title_2',\n",
      "       'Title_3', 'Title_4', 'Title_5'],\n",
      "      dtype='object')\n",
      "Dimension of training data:  (891, 29)\n",
      "Dimension of test data:  (418, 28)\n"
     ]
    },
    {
     "data": {
      "text/html": [
       "<div>\n",
       "<style scoped>\n",
       "    .dataframe tbody tr th:only-of-type {\n",
       "        vertical-align: middle;\n",
       "    }\n",
       "\n",
       "    .dataframe tbody tr th {\n",
       "        vertical-align: top;\n",
       "    }\n",
       "\n",
       "    .dataframe thead th {\n",
       "        text-align: right;\n",
       "    }\n",
       "</style>\n",
       "<table border=\"1\" class=\"dataframe\">\n",
       "  <thead>\n",
       "    <tr style=\"text-align: right;\">\n",
       "      <th></th>\n",
       "      <th>Survived</th>\n",
       "      <th>Name</th>\n",
       "      <th>Sex</th>\n",
       "      <th>Age</th>\n",
       "      <th>NormalizedFamilySize</th>\n",
       "      <th>IsAlone</th>\n",
       "      <th>NormalizedNameLength</th>\n",
       "      <th>HasCabin</th>\n",
       "      <th>NormalizedRoomNo</th>\n",
       "      <th>Pclass_1</th>\n",
       "      <th>...</th>\n",
       "      <th>Fare_2</th>\n",
       "      <th>Fare_3</th>\n",
       "      <th>Embarked_0</th>\n",
       "      <th>Embarked_1</th>\n",
       "      <th>Embarked_2</th>\n",
       "      <th>Title_1</th>\n",
       "      <th>Title_2</th>\n",
       "      <th>Title_3</th>\n",
       "      <th>Title_4</th>\n",
       "      <th>Title_5</th>\n",
       "    </tr>\n",
       "  </thead>\n",
       "  <tbody>\n",
       "    <tr>\n",
       "      <th>0</th>\n",
       "      <td>0</td>\n",
       "      <td>Braund, Mr. Owen Harris</td>\n",
       "      <td>1</td>\n",
       "      <td>22.0</td>\n",
       "      <td>0.1</td>\n",
       "      <td>0</td>\n",
       "      <td>0.157143</td>\n",
       "      <td>0</td>\n",
       "      <td>0.504337</td>\n",
       "      <td>0</td>\n",
       "      <td>...</td>\n",
       "      <td>0</td>\n",
       "      <td>0</td>\n",
       "      <td>1</td>\n",
       "      <td>0</td>\n",
       "      <td>0</td>\n",
       "      <td>1</td>\n",
       "      <td>0</td>\n",
       "      <td>0</td>\n",
       "      <td>0</td>\n",
       "      <td>0</td>\n",
       "    </tr>\n",
       "    <tr>\n",
       "      <th>1</th>\n",
       "      <td>1</td>\n",
       "      <td>Cumings, Mrs. John Bradley (Florence Briggs Th...</td>\n",
       "      <td>0</td>\n",
       "      <td>38.0</td>\n",
       "      <td>0.1</td>\n",
       "      <td>0</td>\n",
       "      <td>0.557143</td>\n",
       "      <td>1</td>\n",
       "      <td>0.574324</td>\n",
       "      <td>1</td>\n",
       "      <td>...</td>\n",
       "      <td>0</td>\n",
       "      <td>1</td>\n",
       "      <td>0</td>\n",
       "      <td>1</td>\n",
       "      <td>0</td>\n",
       "      <td>0</td>\n",
       "      <td>0</td>\n",
       "      <td>1</td>\n",
       "      <td>0</td>\n",
       "      <td>0</td>\n",
       "    </tr>\n",
       "    <tr>\n",
       "      <th>2</th>\n",
       "      <td>1</td>\n",
       "      <td>Heikkinen, Miss. Laina</td>\n",
       "      <td>0</td>\n",
       "      <td>26.0</td>\n",
       "      <td>0.0</td>\n",
       "      <td>1</td>\n",
       "      <td>0.142857</td>\n",
       "      <td>0</td>\n",
       "      <td>0.504337</td>\n",
       "      <td>0</td>\n",
       "      <td>...</td>\n",
       "      <td>0</td>\n",
       "      <td>0</td>\n",
       "      <td>1</td>\n",
       "      <td>0</td>\n",
       "      <td>0</td>\n",
       "      <td>0</td>\n",
       "      <td>1</td>\n",
       "      <td>0</td>\n",
       "      <td>0</td>\n",
       "      <td>0</td>\n",
       "    </tr>\n",
       "    <tr>\n",
       "      <th>3</th>\n",
       "      <td>1</td>\n",
       "      <td>Futrelle, Mrs. Jacques Heath (Lily May Peel)</td>\n",
       "      <td>0</td>\n",
       "      <td>35.0</td>\n",
       "      <td>0.1</td>\n",
       "      <td>0</td>\n",
       "      <td>0.457143</td>\n",
       "      <td>1</td>\n",
       "      <td>0.831081</td>\n",
       "      <td>1</td>\n",
       "      <td>...</td>\n",
       "      <td>0</td>\n",
       "      <td>1</td>\n",
       "      <td>1</td>\n",
       "      <td>0</td>\n",
       "      <td>0</td>\n",
       "      <td>0</td>\n",
       "      <td>0</td>\n",
       "      <td>1</td>\n",
       "      <td>0</td>\n",
       "      <td>0</td>\n",
       "    </tr>\n",
       "    <tr>\n",
       "      <th>4</th>\n",
       "      <td>0</td>\n",
       "      <td>Allen, Mr. William Henry</td>\n",
       "      <td>1</td>\n",
       "      <td>35.0</td>\n",
       "      <td>0.0</td>\n",
       "      <td>1</td>\n",
       "      <td>0.171429</td>\n",
       "      <td>0</td>\n",
       "      <td>0.504337</td>\n",
       "      <td>0</td>\n",
       "      <td>...</td>\n",
       "      <td>0</td>\n",
       "      <td>0</td>\n",
       "      <td>1</td>\n",
       "      <td>0</td>\n",
       "      <td>0</td>\n",
       "      <td>1</td>\n",
       "      <td>0</td>\n",
       "      <td>0</td>\n",
       "      <td>0</td>\n",
       "      <td>0</td>\n",
       "    </tr>\n",
       "  </tbody>\n",
       "</table>\n",
       "<p>5 rows × 29 columns</p>\n",
       "</div>"
      ],
      "text/plain": [
       "   Survived                                               Name  Sex   Age  \\\n",
       "0         0                            Braund, Mr. Owen Harris    1  22.0   \n",
       "1         1  Cumings, Mrs. John Bradley (Florence Briggs Th...    0  38.0   \n",
       "2         1                             Heikkinen, Miss. Laina    0  26.0   \n",
       "3         1       Futrelle, Mrs. Jacques Heath (Lily May Peel)    0  35.0   \n",
       "4         0                           Allen, Mr. William Henry    1  35.0   \n",
       "\n",
       "   NormalizedFamilySize  IsAlone  NormalizedNameLength  HasCabin  \\\n",
       "0                   0.1        0              0.157143         0   \n",
       "1                   0.1        0              0.557143         1   \n",
       "2                   0.0        1              0.142857         0   \n",
       "3                   0.1        0              0.457143         1   \n",
       "4                   0.0        1              0.171429         0   \n",
       "\n",
       "   NormalizedRoomNo  Pclass_1  ...  Fare_2  Fare_3  Embarked_0  Embarked_1  \\\n",
       "0          0.504337         0  ...       0       0           1           0   \n",
       "1          0.574324         1  ...       0       1           0           1   \n",
       "2          0.504337         0  ...       0       0           1           0   \n",
       "3          0.831081         1  ...       0       1           1           0   \n",
       "4          0.504337         0  ...       0       0           1           0   \n",
       "\n",
       "   Embarked_2  Title_1  Title_2  Title_3  Title_4  Title_5  \n",
       "0           0        1        0        0        0        0  \n",
       "1           0        0        0        1        0        0  \n",
       "2           0        0        1        0        0        0  \n",
       "3           0        0        0        1        0        0  \n",
       "4           0        1        0        0        0        0  \n",
       "\n",
       "[5 rows x 29 columns]"
      ]
     },
     "execution_count": 9,
     "metadata": {},
     "output_type": "execute_result"
    }
   ],
   "source": [
    "preprocessor = Preprocessor(\"input/train.csv\", \"input/test.csv\")\n",
    "train_df, test_df = preprocessor.run()\n",
    "print(\"Dimension of training data: \", train_df.shape)\n",
    "print(\"Dimension of test data: \", test_df.shape)\n",
    "train_df.head()"
   ]
  },
  {
   "cell_type": "markdown",
   "metadata": {},
   "source": [
    "Normalize the passengers' name by removing the quotation mark"
   ]
  },
  {
   "cell_type": "code",
   "execution_count": 10,
   "metadata": {},
   "outputs": [
    {
     "data": {
      "text/html": [
       "<div>\n",
       "<style scoped>\n",
       "    .dataframe tbody tr th:only-of-type {\n",
       "        vertical-align: middle;\n",
       "    }\n",
       "\n",
       "    .dataframe tbody tr th {\n",
       "        vertical-align: top;\n",
       "    }\n",
       "\n",
       "    .dataframe thead th {\n",
       "        text-align: right;\n",
       "    }\n",
       "</style>\n",
       "<table border=\"1\" class=\"dataframe\">\n",
       "  <thead>\n",
       "    <tr style=\"text-align: right;\">\n",
       "      <th></th>\n",
       "      <th>Name</th>\n",
       "      <th>Sex</th>\n",
       "      <th>Age</th>\n",
       "      <th>NormalizedFamilySize</th>\n",
       "      <th>IsAlone</th>\n",
       "      <th>NormalizedNameLength</th>\n",
       "      <th>HasCabin</th>\n",
       "      <th>NormalizedRoomNo</th>\n",
       "      <th>Pclass_1</th>\n",
       "      <th>Pclass_2</th>\n",
       "      <th>...</th>\n",
       "      <th>Embarked_1</th>\n",
       "      <th>Embarked_2</th>\n",
       "      <th>Title_1</th>\n",
       "      <th>Title_2</th>\n",
       "      <th>Title_3</th>\n",
       "      <th>Title_4</th>\n",
       "      <th>Title_5</th>\n",
       "      <th>cleaned_name</th>\n",
       "      <th>age</th>\n",
       "      <th>GroundTruth</th>\n",
       "    </tr>\n",
       "  </thead>\n",
       "  <tbody>\n",
       "    <tr>\n",
       "      <th>0</th>\n",
       "      <td>Kelly, Mr. James</td>\n",
       "      <td>1</td>\n",
       "      <td>34.5</td>\n",
       "      <td>0.0</td>\n",
       "      <td>1</td>\n",
       "      <td>0.06</td>\n",
       "      <td>0</td>\n",
       "      <td>0.578825</td>\n",
       "      <td>0</td>\n",
       "      <td>0</td>\n",
       "      <td>...</td>\n",
       "      <td>0</td>\n",
       "      <td>1</td>\n",
       "      <td>1</td>\n",
       "      <td>0</td>\n",
       "      <td>0</td>\n",
       "      <td>0</td>\n",
       "      <td>0</td>\n",
       "      <td>Kelly, Mr. James</td>\n",
       "      <td>34.5</td>\n",
       "      <td>0</td>\n",
       "    </tr>\n",
       "    <tr>\n",
       "      <th>1</th>\n",
       "      <td>Wilkes, Mrs. James (Ellen Needs)</td>\n",
       "      <td>0</td>\n",
       "      <td>47.0</td>\n",
       "      <td>0.1</td>\n",
       "      <td>0</td>\n",
       "      <td>0.38</td>\n",
       "      <td>0</td>\n",
       "      <td>0.578825</td>\n",
       "      <td>0</td>\n",
       "      <td>0</td>\n",
       "      <td>...</td>\n",
       "      <td>0</td>\n",
       "      <td>0</td>\n",
       "      <td>0</td>\n",
       "      <td>0</td>\n",
       "      <td>1</td>\n",
       "      <td>0</td>\n",
       "      <td>0</td>\n",
       "      <td>Wilkes, Mrs. James (Ellen Needs)</td>\n",
       "      <td>47.0</td>\n",
       "      <td>1</td>\n",
       "    </tr>\n",
       "    <tr>\n",
       "      <th>2</th>\n",
       "      <td>Myles, Mr. Thomas Francis</td>\n",
       "      <td>1</td>\n",
       "      <td>62.0</td>\n",
       "      <td>0.0</td>\n",
       "      <td>1</td>\n",
       "      <td>0.24</td>\n",
       "      <td>0</td>\n",
       "      <td>0.578825</td>\n",
       "      <td>0</td>\n",
       "      <td>1</td>\n",
       "      <td>...</td>\n",
       "      <td>0</td>\n",
       "      <td>1</td>\n",
       "      <td>1</td>\n",
       "      <td>0</td>\n",
       "      <td>0</td>\n",
       "      <td>0</td>\n",
       "      <td>0</td>\n",
       "      <td>Myles, Mr. Thomas Francis</td>\n",
       "      <td>62.0</td>\n",
       "      <td>0</td>\n",
       "    </tr>\n",
       "    <tr>\n",
       "      <th>3</th>\n",
       "      <td>Wirz, Mr. Albert</td>\n",
       "      <td>1</td>\n",
       "      <td>27.0</td>\n",
       "      <td>0.0</td>\n",
       "      <td>1</td>\n",
       "      <td>0.06</td>\n",
       "      <td>0</td>\n",
       "      <td>0.578825</td>\n",
       "      <td>0</td>\n",
       "      <td>0</td>\n",
       "      <td>...</td>\n",
       "      <td>0</td>\n",
       "      <td>0</td>\n",
       "      <td>1</td>\n",
       "      <td>0</td>\n",
       "      <td>0</td>\n",
       "      <td>0</td>\n",
       "      <td>0</td>\n",
       "      <td>Wirz, Mr. Albert</td>\n",
       "      <td>27.0</td>\n",
       "      <td>0</td>\n",
       "    </tr>\n",
       "    <tr>\n",
       "      <th>4</th>\n",
       "      <td>Hirvonen, Mrs. Alexander (Helga E Lindqvist)</td>\n",
       "      <td>0</td>\n",
       "      <td>22.0</td>\n",
       "      <td>0.2</td>\n",
       "      <td>0</td>\n",
       "      <td>0.62</td>\n",
       "      <td>0</td>\n",
       "      <td>0.578825</td>\n",
       "      <td>0</td>\n",
       "      <td>0</td>\n",
       "      <td>...</td>\n",
       "      <td>0</td>\n",
       "      <td>0</td>\n",
       "      <td>0</td>\n",
       "      <td>0</td>\n",
       "      <td>1</td>\n",
       "      <td>0</td>\n",
       "      <td>0</td>\n",
       "      <td>Hirvonen, Mrs. Alexander (Helga E Lindqvist)</td>\n",
       "      <td>22.0</td>\n",
       "      <td>1</td>\n",
       "    </tr>\n",
       "  </tbody>\n",
       "</table>\n",
       "<p>5 rows × 31 columns</p>\n",
       "</div>"
      ],
      "text/plain": [
       "                                           Name  Sex   Age  \\\n",
       "0                              Kelly, Mr. James    1  34.5   \n",
       "1              Wilkes, Mrs. James (Ellen Needs)    0  47.0   \n",
       "2                     Myles, Mr. Thomas Francis    1  62.0   \n",
       "3                              Wirz, Mr. Albert    1  27.0   \n",
       "4  Hirvonen, Mrs. Alexander (Helga E Lindqvist)    0  22.0   \n",
       "\n",
       "   NormalizedFamilySize  IsAlone  NormalizedNameLength  HasCabin  \\\n",
       "0                   0.0        1                  0.06         0   \n",
       "1                   0.1        0                  0.38         0   \n",
       "2                   0.0        1                  0.24         0   \n",
       "3                   0.0        1                  0.06         0   \n",
       "4                   0.2        0                  0.62         0   \n",
       "\n",
       "   NormalizedRoomNo  Pclass_1  Pclass_2  ...  Embarked_1  Embarked_2  Title_1  \\\n",
       "0          0.578825         0         0  ...           0           1        1   \n",
       "1          0.578825         0         0  ...           0           0        0   \n",
       "2          0.578825         0         1  ...           0           1        1   \n",
       "3          0.578825         0         0  ...           0           0        1   \n",
       "4          0.578825         0         0  ...           0           0        0   \n",
       "\n",
       "   Title_2  Title_3  Title_4  Title_5  \\\n",
       "0        0        0        0        0   \n",
       "1        0        1        0        0   \n",
       "2        0        0        0        0   \n",
       "3        0        0        0        0   \n",
       "4        0        1        0        0   \n",
       "\n",
       "                                   cleaned_name   age  GroundTruth  \n",
       "0                              Kelly, Mr. James  34.5            0  \n",
       "1              Wilkes, Mrs. James (Ellen Needs)  47.0            1  \n",
       "2                     Myles, Mr. Thomas Francis  62.0            0  \n",
       "3                              Wirz, Mr. Albert  27.0            0  \n",
       "4  Hirvonen, Mrs. Alexander (Helga E Lindqvist)  22.0            1  \n",
       "\n",
       "[5 rows x 31 columns]"
      ]
     },
     "execution_count": 10,
     "metadata": {},
     "output_type": "execute_result"
    }
   ],
   "source": [
    "test_df[\"cleaned_name\"] = test_df[\"Name\"].apply(lambda name: name.replace('\\\"', ''))\n",
    "ground_truth_df = pd.read_csv(\"input/ground-truth.csv\")\n",
    "ground_truth_df[\"cleaned_name\"] = ground_truth_df[\"name\"].apply(lambda name: name.replace('\\\"', ''))\n",
    "test_df = pd.merge(test_df, ground_truth_df[[\"cleaned_name\", \"age\", \"survived\"]], how=\"left\",\n",
    "                   left_on=[\"cleaned_name\", \"Age\"], right_on=[\"cleaned_name\", \"age\"])\n",
    "test_df = test_df.rename(columns={\"survived\": \"GroundTruth\"})\n",
    "test_df.head()"
   ]
  },
  {
   "cell_type": "markdown",
   "metadata": {},
   "source": [
    "Verify complete match between test data and ground truth"
   ]
  },
  {
   "cell_type": "code",
   "execution_count": 11,
   "metadata": {},
   "outputs": [
    {
     "data": {
      "text/html": [
       "<div>\n",
       "<style scoped>\n",
       "    .dataframe tbody tr th:only-of-type {\n",
       "        vertical-align: middle;\n",
       "    }\n",
       "\n",
       "    .dataframe tbody tr th {\n",
       "        vertical-align: top;\n",
       "    }\n",
       "\n",
       "    .dataframe thead th {\n",
       "        text-align: right;\n",
       "    }\n",
       "</style>\n",
       "<table border=\"1\" class=\"dataframe\">\n",
       "  <thead>\n",
       "    <tr style=\"text-align: right;\">\n",
       "      <th></th>\n",
       "      <th>Name</th>\n",
       "      <th>Sex</th>\n",
       "      <th>Age</th>\n",
       "      <th>NormalizedFamilySize</th>\n",
       "      <th>IsAlone</th>\n",
       "      <th>NormalizedNameLength</th>\n",
       "      <th>HasCabin</th>\n",
       "      <th>NormalizedRoomNo</th>\n",
       "      <th>Pclass_1</th>\n",
       "      <th>Pclass_2</th>\n",
       "      <th>...</th>\n",
       "      <th>Embarked_1</th>\n",
       "      <th>Embarked_2</th>\n",
       "      <th>Title_1</th>\n",
       "      <th>Title_2</th>\n",
       "      <th>Title_3</th>\n",
       "      <th>Title_4</th>\n",
       "      <th>Title_5</th>\n",
       "      <th>cleaned_name</th>\n",
       "      <th>age</th>\n",
       "      <th>GroundTruth</th>\n",
       "    </tr>\n",
       "  </thead>\n",
       "  <tbody>\n",
       "  </tbody>\n",
       "</table>\n",
       "<p>0 rows × 31 columns</p>\n",
       "</div>"
      ],
      "text/plain": [
       "Empty DataFrame\n",
       "Columns: [Name, Sex, Age, NormalizedFamilySize, IsAlone, NormalizedNameLength, HasCabin, NormalizedRoomNo, Pclass_1, Pclass_2, Pclass_3, CategoricalAge_0, CategoricalAge_1, CategoricalAge_2, CategoricalAge_3, CategoricalAge_4, Fare_0, Fare_1, Fare_2, Fare_3, Embarked_0, Embarked_1, Embarked_2, Title_1, Title_2, Title_3, Title_4, Title_5, cleaned_name, age, GroundTruth]\n",
       "Index: []\n",
       "\n",
       "[0 rows x 31 columns]"
      ]
     },
     "execution_count": 11,
     "metadata": {},
     "output_type": "execute_result"
    }
   ],
   "source": [
    "test_df[test_df[\"GroundTruth\"].isnull()]"
   ]
  },
  {
   "cell_type": "code",
   "execution_count": 12,
   "metadata": {},
   "outputs": [
    {
     "name": "stdout",
     "output_type": "stream",
     "text": [
      "Dimension of training data:  (891, 27)\n",
      "Dimension of test data:  (418, 27)\n",
      "['Sex', 'NormalizedFamilySize', 'IsAlone', 'NormalizedNameLength', 'HasCabin', 'NormalizedRoomNo', 'Pclass_1', 'Pclass_2', 'Pclass_3', 'CategoricalAge_0', 'CategoricalAge_1', 'CategoricalAge_2', 'CategoricalAge_3', 'CategoricalAge_4', 'Fare_0', 'Fare_1', 'Fare_2', 'Fare_3', 'Embarked_0', 'Embarked_1', 'Embarked_2', 'Title_1', 'Title_2', 'Title_3', 'Title_4', 'Title_5']\n"
     ]
    }
   ],
   "source": [
    "train_df = train_df.drop([\"Name\", \"Age\"], axis = 1)\n",
    "test_df = test_df.drop([\"Name\", \"Age\", \"cleaned_name\", \"age\"], axis = 1)\n",
    "print(\"Dimension of training data: \", train_df.shape)\n",
    "print(\"Dimension of test data: \", test_df.shape)\n",
    "\n",
    "features = list(train_df.columns)\n",
    "features.remove('Survived')\n",
    "print(features)"
   ]
  },
  {
   "cell_type": "markdown",
   "metadata": {},
   "source": [
    "Declare universal model evaluation metrics and record best scores of each standalone model."
   ]
  },
  {
   "cell_type": "code",
   "execution_count": 13,
   "metadata": {},
   "outputs": [],
   "source": [
    "scores = ['accuracy']\n",
    "model_metrics = {}"
   ]
  },
  {
   "cell_type": "markdown",
   "metadata": {},
   "source": [
    "## 4.1 Logistic Regression"
   ]
  },
  {
   "cell_type": "code",
   "execution_count": 14,
   "metadata": {},
   "outputs": [
    {
     "name": "stdout",
     "output_type": "stream",
     "text": [
      "Fitted model:  LogisticRegression(C=1.0, class_weight=None, dual=False, fit_intercept=True,\n",
      "                   intercept_scaling=1, l1_ratio=None, max_iter=100,\n",
      "                   multi_class='warn', n_jobs=None, penalty='l2',\n",
      "                   random_state=None, solver='warn', tol=0.0001, verbose=0,\n",
      "                   warm_start=False)\n",
      "[[204  56]\n",
      " [ 43 115]]\n",
      "True positive:  115\n",
      "True negative:  204\n",
      "False positive:  56\n",
      "False negative:  43\n",
      "Accuracy = (tp + tn) / (p + n), Accuracy =  0.763158\n",
      "Precision = tp / (tp + fp), Precision =  0.672515\n",
      "Recall = tp / (tp + fn), Recall =  0.727848\n",
      "ROC =  0.756232\n"
     ]
    }
   ],
   "source": [
    "logreg_worker = ModelWorker(LogisticRegression(), scores)\n",
    "logreg_worker.fit(train_df[features], train_df['Survived'],\n",
    "                  test_df[features], test_df['GroundTruth'])"
   ]
  },
  {
   "cell_type": "code",
   "execution_count": 15,
   "metadata": {},
   "outputs": [
    {
     "name": "stdout",
     "output_type": "stream",
     "text": [
      "# Tuning hyper-parameters for accuracy\n",
      "\n",
      "Best parameters set found on development set:\n",
      "\n",
      "{'C': 3}\n",
      "\n",
      "Grid scores on development set:\n",
      "\n",
      "0.826 (+/-0.033) for {'C': 2}\n",
      "0.832 (+/-0.044) for {'C': 3}\n",
      "0.831 (+/-0.047) for {'C': 4}\n",
      "Elapsed time: 0.123 seconds\n",
      "\n",
      "[[203  57]\n",
      " [ 41 117]]\n",
      "True positive:  117\n",
      "True negative:  203\n",
      "False positive:  57\n",
      "False negative:  41\n",
      "Accuracy = (tp + tn) / (p + n), Accuracy =  0.76555\n",
      "Precision = tp / (tp + fp), Precision =  0.672414\n",
      "Recall = tp / (tp + fn), Recall =  0.740506\n",
      "ROC =  0.760638\n"
     ]
    },
    {
     "data": {
      "text/plain": [
       "{'Logistic Regression': 0.83165}"
      ]
     },
     "execution_count": 15,
     "metadata": {},
     "output_type": "execute_result"
    }
   ],
   "source": [
    "# tuned_parameters = {'C': [0.001, 0.01, 0.1, 1, 10, 100, 1000]}\n",
    "# tuned_parameters = {'C': [0.5, 1, 3, 5]}\n",
    "tuned_parameters = {'C': [2, 3, 4]}\n",
    "logreg_grid, best_score = logreg_worker.tune(tuned_parameters, train_df[features], train_df['Survived'],\n",
    "                                             test_df[features], test_df['GroundTruth'], 5)\n",
    "model_metrics[\"Logistic Regression\"] = round(best_score[\"accuracy\"], 6)\n",
    "model_metrics"
   ]
  },
  {
   "cell_type": "markdown",
   "metadata": {},
   "source": [
    "## 4.2 Random Forest\n",
    "Fit baseline model."
   ]
  },
  {
   "cell_type": "code",
   "execution_count": 16,
   "metadata": {},
   "outputs": [
    {
     "name": "stdout",
     "output_type": "stream",
     "text": [
      "Fitted model:  RandomForestClassifier(bootstrap=True, class_weight=None, criterion='gini',\n",
      "                       max_depth=None, max_features='auto', max_leaf_nodes=None,\n",
      "                       min_impurity_decrease=0.0, min_impurity_split=None,\n",
      "                       min_samples_leaf=1, min_samples_split=2,\n",
      "                       min_weight_fraction_leaf=0.0, n_estimators=10,\n",
      "                       n_jobs=None, oob_score=False, random_state=None,\n",
      "                       verbose=0, warm_start=False)\n",
      "[[200  60]\n",
      " [ 53 105]]\n",
      "True positive:  105\n",
      "True negative:  200\n",
      "False positive:  60\n",
      "False negative:  53\n",
      "Accuracy = (tp + tn) / (p + n), Accuracy =  0.729665\n",
      "Precision = tp / (tp + fp), Precision =  0.636364\n",
      "Recall = tp / (tp + fn), Recall =  0.664557\n",
      "ROC =  0.716894\n"
     ]
    }
   ],
   "source": [
    "rf_worker = ModelWorker(RandomForestClassifier(), scores)\n",
    "rf_worker.fit(train_df[features], train_df['Survived'],\n",
    "              test_df[features], test_df['GroundTruth'])"
   ]
  },
  {
   "cell_type": "markdown",
   "metadata": {},
   "source": [
    "Perform randomized search on model parameters"
   ]
  },
  {
   "cell_type": "code",
   "execution_count": 17,
   "metadata": {},
   "outputs": [
    {
     "name": "stdout",
     "output_type": "stream",
     "text": [
      "# Tuning hyper-parameters for accuracy\n",
      "\n",
      "Best parameters set found on development set:\n",
      "\n",
      "{'n_estimators': 800, 'min_samples_split': 2, 'min_samples_leaf': 4, 'max_features': 'auto', 'max_depth': 70, 'bootstrap': False}\n",
      "\n",
      "Grid scores on development set:\n",
      "\n",
      "0.824 (+/-0.042) for {'n_estimators': 600, 'min_samples_split': 5, 'min_samples_leaf': 4, 'max_features': 'sqrt', 'max_depth': 90, 'bootstrap': True}\n",
      "0.797 (+/-0.064) for {'n_estimators': 400, 'min_samples_split': 2, 'min_samples_leaf': 1, 'max_features': 'sqrt', 'max_depth': 100, 'bootstrap': False}\n",
      "0.816 (+/-0.063) for {'n_estimators': 200, 'min_samples_split': 5, 'min_samples_leaf': 1, 'max_features': 'auto', 'max_depth': 10, 'bootstrap': False}\n",
      "0.819 (+/-0.068) for {'n_estimators': 800, 'min_samples_split': 5, 'min_samples_leaf': 1, 'max_features': 'auto', 'max_depth': 60, 'bootstrap': True}\n",
      "0.827 (+/-0.046) for {'n_estimators': 1400, 'min_samples_split': 5, 'min_samples_leaf': 4, 'max_features': 'auto', 'max_depth': None, 'bootstrap': False}\n",
      "0.816 (+/-0.065) for {'n_estimators': 1800, 'min_samples_split': 10, 'min_samples_leaf': 1, 'max_features': 'sqrt', 'max_depth': 20, 'bootstrap': False}\n",
      "0.827 (+/-0.044) for {'n_estimators': 1400, 'min_samples_split': 5, 'min_samples_leaf': 4, 'max_features': 'auto', 'max_depth': 10, 'bootstrap': True}\n",
      "0.831 (+/-0.041) for {'n_estimators': 800, 'min_samples_split': 2, 'min_samples_leaf': 4, 'max_features': 'auto', 'max_depth': 70, 'bootstrap': False}\n",
      "0.827 (+/-0.042) for {'n_estimators': 1600, 'min_samples_split': 2, 'min_samples_leaf': 2, 'max_features': 'sqrt', 'max_depth': 40, 'bootstrap': True}\n",
      "0.825 (+/-0.046) for {'n_estimators': 600, 'min_samples_split': 10, 'min_samples_leaf': 4, 'max_features': 'auto', 'max_depth': 70, 'bootstrap': True}\n",
      "Elapsed time: 69.7376 seconds\n",
      "\n",
      "[[207  53]\n",
      " [ 46 112]]\n",
      "True positive:  112\n",
      "True negative:  207\n",
      "False positive:  53\n",
      "False negative:  46\n",
      "Accuracy = (tp + tn) / (p + n), Accuracy =  0.763158\n",
      "Precision = tp / (tp + fp), Precision =  0.678788\n",
      "Recall = tp / (tp + fn), Recall =  0.708861\n",
      "ROC =  0.752507\n",
      "{'Logistic Regression': 0.83165, 'Random Forest': 0.830527}\n"
     ]
    }
   ],
   "source": [
    "# Maximum number of levels in tree\n",
    "max_depth = [int(x) for x in np.linspace(10, 110, num=11)]\n",
    "max_depth.append(None)\n",
    "\n",
    "# Create the random grid\n",
    "tuned_parameters = {'n_estimators': [int(x) for x in np.linspace(start=200, stop=2000, num=10)],\n",
    "                    'max_features': ['auto', 'sqrt'],\n",
    "                    'max_depth': max_depth,\n",
    "                    'min_samples_split': [2, 5, 10],\n",
    "                    'min_samples_leaf': [1, 2, 4],\n",
    "                    'bootstrap': [True, False]}\n",
    "rf_random, best_score = rf_worker.tune(tuned_parameters, train_df[features], train_df['Survived'],\n",
    "                                       test_df[features], test_df['GroundTruth'], 5, False)\n",
    "model_metrics[\"Random Forest\"] = round(best_score[\"accuracy\"], 6)\n",
    "print(model_metrics)"
   ]
  },
  {
   "cell_type": "markdown",
   "metadata": {},
   "source": [
    "Plot feature importance"
   ]
  },
  {
   "cell_type": "code",
   "execution_count": 18,
   "metadata": {},
   "outputs": [
    {
     "data": {
      "image/png": "[encoded data removed]",
      "text/plain": [
       "<Figure size 864x576 with 1 Axes>"
      ]
     },
     "metadata": {},
     "output_type": "display_data"
    }
   ],
   "source": [
    "importances = rf_random.best_estimator_.feature_importances_\n",
    "indices = np.argsort(importances)\n",
    "\n",
    "fig = plt.figure(figsize=(12, 8))\n",
    "plt.title('Feature Importances')\n",
    "plt.barh(range(len(indices)), importances[indices], align='center')\n",
    "plt.yticks(range(len(indices)), [features[i] for i in indices])\n",
    "plt.xlabel('Relative Importance')\n",
    "plt.show()"
   ]
  },
  {
   "cell_type": "markdown",
   "metadata": {},
   "source": [
    "## 4.3 Support Vector Machine"
   ]
  },
  {
   "cell_type": "code",
   "execution_count": 19,
   "metadata": {},
   "outputs": [
    {
     "name": "stdout",
     "output_type": "stream",
     "text": [
      "Fitted model:  SVC(C=1.0, cache_size=200, class_weight=None, coef0=0.0,\n",
      "    decision_function_shape='ovr', degree=3, gamma='auto', kernel='rbf',\n",
      "    max_iter=-1, probability=True, random_state=None, shrinking=True, tol=0.001,\n",
      "    verbose=False)\n",
      "[[215  45]\n",
      " [ 47 111]]\n",
      "True positive:  111\n",
      "True negative:  215\n",
      "False positive:  45\n",
      "False negative:  47\n",
      "Accuracy = (tp + tn) / (p + n), Accuracy =  0.779904\n",
      "Precision = tp / (tp + fp), Precision =  0.711538\n",
      "Recall = tp / (tp + fn), Recall =  0.702532\n",
      "ROC =  0.764727\n"
     ]
    }
   ],
   "source": [
    "svm_worker = ModelWorker(SVC(gamma='auto', probability=True), scores)\n",
    "svm_worker.fit(train_df[features], train_df['Survived'],\n",
    "               test_df[features], test_df['GroundTruth'])"
   ]
  },
  {
   "cell_type": "code",
   "execution_count": 20,
   "metadata": {},
   "outputs": [
    {
     "name": "stdout",
     "output_type": "stream",
     "text": [
      "# Tuning hyper-parameters for accuracy\n",
      "\n",
      "Best parameters set found on development set:\n",
      "\n",
      "{'C': 4, 'gamma': 0.03, 'kernel': 'rbf'}\n",
      "\n",
      "Grid scores on development set:\n",
      "\n",
      "0.795 (+/-0.049) for {'C': 2, 'gamma': 0.02, 'kernel': 'rbf'}\n",
      "0.806 (+/-0.040) for {'C': 2, 'gamma': 0.03, 'kernel': 'rbf'}\n",
      "0.827 (+/-0.043) for {'C': 2, 'gamma': 0.04, 'kernel': 'rbf'}\n",
      "0.802 (+/-0.048) for {'C': 3, 'gamma': 0.02, 'kernel': 'rbf'}\n",
      "0.826 (+/-0.037) for {'C': 3, 'gamma': 0.03, 'kernel': 'rbf'}\n",
      "0.826 (+/-0.037) for {'C': 3, 'gamma': 0.04, 'kernel': 'rbf'}\n",
      "0.815 (+/-0.037) for {'C': 4, 'gamma': 0.02, 'kernel': 'rbf'}\n",
      "0.831 (+/-0.040) for {'C': 4, 'gamma': 0.03, 'kernel': 'rbf'}\n",
      "0.819 (+/-0.041) for {'C': 4, 'gamma': 0.04, 'kernel': 'rbf'}\n",
      "0.824 (+/-0.032) for {'C': 5, 'gamma': 0.02, 'kernel': 'rbf'}\n",
      "0.827 (+/-0.039) for {'C': 5, 'gamma': 0.03, 'kernel': 'rbf'}\n",
      "0.818 (+/-0.047) for {'C': 5, 'gamma': 0.04, 'kernel': 'rbf'}\n",
      "0.826 (+/-0.048) for {'C': 10, 'kernel': 'linear'}\n",
      "Elapsed time: 5.5412 seconds\n",
      "\n",
      "[[215  45]\n",
      " [ 47 111]]\n",
      "True positive:  111\n",
      "True negative:  215\n",
      "False positive:  45\n",
      "False negative:  47\n",
      "Accuracy = (tp + tn) / (p + n), Accuracy =  0.779904\n",
      "Precision = tp / (tp + fp), Precision =  0.711538\n",
      "Recall = tp / (tp + fn), Recall =  0.702532\n",
      "ROC =  0.764727\n",
      "{'Logistic Regression': 0.83165, 'Random Forest': 0.830527, 'SVM': 0.830527}\n"
     ]
    }
   ],
   "source": [
    "# Set the parameters by cross-validation\n",
    "# tuned_parameters = [{'kernel': ['rbf'], 'gamma': [5e-06, 1e-05, 3e-05],\n",
    "#                      'C': [4500, 5000, 5500]}]\n",
    "# tuned_parameters = [{'kernel': ['rbf'], 'gamma': [0.001, 0.01, 0.1, 1],\n",
    "#                      'C': [0.001, 0.01, 0.1, 1, 10]},\n",
    "#                     {'kernel': ['linear'], 'C': [1, 10, 100, 1000]}]\n",
    "# tuned_parameters = [{'kernel': ['rbf'], 'gamma': [0.01, 0.05, 0.1, 0.5, 1],\n",
    "#                      'C': [0.1, 0.5, 1, 5, 10]},\n",
    "#                     {'kernel': ['linear'], 'C': [10]}]\n",
    "# tuned_parameters = [{'kernel': ['rbf'], 'gamma': [0.03, 0.05, 0.07],\n",
    "#                      'C': [3, 5, 7]},\n",
    "#                     {'kernel': ['linear'], 'C': [10]}]\n",
    "tuned_parameters = [{'kernel': ['rbf'], 'gamma': [0.02, 0.03, 0.04],\n",
    "                     'C': [2, 3, 4, 5]},\n",
    "                    {'kernel': ['linear'], 'C': [10]}]\n",
    "svm_grid, best_score = svm_worker.tune(tuned_parameters, train_df[features], train_df['Survived'],\n",
    "                                       test_df[features], test_df['GroundTruth'], 5)\n",
    "model_metrics[\"SVM\"] = round(best_score[\"accuracy\"], 6)\n",
    "print(model_metrics)"
   ]
  },
  {
   "cell_type": "markdown",
   "metadata": {},
   "source": [
    "## 4.4 XGBoost\n",
    "### 4.4.1 Build a baseline model with fix learning rate and number of estimators."
   ]
  },
  {
   "cell_type": "code",
   "execution_count": 21,
   "metadata": {},
   "outputs": [
    {
     "name": "stdout",
     "output_type": "stream",
     "text": [
      "Fitted model:  XGBClassifier(base_score=0.5, booster='gbtree', colsample_bylevel=1,\n",
      "              colsample_bytree=0.8, gamma=0, learning_rate=0.1,\n",
      "              max_delta_step=0, max_depth=5, min_child_weight=1, missing=None,\n",
      "              n_estimators=1000, n_jobs=1, nthread=4,\n",
      "              objective='binary:logistic', random_state=0, reg_alpha=0,\n",
      "              reg_lambda=1, scale_pos_weight=1, seed=27, silent=True,\n",
      "              subsample=0.8)\n",
      "[[195  65]\n",
      " [ 43 115]]\n",
      "True positive:  115\n",
      "True negative:  195\n",
      "False positive:  65\n",
      "False negative:  43\n",
      "Accuracy = (tp + tn) / (p + n), Accuracy =  0.741627\n",
      "Precision = tp / (tp + fp), Precision =  0.638889\n",
      "Recall = tp / (tp + fn), Recall =  0.727848\n",
      "ROC =  0.738924\n"
     ]
    }
   ],
   "source": [
    "survival_xgb = XGBClassifier(learning_rate=0.1,\n",
    "                             n_estimators=1000,\n",
    "                             max_depth=5,\n",
    "                             min_child_weight=1,\n",
    "                             gamma=0,\n",
    "                             subsample=0.8,\n",
    "                             colsample_bytree=0.8,\n",
    "                             objective= 'binary:logistic',\n",
    "                             nthread=4,\n",
    "                             scale_pos_weight=1,\n",
    "                             seed=27)\n",
    "xgb_worker = ModelWorker(survival_xgb, scores)\n",
    "xgb_worker.fit(train_df[features], train_df['Survived'],\n",
    "               test_df[features], test_df['GroundTruth'])"
   ]
  },
  {
   "cell_type": "markdown",
   "metadata": {},
   "source": [
    "### General approach of tuning XGBoost parameters\n",
    "<ol>\n",
    "    <li>Choose a relatively high learning rate. Generally a learning rate of 0.1 works but somewhere between 0.05 to 0.3 should work for different problems. Determine the optimum number of trees for this learning rate. XGBoost has a very useful function called as “cv” which performs cross-validation at each boosting iteration and thus returns the optimum number of trees required.</li>\n",
    "    <li>Tune tree-specific parameters ( max_depth, min_child_weight, gamma, subsample, colsample_bytree) for decided learning rate and number of trees. Note that we can choose different parameters to define a tree and I’ll take up an example here.</li>\n",
    "    <li>Tune regularization parameters (lambda, alpha) for xgboost which can help reduce model complexity and enhance performance.</li>\n",
    "    <li>Lower the learning rate and decide the optimal parameters.</li>\n",
    "</ol>\n",
    "\n",
    "https://www.analyticsvidhya.com/blog/2016/03/complete-guide-parameter-tuning-xgboost-with-codes-python/\n",
    "### 4.4.2 Tune max_depth and min_child_weight"
   ]
  },
  {
   "cell_type": "code",
   "execution_count": 22,
   "metadata": {},
   "outputs": [
    {
     "name": "stdout",
     "output_type": "stream",
     "text": [
      "# Tuning hyper-parameters for accuracy\n",
      "\n",
      "Best parameters set found on development set:\n",
      "\n",
      "{'max_depth': 4, 'min_child_weight': 1}\n",
      "\n",
      "Grid scores on development set:\n",
      "\n",
      "0.828 (+/-0.051) for {'max_depth': 4, 'min_child_weight': 1}\n",
      "0.825 (+/-0.035) for {'max_depth': 4, 'min_child_weight': 2}\n",
      "0.817 (+/-0.043) for {'max_depth': 4, 'min_child_weight': 3}\n",
      "0.823 (+/-0.047) for {'max_depth': 5, 'min_child_weight': 1}\n",
      "0.826 (+/-0.038) for {'max_depth': 5, 'min_child_weight': 2}\n",
      "0.825 (+/-0.039) for {'max_depth': 5, 'min_child_weight': 3}\n",
      "0.816 (+/-0.048) for {'max_depth': 6, 'min_child_weight': 1}\n",
      "0.823 (+/-0.047) for {'max_depth': 6, 'min_child_weight': 2}\n",
      "0.826 (+/-0.038) for {'max_depth': 6, 'min_child_weight': 3}\n",
      "Elapsed time: 5.0557 seconds\n",
      "\n",
      "[[203  57]\n",
      " [ 43 115]]\n",
      "True positive:  115\n",
      "True negative:  203\n",
      "False positive:  57\n",
      "False negative:  43\n",
      "Accuracy = (tp + tn) / (p + n), Accuracy =  0.760766\n",
      "Precision = tp / (tp + fp), Precision =  0.668605\n",
      "Recall = tp / (tp + fn), Recall =  0.727848\n",
      "ROC =  0.754309\n",
      "{'Logistic Regression': 0.83165, 'Random Forest': 0.830527, 'SVM': 0.830527, 'XGBoost': 0.828283}\n"
     ]
    }
   ],
   "source": [
    "# tuned_parameters = {\n",
    "#     \"max_depth\"        : range(3, 10, 2),\n",
    "#     \"min_child_weight\" : range(1, 6, 2)\n",
    "# }\n",
    "tuned_parameters = {\n",
    "    \"max_depth\"        : [4, 5, 6],\n",
    "    \"min_child_weight\" : [1, 2, 3]\n",
    "}\n",
    "model_xgb = XGBClassifier(learning_rate=0.1,\n",
    "                          n_estimators=140,\n",
    "                          max_depth=5,\n",
    "                          min_child_weight=1,\n",
    "                          gamma=0,\n",
    "                          subsample=0.8,\n",
    "                          colsample_bytree=0.8,\n",
    "                          objective= 'binary:logistic',\n",
    "                          nthread=4,\n",
    "                          scale_pos_weight=1,\n",
    "                          seed=27)\n",
    "xgb_worker = ModelWorker(model_xgb, scores)\n",
    "xgb_grid, best_score = xgb_worker.tune(tuned_parameters, train_df[features], train_df['Survived'],\n",
    "                                       test_df[features], test_df['GroundTruth'], 5)\n",
    "model_metrics[\"XGBoost\"] = round(best_score[\"accuracy\"], 6)\n",
    "print(model_metrics)"
   ]
  },
  {
   "cell_type": "markdown",
   "metadata": {},
   "source": [
    "### 4.4.3 Tune gamma"
   ]
  },
  {
   "cell_type": "code",
   "execution_count": 23,
   "metadata": {},
   "outputs": [
    {
     "name": "stdout",
     "output_type": "stream",
     "text": [
      "# Tuning hyper-parameters for accuracy\n",
      "\n",
      "Best parameters set found on development set:\n",
      "\n",
      "{'gamma': 0.2}\n",
      "\n",
      "Grid scores on development set:\n",
      "\n",
      "0.823 (+/-0.047) for {'gamma': 0.0}\n",
      "0.826 (+/-0.039) for {'gamma': 0.1}\n",
      "0.828 (+/-0.044) for {'gamma': 0.2}\n",
      "0.828 (+/-0.041) for {'gamma': 0.3}\n",
      "0.824 (+/-0.041) for {'gamma': 0.4}\n",
      "Elapsed time: 2.8798 seconds\n",
      "\n",
      "[[202  58]\n",
      " [ 43 115]]\n",
      "True positive:  115\n",
      "True negative:  202\n",
      "False positive:  58\n",
      "False negative:  43\n",
      "Accuracy = (tp + tn) / (p + n), Accuracy =  0.758373\n",
      "Precision = tp / (tp + fp), Precision =  0.66474\n",
      "Recall = tp / (tp + fn), Recall =  0.727848\n",
      "ROC =  0.752386\n",
      "{'Logistic Regression': 0.83165, 'Random Forest': 0.830527, 'SVM': 0.830527, 'XGBoost': 0.828283}\n"
     ]
    }
   ],
   "source": [
    "tuned_parameters = {\n",
    "    \"gamma\"        : [i/10.0 for i in range(0, 5)]\n",
    "}\n",
    "model_xgb = XGBClassifier(learning_rate=0.1,\n",
    "                          n_estimators=140,\n",
    "                          max_depth=5,\n",
    "                          min_child_weight=1,\n",
    "                          gamma=0,\n",
    "                          subsample=0.8,\n",
    "                          colsample_bytree=0.8,\n",
    "                          objective= 'binary:logistic',\n",
    "                          nthread=4,\n",
    "                          scale_pos_weight=1,\n",
    "                          seed=27)\n",
    "xgb_worker = ModelWorker(model_xgb, scores)\n",
    "xgb_grid, best_score = xgb_worker.tune(tuned_parameters, train_df[features], train_df['Survived'],\n",
    "                                       test_df[features], test_df['GroundTruth'], 5)\n",
    "model_metrics[\"XGBoost\"] = round(best_score[\"accuracy\"], 6)\n",
    "print(model_metrics)"
   ]
  },
  {
   "cell_type": "markdown",
   "metadata": {},
   "source": [
    "### 4.4.4 Tune subsample and colsample_bytree"
   ]
  },
  {
   "cell_type": "code",
   "execution_count": 24,
   "metadata": {},
   "outputs": [
    {
     "name": "stdout",
     "output_type": "stream",
     "text": [
      "# Tuning hyper-parameters for accuracy\n",
      "\n",
      "Best parameters set found on development set:\n",
      "\n",
      "{'colsample_bytree': 0.9, 'subsample': 0.65}\n",
      "\n",
      "Grid scores on development set:\n",
      "\n",
      "0.826 (+/-0.052) for {'colsample_bytree': 0.8, 'subsample': 0.5}\n",
      "0.823 (+/-0.041) for {'colsample_bytree': 0.8, 'subsample': 0.55}\n",
      "0.824 (+/-0.050) for {'colsample_bytree': 0.8, 'subsample': 0.6}\n",
      "0.825 (+/-0.055) for {'colsample_bytree': 0.8, 'subsample': 0.65}\n",
      "0.823 (+/-0.043) for {'colsample_bytree': 0.85, 'subsample': 0.5}\n",
      "0.822 (+/-0.051) for {'colsample_bytree': 0.85, 'subsample': 0.55}\n",
      "0.827 (+/-0.045) for {'colsample_bytree': 0.85, 'subsample': 0.6}\n",
      "0.825 (+/-0.055) for {'colsample_bytree': 0.85, 'subsample': 0.65}\n",
      "0.824 (+/-0.042) for {'colsample_bytree': 0.9, 'subsample': 0.5}\n",
      "0.825 (+/-0.045) for {'colsample_bytree': 0.9, 'subsample': 0.55}\n",
      "0.827 (+/-0.030) for {'colsample_bytree': 0.9, 'subsample': 0.6}\n",
      "0.829 (+/-0.040) for {'colsample_bytree': 0.9, 'subsample': 0.65}\n",
      "0.824 (+/-0.047) for {'colsample_bytree': 0.95, 'subsample': 0.5}\n",
      "0.824 (+/-0.049) for {'colsample_bytree': 0.95, 'subsample': 0.55}\n",
      "0.819 (+/-0.061) for {'colsample_bytree': 0.95, 'subsample': 0.6}\n",
      "0.824 (+/-0.053) for {'colsample_bytree': 0.95, 'subsample': 0.65}\n",
      "Elapsed time: 10.286 seconds\n",
      "\n",
      "[[201  59]\n",
      " [ 41 117]]\n",
      "True positive:  117\n",
      "True negative:  201\n",
      "False positive:  59\n",
      "False negative:  41\n",
      "Accuracy = (tp + tn) / (p + n), Accuracy =  0.760766\n",
      "Precision = tp / (tp + fp), Precision =  0.664773\n",
      "Recall = tp / (tp + fn), Recall =  0.740506\n",
      "ROC =  0.756792\n",
      "{'Logistic Regression': 0.83165, 'Random Forest': 0.830527, 'SVM': 0.830527, 'XGBoost': 0.829405}\n"
     ]
    }
   ],
   "source": [
    "# tuned_parameters = {\n",
    "#     \"subsample\"        : [i/10.0 for i in range(6, 10)],\n",
    "#     \"colsample_bytree\" : [i/10.0 for i in range(6, 10)]\n",
    "# }\n",
    "tuned_parameters = {\n",
    "    \"subsample\"        : [i/100.0 for i in range(50, 70, 5)],\n",
    "    \"colsample_bytree\" : [i/100.0 for i in range(80, 100, 5)]\n",
    "}\n",
    "model_xgb = XGBClassifier(learning_rate=0.1,\n",
    "                          n_estimators=140,\n",
    "                          max_depth=5,\n",
    "                          min_child_weight=1,\n",
    "                          gamma=0.2,\n",
    "                          subsample=0.8,\n",
    "                          colsample_bytree=0.8,\n",
    "                          objective= 'binary:logistic',\n",
    "                          nthread=4,\n",
    "                          scale_pos_weight=1,\n",
    "                          seed=27)\n",
    "xgb_worker = ModelWorker(model_xgb, scores)\n",
    "xgb_grid, best_score = xgb_worker.tune(tuned_parameters, train_df[features], train_df['Survived'],\n",
    "                                       test_df[features], test_df['GroundTruth'], 5)\n",
    "model_metrics[\"XGBoost\"] = round(best_score[\"accuracy\"], 6)\n",
    "print(model_metrics)"
   ]
  },
  {
   "cell_type": "markdown",
   "metadata": {},
   "source": [
    "### 4.4.5 Tune Regularization Parameters"
   ]
  },
  {
   "cell_type": "code",
   "execution_count": 25,
   "metadata": {},
   "outputs": [
    {
     "name": "stdout",
     "output_type": "stream",
     "text": [
      "# Tuning hyper-parameters for accuracy\n",
      "\n",
      "Best parameters set found on development set:\n",
      "\n",
      "{'reg_alpha': 0, 'reg_lambda': 1}\n",
      "\n",
      "Grid scores on development set:\n",
      "\n",
      "0.826 (+/-0.037) for {'reg_alpha': 0, 'reg_lambda': 0.5}\n",
      "0.827 (+/-0.030) for {'reg_alpha': 0, 'reg_lambda': 1}\n",
      "0.826 (+/-0.041) for {'reg_alpha': 0, 'reg_lambda': 2}\n",
      "0.826 (+/-0.032) for {'reg_alpha': 0, 'reg_lambda': 3}\n",
      "0.826 (+/-0.037) for {'reg_alpha': 1e-06, 'reg_lambda': 0.5}\n",
      "0.827 (+/-0.030) for {'reg_alpha': 1e-06, 'reg_lambda': 1}\n",
      "0.826 (+/-0.041) for {'reg_alpha': 1e-06, 'reg_lambda': 2}\n",
      "0.826 (+/-0.032) for {'reg_alpha': 1e-06, 'reg_lambda': 3}\n",
      "0.826 (+/-0.037) for {'reg_alpha': 1e-05, 'reg_lambda': 0.5}\n",
      "0.827 (+/-0.030) for {'reg_alpha': 1e-05, 'reg_lambda': 1}\n",
      "0.826 (+/-0.041) for {'reg_alpha': 1e-05, 'reg_lambda': 2}\n",
      "0.826 (+/-0.032) for {'reg_alpha': 1e-05, 'reg_lambda': 3}\n",
      "Elapsed time: 8.0191 seconds\n",
      "\n",
      "[[203  57]\n",
      " [ 49 109]]\n",
      "True positive:  109\n",
      "True negative:  203\n",
      "False positive:  57\n",
      "False negative:  49\n",
      "Accuracy = (tp + tn) / (p + n), Accuracy =  0.746411\n",
      "Precision = tp / (tp + fp), Precision =  0.656627\n",
      "Recall = tp / (tp + fn), Recall =  0.689873\n",
      "ROC =  0.735321\n",
      "{'Logistic Regression': 0.83165, 'Random Forest': 0.830527, 'SVM': 0.830527, 'XGBoost': 0.82716}\n"
     ]
    }
   ],
   "source": [
    "# tuned_parameters = {\n",
    "#     \"reg_alpha\" : [1e-5, 1e-2, 0.1, 1, 100],\n",
    "#     \"reg_lambda\" : [1e-5, 1e-2, 0.1, 1, 100],\n",
    "# }\n",
    "tuned_parameters = {\n",
    "    \"reg_alpha\" : [0, 1e-6, 1e-5],\n",
    "    \"reg_lambda\" : [0.5, 1, 2, 3],\n",
    "}\n",
    "model_xgb = XGBClassifier(learning_rate=0.1,\n",
    "                          n_estimators=140,\n",
    "                          max_depth=5,\n",
    "                          min_child_weight=1,\n",
    "                          gamma=0.2,\n",
    "                          subsample=0.6,\n",
    "                          colsample_bytree=0.9,\n",
    "                          objective='binary:logistic',\n",
    "                          nthread=4,\n",
    "                          scale_pos_weight=1,\n",
    "                          seed=27)\n",
    "xgb_worker = ModelWorker(model_xgb, scores)\n",
    "xgb_grid, best_score = xgb_worker.tune(tuned_parameters, train_df[features], train_df['Survived'],\n",
    "                                       test_df[features], test_df['GroundTruth'], 5)\n",
    "model_metrics[\"XGBoost\"] = round(best_score[\"accuracy\"], 6)\n",
    "print(model_metrics)"
   ]
  },
  {
   "cell_type": "markdown",
   "metadata": {},
   "source": [
    "### 4.4.6 Reduce learning rate"
   ]
  },
  {
   "cell_type": "code",
   "execution_count": 26,
   "metadata": {},
   "outputs": [
    {
     "name": "stdout",
     "output_type": "stream",
     "text": [
      "# Tuning hyper-parameters for accuracy\n",
      "\n",
      "Best parameters set found on development set:\n",
      "\n",
      "{'learning_rate': 0.09, 'n_estimators': 100}\n",
      "\n",
      "Grid scores on development set:\n",
      "\n",
      "0.825 (+/-0.049) for {'learning_rate': 0.08, 'n_estimators': 100}\n",
      "0.825 (+/-0.056) for {'learning_rate': 0.08, 'n_estimators': 125}\n",
      "0.829 (+/-0.037) for {'learning_rate': 0.08, 'n_estimators': 150}\n",
      "0.831 (+/-0.044) for {'learning_rate': 0.09, 'n_estimators': 100}\n",
      "0.825 (+/-0.056) for {'learning_rate': 0.09, 'n_estimators': 125}\n",
      "0.831 (+/-0.035) for {'learning_rate': 0.09, 'n_estimators': 150}\n",
      "0.829 (+/-0.040) for {'learning_rate': 0.1, 'n_estimators': 100}\n",
      "0.825 (+/-0.038) for {'learning_rate': 0.1, 'n_estimators': 125}\n",
      "0.825 (+/-0.030) for {'learning_rate': 0.1, 'n_estimators': 150}\n",
      "0.828 (+/-0.050) for {'learning_rate': 0.11, 'n_estimators': 100}\n",
      "0.825 (+/-0.038) for {'learning_rate': 0.11, 'n_estimators': 125}\n",
      "0.826 (+/-0.041) for {'learning_rate': 0.11, 'n_estimators': 150}\n",
      "Elapsed time: 7.1831 seconds\n",
      "\n",
      "[[204  56]\n",
      " [ 45 113]]\n",
      "True positive:  113\n",
      "True negative:  204\n",
      "False positive:  56\n",
      "False negative:  45\n",
      "Accuracy = (tp + tn) / (p + n), Accuracy =  0.758373\n",
      "Precision = tp / (tp + fp), Precision =  0.668639\n",
      "Recall = tp / (tp + fn), Recall =  0.71519\n",
      "ROC =  0.749903\n",
      "{'Logistic Regression': 0.83165, 'Random Forest': 0.830527, 'SVM': 0.830527, 'XGBoost': 0.830527}\n"
     ]
    }
   ],
   "source": [
    "# tuned_parameters = {\n",
    "#     \"learning_rate\": [0.1, 0.01],\n",
    "#     \"n_estimators\" : [100, 500, 1000, 5000]\n",
    "# }\n",
    "# tuned_parameters = {\n",
    "#     \"learning_rate\": [0.5, 0.1, 0.05, 0.01],\n",
    "#     \"n_estimators\" : [100, 200, 300, 500]\n",
    "# }\n",
    "# tuned_parameters = {\n",
    "#     \"learning_rate\": [0.07, 0.1, 0.12],\n",
    "#     \"n_estimators\" : [75, 100, 125, 150]\n",
    "# }\n",
    "tuned_parameters = {\n",
    "    \"learning_rate\": [0.08, 0.09, 0.1, 0.11],\n",
    "    \"n_estimators\" : [100, 125, 150]\n",
    "}\n",
    "model_xgb = XGBClassifier(learning_rate=0.01,\n",
    "                          n_estimators=5000,\n",
    "                          max_depth=5,\n",
    "                          min_child_weight=1,\n",
    "                          gamma=0.2,\n",
    "                          subsample=0.6,\n",
    "                          colsample_bytree=0.9,\n",
    "                          objective= 'binary:logistic',\n",
    "                          nthread=4,\n",
    "                          scale_pos_weight=1,\n",
    "                          reg_alpha=0,\n",
    "                          reg_lambda=1,\n",
    "                          seed=27)\n",
    "xgb_worker = ModelWorker(model_xgb, scores)\n",
    "xgb_grid, best_score = xgb_worker.tune(tuned_parameters, train_df[features], train_df['Survived'],\n",
    "                                       test_df[features], test_df['GroundTruth'], 5)\n",
    "model_metrics[\"XGBoost\"] = round(best_score[\"accuracy\"], 6)\n",
    "print(model_metrics)"
   ]
  },
  {
   "cell_type": "markdown",
   "metadata": {},
   "source": [
    "## 4.5 LightGBM\n",
    "Take note that CatBoost cannot be used on one-hot encoded dataset. LightGBM is applied in this case.\n",
    "### 4.5.1 Fit a baseline model"
   ]
  },
  {
   "cell_type": "code",
   "execution_count": 27,
   "metadata": {},
   "outputs": [
    {
     "name": "stdout",
     "output_type": "stream",
     "text": [
      "Fitted model:  LGBMClassifier(boosting_type='gbdt', class_weight=None, colsample_bytree=1.0,\n",
      "               importance_type='split', learning_rate=0.1, max_depth=-1,\n",
      "               min_child_samples=20, min_child_weight=0.001, min_split_gain=0.0,\n",
      "               n_estimators=100, n_jobs=-1, num_leaves=31, objective=None,\n",
      "               random_state=None, reg_alpha=0.0, reg_lambda=0.0, silent=True,\n",
      "               subsample=1.0, subsample_for_bin=200000, subsample_freq=0)\n",
      "[[186  74]\n",
      " [ 32 126]]\n",
      "True positive:  126\n",
      "True negative:  186\n",
      "False positive:  74\n",
      "False negative:  32\n",
      "Accuracy = (tp + tn) / (p + n), Accuracy =  0.746411\n",
      "Precision = tp / (tp + fp), Precision =  0.63\n",
      "Recall = tp / (tp + fn), Recall =  0.797468\n",
      "ROC =  0.756426\n"
     ]
    }
   ],
   "source": [
    "lgb_worker = ModelWorker(LGBMClassifier(), scores)\n",
    "lgb_worker.fit(train_df[features], train_df['Survived'],\n",
    "               test_df[features], test_df['GroundTruth'])"
   ]
  },
  {
   "cell_type": "markdown",
   "metadata": {},
   "source": [
    "### 4.5.2 Tune tree-specific parameters "
   ]
  },
  {
   "cell_type": "code",
   "execution_count": 28,
   "metadata": {},
   "outputs": [
    {
     "name": "stdout",
     "output_type": "stream",
     "text": [
      "# Tuning hyper-parameters for accuracy\n",
      "\n",
      "Best parameters set found on development set:\n",
      "\n",
      "{'subsample': 0.8, 'reg_lambda': 1, 'reg_alpha': 0.1, 'num_leaves': 25, 'min_child_weight': 3, 'min_child_samples': 20, 'colsample_bytree': 0.6}\n",
      "\n",
      "Grid scores on development set:\n",
      "\n",
      "0.827 (+/-0.024) for {'subsample': 0.8, 'reg_lambda': 1, 'reg_alpha': 1, 'num_leaves': 15, 'min_child_weight': 5, 'min_child_samples': 20, 'colsample_bytree': 0.7}\n",
      "0.824 (+/-0.048) for {'subsample': 0.8, 'reg_lambda': 0.01, 'reg_alpha': 0.1, 'num_leaves': 35, 'min_child_weight': 3, 'min_child_samples': 3, 'colsample_bytree': 0.9}\n",
      "0.832 (+/-0.031) for {'subsample': 0.8, 'reg_lambda': 1, 'reg_alpha': 0.1, 'num_leaves': 25, 'min_child_weight': 3, 'min_child_samples': 20, 'colsample_bytree': 0.6}\n",
      "0.832 (+/-0.039) for {'subsample': 0.9, 'reg_lambda': 1, 'reg_alpha': 0.1, 'num_leaves': 15, 'min_child_weight': 3, 'min_child_samples': 10, 'colsample_bytree': 0.9}\n",
      "0.822 (+/-0.048) for {'subsample': 0.7, 'reg_lambda': 0.01, 'reg_alpha': 1e-05, 'num_leaves': 35, 'min_child_weight': 3, 'min_child_samples': 3, 'colsample_bytree': 0.6}\n",
      "0.616 (+/-0.003) for {'subsample': 0.9, 'reg_lambda': 1e-05, 'reg_alpha': 100, 'num_leaves': 35, 'min_child_weight': 1, 'min_child_samples': 10, 'colsample_bytree': 0.6}\n",
      "0.616 (+/-0.003) for {'subsample': 0.9, 'reg_lambda': 1e-05, 'reg_alpha': 100, 'num_leaves': 5, 'min_child_weight': 3, 'min_child_samples': 20, 'colsample_bytree': 0.9}\n",
      "0.819 (+/-0.021) for {'subsample': 0.7, 'reg_lambda': 1e-05, 'reg_alpha': 1e-05, 'num_leaves': 25, 'min_child_weight': 5, 'min_child_samples': 5, 'colsample_bytree': 0.8}\n",
      "0.616 (+/-0.003) for {'subsample': 0.8, 'reg_lambda': 0.01, 'reg_alpha': 100, 'num_leaves': 35, 'min_child_weight': 1, 'min_child_samples': 15, 'colsample_bytree': 0.7}\n",
      "0.825 (+/-0.029) for {'subsample': 0.8, 'reg_lambda': 100, 'reg_alpha': 0.01, 'num_leaves': 5, 'min_child_weight': 1, 'min_child_samples': 15, 'colsample_bytree': 0.6}\n",
      "Elapsed time: 8.3794 seconds\n",
      "\n",
      "[[199  61]\n",
      " [ 36 122]]\n",
      "True positive:  122\n",
      "True negative:  199\n",
      "False positive:  61\n",
      "False negative:  36\n",
      "Accuracy = (tp + tn) / (p + n), Accuracy =  0.767943\n",
      "Precision = tp / (tp + fp), Precision =  0.666667\n",
      "Recall = tp / (tp + fn), Recall =  0.772152\n",
      "ROC =  0.768768\n",
      "{'Logistic Regression': 0.83165, 'Random Forest': 0.830527, 'SVM': 0.830527, 'XGBoost': 0.830527, 'LightGBM': 0.83165}\n"
     ]
    }
   ],
   "source": [
    "tuned_parameters = {\n",
    "    \"num_leaves\": [int(x) for x in np.linspace(5, 55, num=6)], \n",
    "    \"min_child_samples\": [3, 5, 10, 15, 20], \n",
    "    \"min_child_weight\": range(1, 6, 2),\n",
    "    \"subsample\": [i/10.0 for i in range(6, 10)], \n",
    "    \"colsample_bytree\": [i/10.0 for i in range(6, 10)],\n",
    "    \"reg_alpha\": [1e-5, 1e-2, 0.1, 1, 100],\n",
    "    \"reg_lambda\": [1e-5, 1e-2, 0.1, 1, 100]\n",
    "}\n",
    "lgb_worker = ModelWorker(LGBMClassifier(learning_rate=0.1, n_estimators=100, seed=27), scores)\n",
    "lgb_random, best_score = lgb_worker.tune(tuned_parameters, train_df[features], train_df['Survived'],\n",
    "                                       test_df[features], test_df['GroundTruth'], 5, False)\n",
    "model_metrics[\"LightGBM\"] = round(best_score[\"accuracy\"], 6)\n",
    "print(model_metrics)"
   ]
  },
  {
   "cell_type": "markdown",
   "metadata": {},
   "source": [
    "### 4.5.3 Search for optimal pair of learning_rate & n_estimators"
   ]
  },
  {
   "cell_type": "code",
   "execution_count": 29,
   "metadata": {},
   "outputs": [
    {
     "name": "stdout",
     "output_type": "stream",
     "text": [
      "# Tuning hyper-parameters for accuracy\n",
      "\n",
      "Best parameters set found on development set:\n",
      "\n",
      "{'learning_rate': 0.005, 'n_estimators': 750}\n",
      "\n",
      "Grid scores on development set:\n",
      "\n",
      "0.823 (+/-0.040) for {'learning_rate': 0.005, 'n_estimators': 750}\n",
      "0.822 (+/-0.051) for {'learning_rate': 0.005, 'n_estimators': 1000}\n",
      "0.822 (+/-0.042) for {'learning_rate': 0.005, 'n_estimators': 1250}\n",
      "0.823 (+/-0.039) for {'learning_rate': 0.01, 'n_estimators': 750}\n",
      "0.814 (+/-0.048) for {'learning_rate': 0.01, 'n_estimators': 1000}\n",
      "0.813 (+/-0.043) for {'learning_rate': 0.01, 'n_estimators': 1250}\n",
      "0.806 (+/-0.056) for {'learning_rate': 0.02, 'n_estimators': 750}\n",
      "0.806 (+/-0.058) for {'learning_rate': 0.02, 'n_estimators': 1000}\n",
      "0.807 (+/-0.055) for {'learning_rate': 0.02, 'n_estimators': 1250}\n",
      "Elapsed time: 180.9215 seconds\n",
      "\n",
      "[[208  52]\n",
      " [ 41 117]]\n",
      "True positive:  117\n",
      "True negative:  208\n",
      "False positive:  52\n",
      "False negative:  41\n",
      "Accuracy = (tp + tn) / (p + n), Accuracy =  0.777512\n",
      "Precision = tp / (tp + fp), Precision =  0.692308\n",
      "Recall = tp / (tp + fn), Recall =  0.740506\n",
      "ROC =  0.770253\n",
      "{'Logistic Regression': 0.83165, 'Random Forest': 0.830527, 'SVM': 0.830527, 'XGBoost': 0.830527, 'LightGBM': 0.822671}\n"
     ]
    }
   ],
   "source": [
    "# tuned_parameters = {\n",
    "#     \"learning_rate\": [0.01, 0.05, 0.1, 0.2],\n",
    "#     \"n_estimators\" : [100, 500, 1000]\n",
    "# }\n",
    "tuned_parameters = {\n",
    "    \"learning_rate\": [0.005, 0.01, 0.02],\n",
    "    \"n_estimators\" : [750, 1000, 1250]\n",
    "}\n",
    "model_lgb = LGBMClassifier(learning_rate=0.1,\n",
    "                           n_estimators=100,\n",
    "                           subsample=0.6,\n",
    "                           reg_lambda=1e-05,\n",
    "                           reg_alpha=0.1,\n",
    "                           num_leaves=45,\n",
    "                           min_child_weight=1,\n",
    "                           min_child_samples=10,\n",
    "                           colsample_bytree=0.7,\n",
    "                           seed=27)\n",
    "lgb_worker = ModelWorker(model_lgb, scores)\n",
    "lgb_grid, best_score = lgb_worker.tune(tuned_parameters, train_df[features], train_df['Survived'],\n",
    "                                       test_df[features], test_df['GroundTruth'], 5)\n",
    "model_metrics[\"LightGBM\"] = round(best_score[\"accuracy\"], 6)\n",
    "print(model_metrics)"
   ]
  },
  {
   "cell_type": "markdown",
   "metadata": {},
   "source": [
    "Plot feature importance graph."
   ]
  },
  {
   "cell_type": "code",
   "execution_count": 30,
   "metadata": {},
   "outputs": [
    {
     "data": {
      "image/png": "[encoded data removed]",
      "text/plain": [
       "<Figure size 720x432 with 1 Axes>"
      ]
     },
     "metadata": {},
     "output_type": "display_data"
    }
   ],
   "source": [
    "import lightgbm as lgb\n",
    "\n",
    "ax = lgb.plot_importance(lgb_grid.best_estimator_, height = 0.8, max_num_features = 15, \n",
    "                         figsize = (10,6))\n",
    "plt.show()"
   ]
  },
  {
   "cell_type": "markdown",
   "metadata": {},
   "source": [
    "## 4.6 Build Ensemble Model\n",
    "The class-probabilities of the first-level classifiers are used to train the meta-classifier (2nd-level classifier)"
   ]
  },
  {
   "cell_type": "code",
   "execution_count": 31,
   "metadata": {},
   "outputs": [
    {
     "name": "stdout",
     "output_type": "stream",
     "text": [
      "5-fold cross validation:\n",
      "\n",
      "Accuracy: 0.831653 (+/- 0.022082) [Logistic Regression]\n",
      "Accuracy: 0.829482 (+/- 0.020632) [Random Forest]\n",
      "Accuracy: 0.830523 (+/- 0.019916) [SVM]\n",
      "Accuracy: 0.830555 (+/- 0.021757) [XGBoost]\n",
      "Accuracy: 0.822727 (+/- 0.019795) [LightGBM]\n",
      "Accuracy: 0.820505 (+/- 0.022688) [StackingClassifier]\n"
     ]
    }
   ],
   "source": [
    "clf1 = logreg_grid.best_estimator_\n",
    "clf2 = rf_random.best_estimator_\n",
    "clf3 = svm_grid.best_estimator_\n",
    "clf4 = xgb_grid.best_estimator_\n",
    "clf5 = lgb_grid.best_estimator_\n",
    "lr = LogisticRegression()\n",
    "sclf = StackingClassifier(classifiers=[clf1, clf2, clf3, clf4, clf5],\n",
    "                          use_probas=True,\n",
    "                          average_probas=False,\n",
    "                          meta_classifier=lr)\n",
    "\n",
    "print('5-fold cross validation:\\n')\n",
    "\n",
    "for clf, label in zip([clf1, clf2, clf3, clf4, clf5, sclf], \n",
    "                      ['Logistic Regression', \n",
    "                       'Random Forest', \n",
    "                       'SVM',\n",
    "                       'XGBoost',\n",
    "                       'LightGBM',\n",
    "                       'StackingClassifier']):\n",
    "\n",
    "    scores = model_selection.cross_val_score(clf, train_df[features], train_df['Survived'], \n",
    "                                              cv=5, scoring='accuracy')\n",
    "    print(\"Accuracy: %0.6f (+/- %0.6f) [%s]\" \n",
    "          % (scores.mean(), scores.std(), label))"
   ]
  },
  {
   "cell_type": "markdown",
   "metadata": {},
   "source": [
    "# References\n",
    "https://medium.com/all-things-ai/in-depth-parameter-tuning-for-random-forest-d67bb7e920d\n",
    "    \n",
    "https://towardsdatascience.com/hyperparameter-tuning-the-random-forest-in-python-using-scikit-learn-28d2aa77dd74\n",
    "\n",
    "https://medium.com/@praveen.orvakanti/this-will-help-you-score-95-percentile-in-the-kaggle-titanic-ml-competition-aa2b3fd1b79b"
   ]
  }
 ],
 "metadata": {
  "kernelspec": {
   "display_name": "Python 3",
   "language": "python",
   "name": "python3"
  },
  "language_info": {
   "codemirror_mode": {
    "name": "ipython",
    "version": 3
   },
   "file_extension": ".py",
   "mimetype": "text/x-python",
   "name": "python",
   "nbconvert_exporter": "python",
   "pygments_lexer": "ipython3",
   "version": "3.7.0"
  }
 },
 "nbformat": 4,
 "nbformat_minor": 2
}
